{
 "cells": [
  {
   "cell_type": "code",
   "execution_count": 3,
   "metadata": {
    "colab": {
     "base_uri": "https://localhost:8080/"
    },
    "executionInfo": {
     "elapsed": 24265,
     "status": "ok",
     "timestamp": 1610010152897,
     "user": {
      "displayName": "Andrew Bondar",
      "photoUrl": "https://lh3.googleusercontent.com/a-/AOh14Gg61O-WQmTXqSISynGd6bc0Wn8wAOkatAvd52-1ng=s64",
      "userId": "09987347325200730923"
     },
     "user_tz": -180
    },
    "id": "2k0W92LG_iJe",
    "outputId": "fc600817-2126-4cac-a1a4-4f8b796dcec2"
   },
   "outputs": [
    {
     "name": "stdout",
     "output_type": "stream",
     "text": [
      "Mounted at /drive\n"
     ]
    }
   ],
   "source": [
    "#Mounting google drive \n",
    "from google.colab import drive\n",
    "drive.mount('/drive')"
   ]
  },
  {
   "cell_type": "code",
   "execution_count": null,
   "metadata": {
    "id": "Z6_WIeHYGHqC"
   },
   "outputs": [],
   "source": [
    "#Installing deeppavlov library\n",
    "!pip install -q deeppavlov"
   ]
  },
  {
   "cell_type": "code",
   "execution_count": null,
   "metadata": {
    "id": "3fEmdDPXGJ4J"
   },
   "outputs": [],
   "source": [
    "#Installing relevant version of tensorflow with gpu access\n",
    "!pip install tensorflow-gpu==1.15.2"
   ]
  },
  {
   "cell_type": "code",
   "execution_count": null,
   "metadata": {
    "id": "3Q4HPoGEGM2D"
   },
   "outputs": [],
   "source": [
    "#Downloading the dependencies required for 'ner_rus_bert' model\n",
    "!python -m deeppavlov install ner_rus_bert"
   ]
  },
  {
   "cell_type": "code",
   "execution_count": null,
   "metadata": {
    "id": "00XHWF6dGOay"
   },
   "outputs": [],
   "source": [
    "#Installing additional library 'pytils' for detranslification of english words into russian\n",
    "!pip install -q pytils"
   ]
  },
  {
   "cell_type": "code",
   "execution_count": null,
   "metadata": {
    "id": "ykg9wjFDGSLr"
   },
   "outputs": [],
   "source": [
    "#Installing library which measures Levenshtein distance. Will be in use in the code.\n",
    "!pip install python-Levenshtein"
   ]
  },
  {
   "cell_type": "code",
   "execution_count": null,
   "metadata": {},
   "outputs": [],
   "source": [
    "#Importing libraries\n",
    "import pandas as pd\n",
    "import numpy as np\n",
    "import tensorflow as tf\n",
    "import os\n",
    "from re import sub\n",
    "import re\n",
    "import tqdm\n",
    "import pytils.translit\n",
    "from collections import OrderedDict\n",
    "import Levenshtein\n",
    "import itertools\n",
    "import json\n",
    "from deeppavlov import configs, build_model, train_model"
   ]
  },
  {
   "cell_type": "code",
   "execution_count": null,
   "metadata": {
    "colab": {
     "base_uri": "https://localhost:8080/",
     "height": 36
    },
    "executionInfo": {
     "elapsed": 2336,
     "status": "ok",
     "timestamp": 1609865363364,
     "user": {
      "displayName": "Andrew Bondar",
      "photoUrl": "https://lh3.googleusercontent.com/a-/AOh14Gg61O-WQmTXqSISynGd6bc0Wn8wAOkatAvd52-1ng=s64",
      "userId": "09987347325200730923"
     },
     "user_tz": -180
    },
    "id": "QUa-dN86W0Ex",
    "outputId": "e50bc225-f180-47ac-91bc-8a3b6b76fa19"
   },
   "outputs": [
    {
     "data": {
      "application/vnd.google.colaboratory.intrinsic+json": {
       "type": "string"
      },
      "text/plain": [
       "'/device:GPU:0'"
      ]
     },
     "execution_count": 8,
     "metadata": {
      "tags": []
     },
     "output_type": "execute_result"
    }
   ],
   "source": [
    "#Test of gpu\n",
    "tf.test.gpu_device_name()"
   ]
  },
  {
   "cell_type": "code",
   "execution_count": null,
   "metadata": {
    "colab": {
     "base_uri": "https://localhost:8080/"
    },
    "executionInfo": {
     "elapsed": 791,
     "status": "ok",
     "timestamp": 1609865373900,
     "user": {
      "displayName": "Andrew Bondar",
      "photoUrl": "https://lh3.googleusercontent.com/a-/AOh14Gg61O-WQmTXqSISynGd6bc0Wn8wAOkatAvd52-1ng=s64",
      "userId": "09987347325200730923"
     },
     "user_tz": -180
    },
    "id": "Li2CKU6qBBl8",
    "outputId": "a1400379-c549-4ce6-d618-a8c9628d91b1"
   },
   "outputs": [
    {
     "name": "stdout",
     "output_type": "stream",
     "text": [
      "27.393773568\n"
     ]
    }
   ],
   "source": [
    "#Test of memory\n",
    "from psutil import virtual_memory\n",
    "ram_gb = virtual_memory().total / 1e9\n",
    "print(ram_gb)"
   ]
  },
  {
   "cell_type": "code",
   "execution_count": null,
   "metadata": {
    "colab": {
     "base_uri": "https://localhost:8080/"
    },
    "executionInfo": {
     "elapsed": 1384,
     "status": "ok",
     "timestamp": 1609865392321,
     "user": {
      "displayName": "Andrew Bondar",
      "photoUrl": "https://lh3.googleusercontent.com/a-/AOh14Gg61O-WQmTXqSISynGd6bc0Wn8wAOkatAvd52-1ng=s64",
      "userId": "09987347325200730923"
     },
     "user_tz": -180
    },
    "id": "23TOba33L4qf",
    "outputId": "6fcb0775-97b6-40fb-ea47-26c875c2a839"
   },
   "outputs": [
    {
     "name": "stdout",
     "output_type": "stream",
     "text": [
      "Tue Jan  5 16:49:51 2021       \n",
      "+-----------------------------------------------------------------------------+\n",
      "| NVIDIA-SMI 460.27.04    Driver Version: 418.67       CUDA Version: 10.1     |\n",
      "|-------------------------------+----------------------+----------------------+\n",
      "| GPU  Name        Persistence-M| Bus-Id        Disp.A | Volatile Uncorr. ECC |\n",
      "| Fan  Temp  Perf  Pwr:Usage/Cap|         Memory-Usage | GPU-Util  Compute M. |\n",
      "|                               |                      |               MIG M. |\n",
      "|===============================+======================+======================|\n",
      "|   0  Tesla P100-PCIE...  Off  | 00000000:00:04.0 Off |                    0 |\n",
      "| N/A   37C    P0    36W / 250W |    265MiB / 16280MiB |      0%      Default |\n",
      "|                               |                      |                 ERR! |\n",
      "+-------------------------------+----------------------+----------------------+\n",
      "                                                                               \n",
      "+-----------------------------------------------------------------------------+\n",
      "| Processes:                                                                  |\n",
      "|  GPU   GI   CI        PID   Type   Process name                  GPU Memory |\n",
      "|        ID   ID                                                   Usage      |\n",
      "|=============================================================================|\n",
      "|  No running processes found                                                 |\n",
      "+-----------------------------------------------------------------------------+\n"
     ]
    }
   ],
   "source": [
    "#Gpu info\n",
    "gpu_info = !nvidia-smi\n",
    "gpu_info = '\\n'.join(gpu_info)\n",
    "if gpu_info.find('failed') >= 0:\n",
    "    print('Select the Runtime > \"Change runtime type\" menu to enable a GPU accelerator, ')\n",
    "    print('and then re-execute this cell.')\n",
    "else:\n",
    "    print(gpu_info)"
   ]
  },
  {
   "cell_type": "code",
   "execution_count": null,
   "metadata": {
    "id": "sxBrDYbb1LRC"
   },
   "outputs": [],
   "source": [
    "#Changing the configuration of the config and the data path\n",
    "with open(configs.ner.ner_rus_bert, 'r+') as f:\n",
    "    ner_config = json.load(f)\n",
    "\n",
    "    ner_config['metadata']['variables']['ROOT_PATH'] = \"/drive/My Drive/Colab_Notebooks/deeppavlov_ner/model_data\"\n",
    "\n",
    "    ner_config['chainer']['pipe'][0]['do_lower_case'] = False\n",
    "    ner_config['chainer']['pipe'][0]['max_seq_length'] = 512 # was 512\n",
    "    ner_config['chainer']['pipe'][2]['learning_rate_drop_patience'] = 14 # was 30\n",
    "    ner_config['chainer']['pipe'][2]['learning_rate_drop_div'] = 1.2 # was 1.5\n",
    "    ner_config['train']['val_every_n_batches'] = 20 # was 20\n",
    "    ner_config['train']['log_every_n_batches'] = 20\n",
    "    ner_config['train']['epochs'] = 30 # was 30\n",
    "\n",
    "    f.seek(0)  # rewind\n",
    "    json.dump(ner_config, f)\n",
    "    f.truncate()"
   ]
  },
  {
   "cell_type": "code",
   "execution_count": null,
   "metadata": {
    "id": "KWNfKlbmGYs4"
   },
   "outputs": [],
   "source": [
    "#Downloading and building the model\n",
    "\n",
    "#ner_model.destroy()\n",
    "ner_model = build_model(configs.ner.ner_rus_bert, download=True)"
   ]
  },
  {
   "cell_type": "markdown",
   "metadata": {
    "id": "NYHqBf8GeFbJ"
   },
   "source": [
    "Running javascript snippet to continue running the notebook while training"
   ]
  },
  {
   "cell_type": "code",
   "execution_count": null,
   "metadata": {
    "colab": {
     "base_uri": "https://localhost:8080/",
     "height": 17
    },
    "executionInfo": {
     "elapsed": 1099,
     "status": "ok",
     "timestamp": 1609456011530,
     "user": {
      "displayName": "Andrew Bondar",
      "photoUrl": "https://lh3.googleusercontent.com/a-/AOh14Gg61O-WQmTXqSISynGd6bc0Wn8wAOkatAvd52-1ng=s64",
      "userId": "09987347325200730923"
     },
     "user_tz": -180
    },
    "id": "nE0_F5ZzIflK",
    "outputId": "78a7b570-aeb1-4ef4-bd93-c769abec3bc0"
   },
   "outputs": [
    {
     "data": {
      "application/javascript": [
       "function ClickConnect(){\n",
       "console.log(\"Working\");\n",
       "document.querySelector(\"colab-toolbar-button#connect\").click()\n",
       "}setInterval(ClickConnect,60000)"
      ],
      "text/plain": [
       "<IPython.core.display.Javascript object>"
      ]
     },
     "metadata": {
      "tags": []
     },
     "output_type": "display_data"
    }
   ],
   "source": [
    "%%javascript\n",
    "function ClickConnect(){\n",
    "console.log(\"Working\");\n",
    "document.querySelector(\"colab-toolbar-button#connect\").click()\n",
    "}setInterval(ClickConnect,60000)"
   ]
  },
  {
   "cell_type": "code",
   "execution_count": null,
   "metadata": {
    "id": "6M6Hyzx4GiQR"
   },
   "outputs": [],
   "source": [
    "#Training the model\n",
    "ner_model = train_model(configs.ner.ner_rus_bert)"
   ]
  },
  {
   "cell_type": "code",
   "execution_count": null,
   "metadata": {},
   "outputs": [],
   "source": [
    "#Plotting training graphs"
   ]
  },
  {
   "cell_type": "code",
   "execution_count": 13,
   "metadata": {},
   "outputs": [],
   "source": [
    "import matplotlib.pyplot as plt\n",
    "from datetime import datetime, timedelta\n",
    "import matplotlib.dates as mdates\n",
    "from matplotlib.ticker import MaxNLocator"
   ]
  },
  {
   "cell_type": "code",
   "execution_count": 14,
   "metadata": {},
   "outputs": [],
   "source": [
    "os.chdir('/training_logs')\n",
    "df_loss = pd.read_csv('loss.csv', sep = ',')\n",
    "\n",
    "df_loss['Time'] = [(datetime.fromtimestamp(i)).strftime('%H:%M') for i in df_loss['Wall time']]\n",
    "df_loss['Time'] = pd.to_datetime(df_loss['Time'], format = '%H:%M')"
   ]
  },
  {
   "cell_type": "code",
   "execution_count": 15,
   "metadata": {},
   "outputs": [
    {
     "data": {
      "text/html": [
       "<div>\n",
       "<style scoped>\n",
       "    .dataframe tbody tr th:only-of-type {\n",
       "        vertical-align: middle;\n",
       "    }\n",
       "\n",
       "    .dataframe tbody tr th {\n",
       "        vertical-align: top;\n",
       "    }\n",
       "\n",
       "    .dataframe thead th {\n",
       "        text-align: right;\n",
       "    }\n",
       "</style>\n",
       "<table border=\"1\" class=\"dataframe\">\n",
       "  <thead>\n",
       "    <tr style=\"text-align: right;\">\n",
       "      <th></th>\n",
       "      <th>Wall time</th>\n",
       "      <th>Step</th>\n",
       "      <th>Value</th>\n",
       "      <th>Time</th>\n",
       "    </tr>\n",
       "  </thead>\n",
       "  <tbody>\n",
       "    <tr>\n",
       "      <th>0</th>\n",
       "      <td>1.609456e+09</td>\n",
       "      <td>20</td>\n",
       "      <td>38.146557</td>\n",
       "      <td>1900-01-01 02:10:00</td>\n",
       "    </tr>\n",
       "    <tr>\n",
       "      <th>1</th>\n",
       "      <td>1.609456e+09</td>\n",
       "      <td>40</td>\n",
       "      <td>18.398954</td>\n",
       "      <td>1900-01-01 02:14:00</td>\n",
       "    </tr>\n",
       "    <tr>\n",
       "      <th>2</th>\n",
       "      <td>1.609457e+09</td>\n",
       "      <td>60</td>\n",
       "      <td>15.694152</td>\n",
       "      <td>1900-01-01 02:18:00</td>\n",
       "    </tr>\n",
       "    <tr>\n",
       "      <th>3</th>\n",
       "      <td>1.609457e+09</td>\n",
       "      <td>80</td>\n",
       "      <td>12.590878</td>\n",
       "      <td>1900-01-01 02:22:00</td>\n",
       "    </tr>\n",
       "    <tr>\n",
       "      <th>4</th>\n",
       "      <td>1.609457e+09</td>\n",
       "      <td>100</td>\n",
       "      <td>11.603771</td>\n",
       "      <td>1900-01-01 02:25:00</td>\n",
       "    </tr>\n",
       "    <tr>\n",
       "      <th>...</th>\n",
       "      <td>...</td>\n",
       "      <td>...</td>\n",
       "      <td>...</td>\n",
       "      <td>...</td>\n",
       "    </tr>\n",
       "    <tr>\n",
       "      <th>87</th>\n",
       "      <td>1.609475e+09</td>\n",
       "      <td>1760</td>\n",
       "      <td>2.843763</td>\n",
       "      <td>1900-01-01 07:22:00</td>\n",
       "    </tr>\n",
       "    <tr>\n",
       "      <th>88</th>\n",
       "      <td>1.609475e+09</td>\n",
       "      <td>1780</td>\n",
       "      <td>2.470375</td>\n",
       "      <td>1900-01-01 07:26:00</td>\n",
       "    </tr>\n",
       "    <tr>\n",
       "      <th>89</th>\n",
       "      <td>1.609475e+09</td>\n",
       "      <td>1800</td>\n",
       "      <td>3.145641</td>\n",
       "      <td>1900-01-01 07:29:00</td>\n",
       "    </tr>\n",
       "    <tr>\n",
       "      <th>90</th>\n",
       "      <td>1.609476e+09</td>\n",
       "      <td>1820</td>\n",
       "      <td>2.640328</td>\n",
       "      <td>1900-01-01 07:33:00</td>\n",
       "    </tr>\n",
       "    <tr>\n",
       "      <th>91</th>\n",
       "      <td>1.609476e+09</td>\n",
       "      <td>1840</td>\n",
       "      <td>2.692926</td>\n",
       "      <td>1900-01-01 07:37:00</td>\n",
       "    </tr>\n",
       "  </tbody>\n",
       "</table>\n",
       "<p>92 rows × 4 columns</p>\n",
       "</div>"
      ],
      "text/plain": [
       "       Wall time  Step      Value                Time\n",
       "0   1.609456e+09    20  38.146557 1900-01-01 02:10:00\n",
       "1   1.609456e+09    40  18.398954 1900-01-01 02:14:00\n",
       "2   1.609457e+09    60  15.694152 1900-01-01 02:18:00\n",
       "3   1.609457e+09    80  12.590878 1900-01-01 02:22:00\n",
       "4   1.609457e+09   100  11.603771 1900-01-01 02:25:00\n",
       "..           ...   ...        ...                 ...\n",
       "87  1.609475e+09  1760   2.843763 1900-01-01 07:22:00\n",
       "88  1.609475e+09  1780   2.470375 1900-01-01 07:26:00\n",
       "89  1.609475e+09  1800   3.145641 1900-01-01 07:29:00\n",
       "90  1.609476e+09  1820   2.640328 1900-01-01 07:33:00\n",
       "91  1.609476e+09  1840   2.692926 1900-01-01 07:37:00\n",
       "\n",
       "[92 rows x 4 columns]"
      ]
     },
     "execution_count": 15,
     "metadata": {},
     "output_type": "execute_result"
    }
   ],
   "source": [
    "df_loss"
   ]
  },
  {
   "cell_type": "code",
   "execution_count": 16,
   "metadata": {},
   "outputs": [
    {
     "data": {
      "image/png": "[encoded data removed]",
      "text/plain": [
       "<Figure size 864x576 with 1 Axes>"
      ]
     },
     "metadata": {
      "needs_background": "light"
     },
     "output_type": "display_data"
    }
   ],
   "source": [
    "x = df_loss['Time']\n",
    "y = df_loss['Value']\n",
    "\n",
    "fig, ax = plt.subplots(figsize=(12,8))\n",
    "plt.plot(x,y, linewidth=2, color = 'darkorange', label = 'Loss')\n",
    "plt.xlabel('Time', fontsize=12)\n",
    "plt.ylabel('Loss', fontsize=12)\n",
    "\n",
    "\n",
    "hour_formatter = mdates.DateFormatter('%H:%M')\n",
    "ax.xaxis.set_major_formatter(hour_formatter)\n",
    "locator = MaxNLocator(nbins=10)\n",
    "ax.xaxis.set_major_locator(locator)\n",
    "plt.gcf().autofmt_xdate()\n",
    "plt.title('Loss behavior in time', fontdict = {'fontsize' : 13})\n",
    "plt.legend(loc = 1, prop={'size': 12})\n",
    "plt.show()"
   ]
  },
  {
   "cell_type": "code",
   "execution_count": 17,
   "metadata": {},
   "outputs": [],
   "source": [
    "df_valid_f1 = pd.read_csv('valid_f1.csv', sep = ',')\n",
    "df_valid_f1['Time'] = [(datetime.fromtimestamp(i)).strftime('%H:%M') for i in df_valid_f1['Wall time']]\n",
    "df_valid_f1['Time'] = pd.to_datetime(df_valid_f1['Time'], format = '%H:%M')\n",
    "\n",
    "df_train_f1 = pd.read_csv('train_f1.csv', sep = ',')\n",
    "df_train_f1['Time'] = [(datetime.fromtimestamp(i)).strftime('%H:%M') for i in df_valid_f1['Wall time']]\n",
    "df_train_f1['Time'] = pd.to_datetime(df_train_f1['Time'], format = '%H:%M')"
   ]
  },
  {
   "cell_type": "code",
   "execution_count": 18,
   "metadata": {},
   "outputs": [
    {
     "data": {
      "image/png": "[encoded data removed]",
      "text/plain": [
       "<Figure size 864x576 with 1 Axes>"
      ]
     },
     "metadata": {
      "needs_background": "light"
     },
     "output_type": "display_data"
    }
   ],
   "source": [
    "y_valid = df_valid_f1['Value']\n",
    "y_train = df_train_f1['Value']\n",
    "x = df_valid_f1['Time']\n",
    "\n",
    "fig, ax = plt.subplots(figsize=(12,8))\n",
    "plt.plot(x, y_valid, linewidth=2, color = 'darkorange', label = 'valid_f1')\n",
    "plt.plot(x, y_train, linewidth=2, color = 'mediumpurple', label = 'train_f1')\n",
    "\n",
    "plt.xlabel('Time', fontsize=12)\n",
    "plt.ylabel('Loss', fontsize=12)\n",
    "\n",
    "\n",
    "hour_formatter = mdates.DateFormatter('%H:%M')\n",
    "ax.xaxis.set_major_formatter(hour_formatter)\n",
    "locator = MaxNLocator(nbins=10)\n",
    "ax.xaxis.set_major_locator(locator)\n",
    "plt.gcf().autofmt_xdate()\n",
    "plt.title('F1 metric behavior in time', fontdict = {'fontsize' : 13})\n",
    "plt.legend(loc = 4, prop={'size': 12})\n",
    "plt.show()"
   ]
  },
  {
   "cell_type": "code",
   "execution_count": null,
   "metadata": {
    "id": "DM75J5pfaKMv"
   },
   "outputs": [],
   "source": [
    "#Data preprocessing for custom model evaluation on 1000 examples\n",
    "os.chdir('/data')\n",
    "df_examples = pd.read_excel('instagram_data.xlsx')\n",
    "df_examples = df_examples[0:1000]\n",
    "\n",
    "\n",
    "\n",
    "def remove_emojis(data):\n",
    "    emoj = re.compile(\"[\"\n",
    "        u\"\\U0001F600-\\U0001F64F\"  # emoticons\n",
    "        u\"\\U0001F300-\\U0001F5FF\"  # symbols & pictographs\n",
    "        u\"\\U0001F680-\\U0001F6FF\"  # transport & map symbols\n",
    "        u\"\\U0001F1E0-\\U0001F1FF\"  # flags (iOS)\n",
    "        u\"\\U00002500-\\U00002BEF\"  # chinese char\n",
    "        u\"\\U00002702-\\U000027B0\"\n",
    "        u\"\\U00002702-\\U000027B0\"\n",
    "        u\"\\U000024C2-\\U0001F251\"\n",
    "        u\"\\U0001f926-\\U0001f937\"\n",
    "        u\"\\U00010000-\\U0010ffff\"\n",
    "        u\"\\u2640-\\u2642\" \n",
    "        u\"\\u2600-\\u2B55\"\n",
    "        u\"\\u200d\"\n",
    "        u\"\\u23cf\"\n",
    "        u\"\\u23e9\"\n",
    "        u\"\\u231a\"\n",
    "        u\"\\ufe0f\"  # dingbats\n",
    "        u\"\\u3030\"\n",
    "                      \"]+\", re.UNICODE)\n",
    "    return re.sub(emoj, ' ', data)\n",
    "\n",
    "def replace_str_index(text,index=0,replacement=''):\n",
    "    return '%s%s%s'%(text[:index],replacement,text[index+1:])\n",
    "\n",
    "\n",
    "def replace_bad_characters(text):\n",
    "    '''replace 'й' by original 'й' and 'ё' by original 'ё' (some caracters have len() == 2 instead of  == 1)'''\n",
    "    text_corrected = []\n",
    "    for z in text:\n",
    "        if z == 'й'[1]: \n",
    "            text_corrected[-1] = 'й'     \n",
    "            continue \n",
    "        elif z == 'ё'[1]:\n",
    "            text_corrected[-1] = 'ё'     \n",
    "            continue\n",
    "        else:\n",
    "            text_corrected.append(z)      \n",
    "    text = ''.join(text_corrected)\n",
    "    return text\n",
    "\n",
    "def prepare_sentence(sentence):\n",
    "    \n",
    "    text = sentence.lower()\n",
    "    text = replace_bad_characters(text)\n",
    "    text = re.sub('[ё]', 'е', text)\n",
    "    text = re.sub('[ó]', 'о', text)\n",
    "    \n",
    "    text_1 = []\n",
    "    variable = 0\n",
    "    for z in text:\n",
    "          \n",
    "        if z == '\"' and variable == 0:\n",
    "            text_1.append(\"«\")\n",
    "            variable += 1\n",
    "            continue\n",
    "            \n",
    "        elif z == '\"' and variable >= 1:\n",
    "            text_1.append(\"»\")\n",
    "            variable += 1\n",
    "            continue\n",
    "            \n",
    "        else:\n",
    "            text_1.append(z)\n",
    "    text = ''.join(text_1)\n",
    "    \n",
    "    text = re.sub(r'[+\\(]?[0-9][0-9 .\\-\\(\\)]{4,15}[0-9]', ' ', text)\n",
    "    text = re.sub('[^\"\"«»а-яА-ЯA-Za-z0-9ёй ]+', ' ', text)\n",
    "    text = remove_emojis(text)\n",
    "    text = pytils.translit.detranslify(text)\n",
    "    text = sub(r'\\s+', ' ', text).strip().lower()\n",
    "    text = re.sub('[ё]', 'е', text)\n",
    "    text = re.sub('[ó]', 'о', text)\n",
    "    \n",
    "    \n",
    "    return f'{text}'\n",
    "\n",
    "prepared_for_ner = df_examples['full_text'].apply(lambda text: prepare_sentence(text))"
   ]
  },
  {
   "cell_type": "code",
   "execution_count": null,
   "metadata": {
    "colab": {
     "base_uri": "https://localhost:8080/",
     "height": 54
    },
    "executionInfo": {
     "elapsed": 2144,
     "status": "ok",
     "timestamp": 1609865988385,
     "user": {
      "displayName": "Andrew Bondar",
      "photoUrl": "https://lh3.googleusercontent.com/a-/AOh14Gg61O-WQmTXqSISynGd6bc0Wn8wAOkatAvd52-1ng=s64",
      "userId": "09987347325200730923"
     },
     "user_tz": -180
    },
    "id": "Oy9zOaJtmtZC",
    "outputId": "9a1318b6-3cc4-4181-a593-091c7b6a0ff6"
   },
   "outputs": [
    {
     "data": {
      "application/vnd.google.colaboratory.intrinsic+json": {
       "type": "string"
      },
      "text/plain": [
       "'др алладемидова кардиолог терапевт москва научу управлять своим здоровьем и лечиться правильно врач с чувством юмора онлайн курс консультации очно и онлайн директ ватсап москоw руссиан хттпс апи wхацапп cом сенд пхоне'"
      ]
     },
     "execution_count": 16,
     "metadata": {
      "tags": []
     },
     "output_type": "execute_result"
    }
   ],
   "source": [
    "prepared_for_ner[2]"
   ]
  },
  {
   "cell_type": "code",
   "execution_count": null,
   "metadata": {
    "id": "2grm8KTaaWId"
   },
   "outputs": [],
   "source": [
    "#Function used for prediction retrieval \n",
    "def predict_():\n",
    "    \n",
    "    tags_dict = {k:v for v,k in dict(ner_model['tag_vocab']).items()}\n",
    "    global predicted_per_org_loc\n",
    "    predicted_per_org_loc = ([], [], [])\n",
    "\n",
    "    for text in tqdm.tqdm_notebook(prepared_for_ner[0:], desc = 'Готово'):\n",
    "        \n",
    "        \n",
    "        ##predictions##\n",
    "        ner_predictions = ner_model([text])\n",
    "        ##predictions##\n",
    "        \n",
    "        text_splitted = ner_predictions[0][0]\n",
    "        predicted_tags = ner_predictions[1][0]\n",
    "\n",
    "        ## PER ##\n",
    "        \n",
    "        #calculate Levenshtein distance to filter similar words with \"ь\"\n",
    "        PER_predicted = list(OrderedDict.fromkeys([i for i,k in zip(text_splitted, predicted_tags) if 'PER' in k]))\n",
    "        PER_predicted_ = set(PER_predicted)\n",
    "        words_with_b = {i for i in PER_predicted if 'ь' in i}\n",
    "        black_list = []\n",
    "        for i in words_with_b:\n",
    "            for w in PER_predicted_ - words_with_b:\n",
    "                if Levenshtein.distance(i, w) <= 2:\n",
    "                    black_list.append(w)\n",
    "        PER_predicted = [i for i in PER_predicted if i not in black_list]\n",
    "        \n",
    "        #calculate Levenshtein distance to filter similar words with \"й\"\n",
    "        PER_predicted_ = set(PER_predicted)\n",
    "        words_with_b = {i for i in PER_predicted if 'й' in i}\n",
    "        black_list = []\n",
    "        for i in words_with_b:\n",
    "            for w in PER_predicted_ - words_with_b:\n",
    "                if Levenshtein.distance(i, w) <= 2:\n",
    "                    black_list.append(w)\n",
    "        PER_predicted = [i for i in PER_predicted if i not in black_list]\n",
    "\n",
    "        #calculate Levenshtein distance to filter similar words with \"я\"\n",
    "        PER_predicted_ = set(PER_predicted)\n",
    "        words_with_b = {i for i in PER_predicted if 'я' in i}\n",
    "        black_list = []\n",
    "        for i in words_with_b:\n",
    "            for w in PER_predicted_ - words_with_b:\n",
    "                if Levenshtein.distance(i, w) <= 2:\n",
    "                    black_list.append(w)\n",
    "        PER_predicted = [i for i in PER_predicted if i not in black_list]\n",
    "        \n",
    "        #calculate Levenshtein distance to filter similar words with \"кх\"\n",
    "        PER_predicted_ = set(PER_predicted)\n",
    "        words_with_b = {i for i in PER_predicted if 'кх' in i}\n",
    "        black_list = []\n",
    "        for i in words_with_b:\n",
    "            for w in PER_predicted_ - words_with_b:\n",
    "                if Levenshtein.distance(i, w) <= 2:\n",
    "                    black_list.append(i) #append i\n",
    "        PER_predicted = [i for i in PER_predicted if i not in black_list]\n",
    "\n",
    "        #filer word occurances within other word\n",
    "        PER_predicted_ = [i.lower() for i in PER_predicted]\n",
    "        combinations = list(itertools.combinations(PER_predicted_, 2))\n",
    "        reversed_combinations = [(v,k) for k,v in combinations]\n",
    "        total_combinations = combinations + reversed_combinations\n",
    "        total_combinations = [''.join(i) for i in total_combinations]\n",
    "        PER_predicted = [i.capitalize() for i in PER_predicted_ if i not in total_combinations]\n",
    "        PER_predicted = [i + '.' if len(i) == 1 else i for i in PER_predicted]\n",
    "        PER_predicted = ' '.join(PER_predicted)\n",
    "\n",
    "        ## ORG ##\n",
    "        ORG_predicted = ' '.join(list(OrderedDict.fromkeys([i.capitalize() for i,k in zip(text_splitted, predicted_tags) if 'ORG' in k])))\n",
    "\n",
    "        #replacement of the text specific attributes\n",
    "        replace_text = [('Фгбу', 'ФГБУ'), (' Г ', ' г. '), ('Мц', 'МЦ'), ('Ооо', 'ООО'), (' Им ', ' им. '), ('Гкб', 'ГКБ'), ('Гбуз', 'ГБУЗ')]\n",
    "        for k,v in replace_text:\n",
    "            try:\n",
    "                ORG_predicted = ORG_predicted.replace(k, v)\n",
    "            except:\n",
    "                continue\n",
    "                \n",
    "        #replacement of the spaces before and after '«»'\n",
    "        try:\n",
    "            index_1 = ORG_predicted.index('«')\n",
    "            ORG_predicted = replace_str_index(ORG_predicted, index_1 + 1, '')\n",
    "        except:\n",
    "            pass\n",
    "        \n",
    "        try:\n",
    "            index_1 = ORG_predicted.index('»')\n",
    "            ORG_predicted = replace_str_index(ORG_predicted, index_1 - 1, '')\n",
    "        except:\n",
    "            pass\n",
    "        \n",
    "        ## LOC ##\n",
    "        LOC_predicted = list(OrderedDict.fromkeys([i.capitalize() for i,k in zip(text_splitted, predicted_tags) if 'LOC' in k]))\n",
    "        \n",
    "        \n",
    "        #exctraction and filter of the text starting after https\n",
    "        start_of_text = [text.split(' ')[0].capitalize()]       \n",
    "        try:\n",
    "            if text.split(' ').index('хттпс'):\n",
    "                https_index = text.split(' ').index('хттпс')\n",
    "                end_of_text = text.split(' ')[https_index:]\n",
    "                full_text = [i.capitalize() for i in start_of_text + end_of_text]\n",
    "                full_text = [i for i in full_text if any([k.isnumeric() for k in i])]\n",
    "                LOC_predicted = [i for i in LOC_predicted if i not in full_text]\n",
    "        except:\n",
    "            LOC_predicted = [i for i in LOC_predicted if i not in start_of_text]  \n",
    "        \n",
    "        #exctraction and filter of the text starting after http\n",
    "        try:\n",
    "            if text.split(' ').index('хттп'):\n",
    "                https_index = text.split(' ').index('хттп')\n",
    "                end_of_text = text.split(' ')[https_index:]\n",
    "                full_text = [i.capitalize() for i in start_of_text + end_of_text]\n",
    "                full_text = [i for i in full_text if any([k.isnumeric() for k in i])]\n",
    "                LOC_predicted = [i for i in LOC_predicted if i not in full_text]\n",
    "        except:\n",
    "            LOC_predicted = [i for i in LOC_predicted if i not in start_of_text]  \n",
    "                \n",
    "        #replacement of the text specific attributes\n",
    "        adress_def_point = ['Ул',  'Ш', 'Просп', 'Корп',\\\n",
    "                       'Бул',  'Д', 'Стр', 'К', 'Пр', 'Кт', 'Т', 'Д', 'Г', 'Оф', 'Мкр']\n",
    "        adress_def_lower = ['Бульвар', 'Улица', 'Шоссе', 'Проезд']\n",
    "        LOC_predicted_ = []\n",
    "        LOC_predicted = ' '.join([i.lower() if i in adress_def_lower else i.lower() + '.' if i in adress_def_point else i for i in LOC_predicted])\n",
    "        \n",
    "        replace_text = [('Ростов На Дону', 'Ростов-на-Дону'), ('Санкт Петербург', 'Санкт-Петербург')]\n",
    "        for k,v in replace_text:\n",
    "            try:\n",
    "                LOC_predicted = LOC_predicted.replace(k, v)\n",
    "            except:\n",
    "                continue\n",
    "\n",
    "        #append predictions\n",
    "        predicted_per_org_loc[0].append(PER_predicted)\n",
    "        predicted_per_org_loc[1].append(ORG_predicted)\n",
    "        predicted_per_org_loc[2].append(LOC_predicted)\n",
    "\n"
   ]
  },
  {
   "cell_type": "code",
   "execution_count": null,
   "metadata": {},
   "outputs": [],
   "source": [
    "predict_()"
   ]
  },
  {
   "cell_type": "code",
   "execution_count": null,
   "metadata": {
    "colab": {
     "base_uri": "https://localhost:8080/"
    },
    "executionInfo": {
     "elapsed": 2760,
     "status": "ok",
     "timestamp": 1609866695543,
     "user": {
      "displayName": "Andrew Bondar",
      "photoUrl": "https://lh3.googleusercontent.com/a-/AOh14Gg61O-WQmTXqSISynGd6bc0Wn8wAOkatAvd52-1ng=s64",
      "userId": "09987347325200730923"
     },
     "user_tz": -180
    },
    "id": "ZzFF7Drz_WP6",
    "outputId": "10a8addb-b1c0-4b7c-f1ce-95b8c501f708"
   },
   "outputs": [
    {
     "name": "stdout",
     "output_type": "stream",
     "text": [
      "Total Observations:  1377\n",
      "TP:  1224\n",
      "FP:  107\n",
      "FN:  153\n",
      "Accuracy:  0.8888888888888888\n",
      "Precision:  0.9196093163035312\n",
      "Recall:  0.8888888888888888\n",
      "accuracy_f1_harmonic_mean:  0.89637495422922\n",
      "f1_score:  0.9039881831610043\n"
     ]
    }
   ],
   "source": [
    "#Computing metrics on self labaled data (sample of 1000 sentences with 1377 observations)\n",
    "os.chdir('/data')\n",
    "df_pavlov = pd.DataFrame( {'Names_pavlov': predicted_per_org_loc[0], 'Organisations_pavlov': predicted_per_org_loc[1], 'Locations_pavlov': predicted_per_org_loc[2]})\n",
    "df_validation = pd.read_excel('model_validation.xlsx')\n",
    "df_validation_pavlov = pd.concat([df_validation['full_text'], df_validation['Correct'], df_pavlov], axis=1)\n",
    "\n",
    "df_validation_pavlov = df_validation_pavlov.fillna('')\n",
    "df_validation_pavlov['Names_pavlov'] = df_validation_pavlov['Names_pavlov'].apply(lambda x: sub(r'\\s+', ' ', sub('[^а-яА-ЯA-Za-z ]+', ' ', x).strip()))\n",
    "df_validation_pavlov['Correct'] = df_validation_pavlov['Correct'].apply(lambda x: sub(r'\\s+', ' ', sub('[^а-яА-ЯA-Za-z ]+', ' ', x).strip()))\n",
    "\n",
    "df_validation_pavlov['Names_pavlov'] = df_validation_pavlov['Names_pavlov'].apply(lambda x: set(x.split(' ')))\n",
    "df_validation_pavlov['Correct'] = df_validation_pavlov['Correct'].apply(lambda x: set(x.split(' ')))\n",
    "\n",
    "#total observations\n",
    "all_observations = sum([0 if df_validation_pavlov['Correct'][i] == {''} else len(df_validation_pavlov['Correct'][i]) for i in range(1000)])\n",
    "\n",
    "#deeppavlov NER model\n",
    "true_positives = sum([0 if all([df_validation_pavlov['Names_pavlov'][i] == {''}, df_validation_pavlov['Correct'][i] == {''}]) else len(df_validation_pavlov['Correct'][i] & df_validation_pavlov['Names_pavlov'][i]) for i in range(1000)])\n",
    "false_positives = sum([0 if df_validation_pavlov['Names_pavlov'][i] - df_validation_pavlov['Correct'][i] == {''} else len(df_validation_pavlov['Names_pavlov'][i] - df_validation_pavlov['Correct'][i]) for i in range(1000)])\n",
    "false_negatives = sum([0 if df_validation_pavlov['Correct'][i] - df_validation_pavlov['Names_pavlov'][i] == {''} else len(df_validation_pavlov['Correct'][i] - df_validation_pavlov['Names_pavlov'][i]) for i in range(1000)])\n",
    "\n",
    "accuracy = true_positives / all_observations\n",
    "precision = true_positives / (true_positives + false_positives)\n",
    "recall = true_positives / (true_positives + false_negatives)\n",
    "f1_score = 2 * precision * recall / (recall + precision)\n",
    "\n",
    "accuracy_f1_harmonic_mean = 2 * accuracy * f1_score / (accuracy + f1_score)\n",
    "\n",
    "print('Total Observations: ', all_observations)\n",
    "print('TP: ', true_positives)\n",
    "print('FP: ', false_positives)\n",
    "print('FN: ', false_negatives)\n",
    "print('Accuracy: ', accuracy)\n",
    "print('Precision: ', precision)\n",
    "print('Recall: ', recall)\n",
    "print('accuracy_f1_harmonic_mean: ', accuracy_f1_harmonic_mean)\n",
    "print('f1_score: ', f1_score)\n"
   ]
  },
  {
   "cell_type": "markdown",
   "metadata": {},
   "source": [
    "We can see that f1_score is 0.9039 which is quite good."
   ]
  }
 ],
 "metadata": {
  "colab": {
   "collapsed_sections": [],
   "name": "bert_ner_colab_training_validation.ipynb",
   "provenance": []
  },
  "kernelspec": {
   "display_name": "Python 3",
   "language": "python",
   "name": "python3"
  },
  "language_info": {
   "codemirror_mode": {
    "name": "ipython",
    "version": 3
   },
   "file_extension": ".py",
   "mimetype": "text/x-python",
   "name": "python",
   "nbconvert_exporter": "python",
   "pygments_lexer": "ipython3",
   "version": "3.8.5"
  },
  "widgets": {
   "application/vnd.jupyter.widget-state+json": {
    "2e3d95dfb7a94ec2b370ffd2d163c0dc": {
     "model_module": "@jupyter-widgets/base",
     "model_name": "LayoutModel",
     "state": {
      "_model_module": "@jupyter-widgets/base",
      "_model_module_version": "1.2.0",
      "_model_name": "LayoutModel",
      "_view_count": null,
      "_view_module": "@jupyter-widgets/base",
      "_view_module_version": "1.2.0",
      "_view_name": "LayoutView",
      "align_content": null,
      "align_items": null,
      "align_self": null,
      "border": null,
      "bottom": null,
      "display": null,
      "flex": null,
      "flex_flow": null,
      "grid_area": null,
      "grid_auto_columns": null,
      "grid_auto_flow": null,
      "grid_auto_rows": null,
      "grid_column": null,
      "grid_gap": null,
      "grid_row": null,
      "grid_template_areas": null,
      "grid_template_columns": null,
      "grid_template_rows": null,
      "height": null,
      "justify_content": null,
      "justify_items": null,
      "left": null,
      "margin": null,
      "max_height": null,
      "max_width": null,
      "min_height": null,
      "min_width": null,
      "object_fit": null,
      "object_position": null,
      "order": null,
      "overflow": null,
      "overflow_x": null,
      "overflow_y": null,
      "padding": null,
      "right": null,
      "top": null,
      "visibility": null,
      "width": null
     }
    },
    "386e4d31ba1d4672b8e8ec1ace9fe1c5": {
     "model_module": "@jupyter-widgets/controls",
     "model_name": "ProgressStyleModel",
     "state": {
      "_model_module": "@jupyter-widgets/controls",
      "_model_module_version": "1.5.0",
      "_model_name": "ProgressStyleModel",
      "_view_count": null,
      "_view_module": "@jupyter-widgets/base",
      "_view_module_version": "1.2.0",
      "_view_name": "StyleView",
      "bar_color": null,
      "description_width": "initial"
     }
    },
    "3b4579433457419b85b1251b13a03c31": {
     "model_module": "@jupyter-widgets/controls",
     "model_name": "HBoxModel",
     "state": {
      "_dom_classes": [],
      "_model_module": "@jupyter-widgets/controls",
      "_model_module_version": "1.5.0",
      "_model_name": "HBoxModel",
      "_view_count": null,
      "_view_module": "@jupyter-widgets/controls",
      "_view_module_version": "1.5.0",
      "_view_name": "HBoxView",
      "box_style": "",
      "children": [
       "IPY_MODEL_ec014e5637ef47bbb62d1aa7a769f37e",
       "IPY_MODEL_58309a0b68a44a71bc368d3090e6a908"
      ],
      "layout": "IPY_MODEL_73ab12b28cfd4712969c0e18f491bf8b"
     }
    },
    "58309a0b68a44a71bc368d3090e6a908": {
     "model_module": "@jupyter-widgets/controls",
     "model_name": "HTMLModel",
     "state": {
      "_dom_classes": [],
      "_model_module": "@jupyter-widgets/controls",
      "_model_module_version": "1.5.0",
      "_model_name": "HTMLModel",
      "_view_count": null,
      "_view_module": "@jupyter-widgets/controls",
      "_view_module_version": "1.5.0",
      "_view_name": "HTMLView",
      "description": "",
      "description_tooltip": null,
      "layout": "IPY_MODEL_8130a06a17f9453f904499096e6e14bf",
      "placeholder": "​",
      "style": "IPY_MODEL_d0631018ac5b420c8e146be648da5f9e",
      "value": " 1000/1000 [02:01&lt;00:00,  8.20it/s]"
     }
    },
    "73ab12b28cfd4712969c0e18f491bf8b": {
     "model_module": "@jupyter-widgets/base",
     "model_name": "LayoutModel",
     "state": {
      "_model_module": "@jupyter-widgets/base",
      "_model_module_version": "1.2.0",
      "_model_name": "LayoutModel",
      "_view_count": null,
      "_view_module": "@jupyter-widgets/base",
      "_view_module_version": "1.2.0",
      "_view_name": "LayoutView",
      "align_content": null,
      "align_items": null,
      "align_self": null,
      "border": null,
      "bottom": null,
      "display": null,
      "flex": null,
      "flex_flow": null,
      "grid_area": null,
      "grid_auto_columns": null,
      "grid_auto_flow": null,
      "grid_auto_rows": null,
      "grid_column": null,
      "grid_gap": null,
      "grid_row": null,
      "grid_template_areas": null,
      "grid_template_columns": null,
      "grid_template_rows": null,
      "height": null,
      "justify_content": null,
      "justify_items": null,
      "left": null,
      "margin": null,
      "max_height": null,
      "max_width": null,
      "min_height": null,
      "min_width": null,
      "object_fit": null,
      "object_position": null,
      "order": null,
      "overflow": null,
      "overflow_x": null,
      "overflow_y": null,
      "padding": null,
      "right": null,
      "top": null,
      "visibility": null,
      "width": null
     }
    },
    "8130a06a17f9453f904499096e6e14bf": {
     "model_module": "@jupyter-widgets/base",
     "model_name": "LayoutModel",
     "state": {
      "_model_module": "@jupyter-widgets/base",
      "_model_module_version": "1.2.0",
      "_model_name": "LayoutModel",
      "_view_count": null,
      "_view_module": "@jupyter-widgets/base",
      "_view_module_version": "1.2.0",
      "_view_name": "LayoutView",
      "align_content": null,
      "align_items": null,
      "align_self": null,
      "border": null,
      "bottom": null,
      "display": null,
      "flex": null,
      "flex_flow": null,
      "grid_area": null,
      "grid_auto_columns": null,
      "grid_auto_flow": null,
      "grid_auto_rows": null,
      "grid_column": null,
      "grid_gap": null,
      "grid_row": null,
      "grid_template_areas": null,
      "grid_template_columns": null,
      "grid_template_rows": null,
      "height": null,
      "justify_content": null,
      "justify_items": null,
      "left": null,
      "margin": null,
      "max_height": null,
      "max_width": null,
      "min_height": null,
      "min_width": null,
      "object_fit": null,
      "object_position": null,
      "order": null,
      "overflow": null,
      "overflow_x": null,
      "overflow_y": null,
      "padding": null,
      "right": null,
      "top": null,
      "visibility": null,
      "width": null
     }
    },
    "d0631018ac5b420c8e146be648da5f9e": {
     "model_module": "@jupyter-widgets/controls",
     "model_name": "DescriptionStyleModel",
     "state": {
      "_model_module": "@jupyter-widgets/controls",
      "_model_module_version": "1.5.0",
      "_model_name": "DescriptionStyleModel",
      "_view_count": null,
      "_view_module": "@jupyter-widgets/base",
      "_view_module_version": "1.2.0",
      "_view_name": "StyleView",
      "description_width": ""
     }
    },
    "ec014e5637ef47bbb62d1aa7a769f37e": {
     "model_module": "@jupyter-widgets/controls",
     "model_name": "FloatProgressModel",
     "state": {
      "_dom_classes": [],
      "_model_module": "@jupyter-widgets/controls",
      "_model_module_version": "1.5.0",
      "_model_name": "FloatProgressModel",
      "_view_count": null,
      "_view_module": "@jupyter-widgets/controls",
      "_view_module_version": "1.5.0",
      "_view_name": "ProgressView",
      "bar_style": "success",
      "description": "Готово: 100%",
      "description_tooltip": null,
      "layout": "IPY_MODEL_2e3d95dfb7a94ec2b370ffd2d163c0dc",
      "max": 1000,
      "min": 0,
      "orientation": "horizontal",
      "style": "IPY_MODEL_386e4d31ba1d4672b8e8ec1ace9fe1c5",
      "value": 1000
     }
    }
   }
  }
 },
 "nbformat": 4,
 "nbformat_minor": 1
}
