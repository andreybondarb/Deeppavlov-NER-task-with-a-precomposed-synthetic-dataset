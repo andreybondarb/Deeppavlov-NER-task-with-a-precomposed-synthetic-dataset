{
 "cells": [
  {
   "cell_type": "markdown",
   "metadata": {},
   "source": [
    "### The purpose of this notebook is to create a synthetic dataset in order to train Deeppavlov NER BERT model for NER task."
   ]
  },
  {
   "cell_type": "code",
   "execution_count": 1,
   "metadata": {},
   "outputs": [],
   "source": [
    "#Importing required libraries\n",
    "import pandas as pd\n",
    "import numpy as np\n",
    "import os\n",
    "import re\n",
    "import tqdm\n",
    "import pytils.translit\n",
    "from collections import OrderedDict\n",
    "import matplotlib.pyplot as plt\n",
    "import random\n",
    "import seaborn as sns\n",
    "from scipy.stats import skewnorm\n",
    "from scipy.stats import chi2\n",
    "import warnings\n",
    "warnings.filterwarnings('ignore')\n",
    "os.chdir('/data')"
   ]
  },
  {
   "cell_type": "markdown",
   "metadata": {},
   "source": [
    "### I. Substracting 'PER', 'ORG' and 'LOC' from instagram text data to get clean text data with 'O' taged words which can be potentially used for BIO tagged synthetic dataset generation.\n",
    "To learn what is BIO tagging:\n",
    "\n",
    "https://en.wikipedia.org/wiki/Inside%E2%80%93outside%E2%80%93beginning_(tagging)"
   ]
  },
  {
   "cell_type": "code",
   "execution_count": 24,
   "metadata": {},
   "outputs": [
    {
     "data": {
      "text/html": [
       "<div>\n",
       "<style scoped>\n",
       "    .dataframe tbody tr th:only-of-type {\n",
       "        vertical-align: middle;\n",
       "    }\n",
       "\n",
       "    .dataframe tbody tr th {\n",
       "        vertical-align: top;\n",
       "    }\n",
       "\n",
       "    .dataframe thead th {\n",
       "        text-align: right;\n",
       "    }\n",
       "</style>\n",
       "<table border=\"1\" class=\"dataframe\">\n",
       "  <thead>\n",
       "    <tr style=\"text-align: right;\">\n",
       "      <th></th>\n",
       "      <th>text</th>\n",
       "    </tr>\n",
       "  </thead>\n",
       "  <tbody>\n",
       "    <tr>\n",
       "      <th>0</th>\n",
       "      <td>karpova_ginekolog Гинеколог🔹Репродуктолог🔹ЭКО ...</td>\n",
       "    </tr>\n",
       "    <tr>\n",
       "      <th>1</th>\n",
       "      <td>aubakirov.bulat Булат Аубакиров ОБЕРЕГАЙ СВОЮ ...</td>\n",
       "    </tr>\n",
       "    <tr>\n",
       "      <th>2</th>\n",
       "      <td>dr_allademidova Кардиолог Терапевт Москва 🔺нау...</td>\n",
       "    </tr>\n",
       "    <tr>\n",
       "      <th>3</th>\n",
       "      <td>dr.kozhevnikova_m КОЖЕВНИКОВА Мария 💉НЕОЧЕРЕДН...</td>\n",
       "    </tr>\n",
       "    <tr>\n",
       "      <th>4</th>\n",
       "      <td>masterdent05 СТОМАТОЛОГИЯ МАСТЕРДЕНТ 📍Абубакар...</td>\n",
       "    </tr>\n",
       "    <tr>\n",
       "      <th>...</th>\n",
       "      <td>...</td>\n",
       "    </tr>\n",
       "    <tr>\n",
       "      <th>12414</th>\n",
       "      <td>oblastnaia_stomatologiia ОБЛАСТНАЯ СТОМАТОЛОГИ...</td>\n",
       "    </tr>\n",
       "    <tr>\n",
       "      <th>12415</th>\n",
       "      <td>doctor_lung Врач Ростов-на-Дону Анна Сергеевна...</td>\n",
       "    </tr>\n",
       "    <tr>\n",
       "      <th>12416</th>\n",
       "      <td>stomalux_anapa Стоматология в Анапе🦷СтомаЛюкс ...</td>\n",
       "    </tr>\n",
       "    <tr>\n",
       "      <th>12417</th>\n",
       "      <td>dr.tamaranm Мальцева Тамара Николаевна 👩🏻‍⚕️Вр...</td>\n",
       "    </tr>\n",
       "    <tr>\n",
       "      <th>12418</th>\n",
       "      <td>clinics.ssmu Клиники СибГМУ | МЦ Профессор 🏅Пе...</td>\n",
       "    </tr>\n",
       "  </tbody>\n",
       "</table>\n",
       "<p>12419 rows × 1 columns</p>\n",
       "</div>"
      ],
      "text/plain": [
       "                                                    text\n",
       "0      karpova_ginekolog Гинеколог🔹Репродуктолог🔹ЭКО ...\n",
       "1      aubakirov.bulat Булат Аубакиров ОБЕРЕГАЙ СВОЮ ...\n",
       "2      dr_allademidova Кардиолог Терапевт Москва 🔺нау...\n",
       "3      dr.kozhevnikova_m КОЖЕВНИКОВА Мария 💉НЕОЧЕРЕДН...\n",
       "4      masterdent05 СТОМАТОЛОГИЯ МАСТЕРДЕНТ 📍Абубакар...\n",
       "...                                                  ...\n",
       "12414  oblastnaia_stomatologiia ОБЛАСТНАЯ СТОМАТОЛОГИ...\n",
       "12415  doctor_lung Врач Ростов-на-Дону Анна Сергеевна...\n",
       "12416  stomalux_anapa Стоматология в Анапе🦷СтомаЛюкс ...\n",
       "12417  dr.tamaranm Мальцева Тамара Николаевна 👩🏻‍⚕️Вр...\n",
       "12418  clinics.ssmu Клиники СибГМУ | МЦ Профессор 🏅Пе...\n",
       "\n",
       "[12419 rows x 1 columns]"
      ]
     },
     "execution_count": 24,
     "metadata": {},
     "output_type": "execute_result"
    }
   ],
   "source": [
    "#Importing data scrapped from the Instagram (we are using russian speaking part of Instagram)\n",
    "df_instagram = pd.read_excel('instagram_data.xlsx')\n",
    "df_instagram"
   ]
  },
  {
   "cell_type": "code",
   "execution_count": 21,
   "metadata": {},
   "outputs": [],
   "source": [
    "#Creating functions for cleaning up our instagram data\n",
    "def replace_bad_characters(text):\n",
    "    '''replace 'й' by original 'й' and 'ё' by original 'ё' (some caracters have len() == 2 instead of  == 1)'''\n",
    "    text_corrected = []\n",
    "    for character in text:\n",
    "        if character == 'й'[1]: \n",
    "            text_corrected[-1] = 'й'     \n",
    "            continue \n",
    "        elif character == 'ё'[1]:\n",
    "            text_corrected[-1] = 'ё'     \n",
    "            continue\n",
    "        else:\n",
    "            text_corrected.append(character)      \n",
    "    text = ''.join(text_corrected)\n",
    "    return text\n",
    "\n",
    "def prepare_text(sentence):\n",
    "    '''general text preparation'''\n",
    "    text = re.sub(r'\\s+', ' ', sentence).strip().lower() # deleting extra spaces and lowering the data\n",
    "    text = replace_bad_characters(text) # replacing bad characters\n",
    "    text = re.sub('[ó]', 'о', text) # replacing 'ó' with 'о'\n",
    "    text = re.sub('[ё]', 'е', text) # replacing 'ё' with 'е'\n",
    "    text = re.sub(r'[+\\(]?[0-9][0-9 .\\-\\(\\)]{4,15}[0-9]', ' ', text) # phone number deletion\n",
    "    text = re.sub(r'[^А-Яа-яA-Za-zёй ]+', ' ', text) # picking only english and russian text \n",
    "    text = pytils.translit.detranslify(text) # detranslify english text to russian\n",
    "    text = re.sub(r'\\s+', ' ', text).strip().lower()\n",
    "    text = re.sub('[ó]', 'о', text)\n",
    "    text = re.sub('[ё]', 'е', text)\n",
    "\n",
    "    return text"
   ]
  },
  {
   "cell_type": "code",
   "execution_count": 22,
   "metadata": {},
   "outputs": [],
   "source": [
    "#Cleaning up instagram data\n",
    "instagram_prepared_for_ner = df_instagram['text'].apply(lambda text: prepare_text(text))"
   ]
  },
  {
   "cell_type": "code",
   "execution_count": 23,
   "metadata": {},
   "outputs": [
    {
     "data": {
      "text/plain": [
       "0        карпова гинеколог гинеколог репродуктолог эко ...\n",
       "1        аубакиров булат булат аубакиров оберегай свою ...\n",
       "2        др алладемидова кардиолог терапевт москва науч...\n",
       "3        др кожевникова м кожевникова мария неочередной...\n",
       "4        мастердент стоматология мастердент абубакарова...\n",
       "                               ...                        \n",
       "12414    областнаиа стоматологииа областная стоматологи...\n",
       "12415    доcтор лунг врач ростов на дону анна сергеевна...\n",
       "12416    стомалуx анапа стоматология в анапе стомалюкс ...\n",
       "12417    др тамаранм мальцева тамара николаевна врач ак...\n",
       "12418    cлиниcс ссму клиники сибгму мц профессор первы...\n",
       "Name: text, Length: 12419, dtype: object"
      ]
     },
     "execution_count": 23,
     "metadata": {},
     "output_type": "execute_result"
    }
   ],
   "source": [
    "instagram_prepared_for_ner"
   ]
  },
  {
   "cell_type": "code",
   "execution_count": 25,
   "metadata": {},
   "outputs": [
    {
     "name": "stdout",
     "output_type": "stream",
     "text": [
      "Text before preparation:  taping_dv Тейпирование Дальний Восток. Ковалева Мария Александровна 👩‍⚕️ Глав.врач МЦ \"Далинь\" 📲8-914-546-01-11. 📚 Обучающие семинары по мед. реабилитации, терапевтическому тейпированию. - https://fs-school.ru/sn \n",
      "\n",
      "Text after preparation:  тапинг дв тейпирование дальний восток ковалева мария александровна глав врач мц далинь обучающие семинары по мед реабилитации терапевтическому тейпированию хттпс фс щоол ру сн\n"
     ]
    }
   ],
   "source": [
    "#Example of the text before preparation and the text after preparation\n",
    "k = 1000\n",
    "print('Text before preparation: ', df_instagram.text[k], '\\n')\n",
    "print('Text after preparation: ', instagram_prepared_for_ner[k])"
   ]
  },
  {
   "cell_type": "code",
   "execution_count": 26,
   "metadata": {},
   "outputs": [],
   "source": [
    "#Tokenizing instagram data into separate words\n",
    "joined_instagram = ' '.join(instagram_prepared_for_ner)\n",
    "list_of_words_instagram = joined_instagram.split(' ')\n",
    "\n",
    "#Counting word frequencies of instagram words for frequency word comparison\n",
    "INST_d = {}\n",
    "for i in list_of_words_instagram:\n",
    "    INST_d[i] = INST_d.get(i, 0) + 1"
   ]
  },
  {
   "cell_type": "code",
   "execution_count": 39,
   "metadata": {},
   "outputs": [],
   "source": [
    "#Loading dataset with persons (PER) for frequency word comparison\n",
    "df_PER = pd.read_excel('PER_ORG_LOC.xlsx', 'PER')\n",
    "df_PER = df_PER.fillna('')\n",
    "df_PER['PER'] = df_PER['PER'].apply(lambda text: prepare_text(text))"
   ]
  },
  {
   "cell_type": "code",
   "execution_count": 40,
   "metadata": {},
   "outputs": [
    {
     "data": {
      "text/html": [
       "<div>\n",
       "<style scoped>\n",
       "    .dataframe tbody tr th:only-of-type {\n",
       "        vertical-align: middle;\n",
       "    }\n",
       "\n",
       "    .dataframe tbody tr th {\n",
       "        vertical-align: top;\n",
       "    }\n",
       "\n",
       "    .dataframe thead th {\n",
       "        text-align: right;\n",
       "    }\n",
       "</style>\n",
       "<table border=\"1\" class=\"dataframe\">\n",
       "  <thead>\n",
       "    <tr style=\"text-align: right;\">\n",
       "      <th></th>\n",
       "      <th>PER</th>\n",
       "    </tr>\n",
       "  </thead>\n",
       "  <tbody>\n",
       "    <tr>\n",
       "      <th>0</th>\n",
       "      <td>кочарян ширяева зенина елизавета александровна</td>\n",
       "    </tr>\n",
       "    <tr>\n",
       "      <th>1</th>\n",
       "      <td>магомедгаджиев магомедганипа ибрагимгаджиевич</td>\n",
       "    </tr>\n",
       "    <tr>\n",
       "      <th>2</th>\n",
       "      <td>джалилова таривердиева эльмира гадживердиевна</td>\n",
       "    </tr>\n",
       "    <tr>\n",
       "      <th>3</th>\n",
       "      <td>архангельский багдасарьянц дмитрий эдуардович</td>\n",
       "    </tr>\n",
       "    <tr>\n",
       "      <th>4</th>\n",
       "      <td>парцваниа виноградова екатерина владимировна</td>\n",
       "    </tr>\n",
       "    <tr>\n",
       "      <th>...</th>\n",
       "      <td>...</td>\n",
       "    </tr>\n",
       "    <tr>\n",
       "      <th>820615</th>\n",
       "      <td>кондратьева</td>\n",
       "    </tr>\n",
       "    <tr>\n",
       "      <th>820616</th>\n",
       "      <td>артурович</td>\n",
       "    </tr>\n",
       "    <tr>\n",
       "      <th>820617</th>\n",
       "      <td>калашникова</td>\n",
       "    </tr>\n",
       "    <tr>\n",
       "      <th>820618</th>\n",
       "      <td>степан</td>\n",
       "    </tr>\n",
       "    <tr>\n",
       "      <th>820619</th>\n",
       "      <td>нестерова</td>\n",
       "    </tr>\n",
       "  </tbody>\n",
       "</table>\n",
       "<p>820620 rows × 1 columns</p>\n",
       "</div>"
      ],
      "text/plain": [
       "                                                   PER\n",
       "0       кочарян ширяева зенина елизавета александровна\n",
       "1        магомедгаджиев магомедганипа ибрагимгаджиевич\n",
       "2        джалилова таривердиева эльмира гадживердиевна\n",
       "3        архангельский багдасарьянц дмитрий эдуардович\n",
       "4         парцваниа виноградова екатерина владимировна\n",
       "...                                                ...\n",
       "820615                                     кондратьева\n",
       "820616                                       артурович\n",
       "820617                                     калашникова\n",
       "820618                                          степан\n",
       "820619                                       нестерова\n",
       "\n",
       "[820620 rows x 1 columns]"
      ]
     },
     "execution_count": 40,
     "metadata": {},
     "output_type": "execute_result"
    }
   ],
   "source": [
    "df_PER"
   ]
  },
  {
   "cell_type": "code",
   "execution_count": 41,
   "metadata": {},
   "outputs": [],
   "source": [
    "#General preparation of 'df_PER' data for frequency word comparison\n",
    "PER_text = ' '.join(df_PER['PER'].to_list()).strip().lower()\n",
    "PER_text = re.sub(r'[^.А-Яа-яA-Za-zёй ]+', ' ', PER_text)\n",
    "PER_text = pytils.translit.detranslify(PER_text)\n",
    "\n",
    "tokenizer = re.split(' ',  PER_text) * 6 # tokenization of all persons to separate words and multipliying by 6 (adding more weight to persons so we are sure that all persons were extracted)\n",
    "tokenizer = [i for i in tokenizer if i != ''] # filtering out empty strings"
   ]
  },
  {
   "cell_type": "code",
   "execution_count": 42,
   "metadata": {},
   "outputs": [
    {
     "data": {
      "text/plain": [
       "12807420"
      ]
     },
     "execution_count": 42,
     "metadata": {},
     "output_type": "execute_result"
    }
   ],
   "source": [
    "len(tokenizer)"
   ]
  },
  {
   "cell_type": "code",
   "execution_count": 43,
   "metadata": {},
   "outputs": [
    {
     "data": {
      "text/plain": [
       "['кочарян',\n",
       " 'ширяева',\n",
       " 'зенина',\n",
       " 'елизавета',\n",
       " 'александровна',\n",
       " 'магомедгаджиев',\n",
       " 'магомедганипа',\n",
       " 'ибрагимгаджиевич',\n",
       " 'джалилова',\n",
       " 'таривердиева']"
      ]
     },
     "execution_count": 43,
     "metadata": {},
     "output_type": "execute_result"
    }
   ],
   "source": [
    "tokenizer[0:10]"
   ]
  },
  {
   "cell_type": "code",
   "execution_count": 44,
   "metadata": {},
   "outputs": [],
   "source": [
    "#Counting word frequencies of 'PER' words for frequency word comparison\n",
    "PER_d = {}\n",
    "for i in tokenizer:\n",
    "    PER_d[i] = PER_d.get(i, 0) + 1"
   ]
  },
  {
   "cell_type": "code",
   "execution_count": 45,
   "metadata": {},
   "outputs": [],
   "source": [
    "#Appliying the frequency word comparison between Instagram and 'PER' and finding the words that will be used for word extraction in our instagram text data\n",
    "words_to_extract_PER = []\n",
    "for word in list_of_words_instagram: # iterating over words of instagram\n",
    "    try:\n",
    "        per_count = PER_d[word] # try if the word exists in our PER_d dictionary, if exists returns word count\n",
    "    except:\n",
    "        per_count = 0 # if the word doesn't exist in the PER_d returns 0, meaning that the count of it is 0\n",
    "    \n",
    "    inst_count = INST_d[word] # looking up the count of the word in INST_d (Instagram word count dictionary)\n",
    "    \n",
    "    if per_count > inst_count: # if person count is greater than istagram count, adding this word to the 'words_to_extract_PER' for further extraction\n",
    "        words_to_extract_PER.append((per_count, inst_count, word))\n",
    "        \n",
    "words_to_extract_PER = list(set(words_to_extract_PER)) # removing duplicates\n",
    "words_to_extract_PER = [z for x,y,z in words_to_extract_PER]"
   ]
  },
  {
   "cell_type": "code",
   "execution_count": 46,
   "metadata": {},
   "outputs": [
    {
     "data": {
      "text/plain": [
       "7406"
      ]
     },
     "execution_count": 46,
     "metadata": {},
     "output_type": "execute_result"
    }
   ],
   "source": [
    "len(words_to_extract_PER)"
   ]
  },
  {
   "cell_type": "code",
   "execution_count": 55,
   "metadata": {},
   "outputs": [],
   "source": [
    "#Loading dataset with organisations (ORG) for frequency word comparison\n",
    "df_ORG = pd.read_excel('PER_ORG_LOC.xlsx', 'ORG')\n",
    "df_ORG['ORG'] = df_ORG['ORG'].apply(lambda text: prepare_text(text))"
   ]
  },
  {
   "cell_type": "code",
   "execution_count": 56,
   "metadata": {},
   "outputs": [],
   "source": [
    "#General preparation of textual data of ORG_text for frequency word comparison\n",
    "ORG_text = ' '.join(df_ORG['ORG'].to_list()).strip().lower()\n",
    "ORG_text = re.sub(r'[^А-Яа-яA-Za-zйё ]+', ' ', ORG_text)\n",
    "ORG_text = pytils.translit.detranslify(ORG_text)\n",
    "\n",
    "tokenizer = re.split(' ',  ORG_text)\n",
    "tokenizer = [i for i in tokenizer if i != '']"
   ]
  },
  {
   "cell_type": "code",
   "execution_count": 57,
   "metadata": {},
   "outputs": [],
   "source": [
    "#Counting word frequencies of 'ORG' words for frequency word comparison\n",
    "ORG_d = {}\n",
    "for i in tokenizer:\n",
    "    ORG_d[i] = ORG_d.get(i, 0) + 1"
   ]
  },
  {
   "cell_type": "code",
   "execution_count": 58,
   "metadata": {},
   "outputs": [],
   "source": [
    "#Accomplishing the same frequency word comparison as for 'PER'\n",
    "words_to_extract_ORG = []\n",
    "for word in list_of_words_instagram:\n",
    "    try:\n",
    "        org_count = ORG_d[word]\n",
    "    except:\n",
    "        org_count = 0\n",
    "    \n",
    "    inst_count = INST_d[word]\n",
    "    \n",
    "    if org_count > inst_count:\n",
    "        words_to_extract_ORG.append((org_count, inst_count, word))\n",
    "        \n",
    "words_to_extract_ORG = list(set(words_to_extract_ORG))\n",
    "words_to_extract_ORG = sorted(words_to_extract_ORG, reverse = True) # sorting \n",
    "words_to_extract_ORG = [z for x,y,z in words_to_extract_ORG if x > 40] # taking only those words whose frequencies are greater than 40 (for the sake of accuracy)"
   ]
  },
  {
   "cell_type": "code",
   "execution_count": 59,
   "metadata": {},
   "outputs": [
    {
     "data": {
      "text/plain": [
       "410"
      ]
     },
     "execution_count": 59,
     "metadata": {},
     "output_type": "execute_result"
    }
   ],
   "source": [
    "len(words_to_extract_ORG)"
   ]
  },
  {
   "cell_type": "code",
   "execution_count": 62,
   "metadata": {},
   "outputs": [],
   "source": [
    "#Loading dataset with locations (LOC)\n",
    "df_LOC = pd.read_excel('PER_ORG_LOC.xlsx', 'LOC')\n",
    "df_LOC = df_LOC.fillna('')\n",
    "df_LOC['LOC'] = df_LOC['LOC'].apply(lambda text: prepare_text(text))"
   ]
  },
  {
   "cell_type": "code",
   "execution_count": 92,
   "metadata": {},
   "outputs": [],
   "source": [
    "#Accomplishing the same procedures of cleaning and frequency counting\n",
    "LOC_text = ' '.join(df_LOC['LOC'].to_list()).strip().lower()\n",
    "LOC_text = re.sub(r'[^А-Яа-яA-Za-zёй ]+', ' ', LOC_text)\n",
    "LOC_text = pytils.translit.detranslify(LOC_text)\n",
    "\n",
    "tokenizer = re.split(' ',  LOC_text)\n",
    "tokenizer = [i for i in tokenizer if i != '']\n",
    "\n",
    "LOC_d = {}\n",
    "for i in tokenizer:\n",
    "    LOC_d[i] = LOC_d.get(i, 0) + 1"
   ]
  },
  {
   "cell_type": "code",
   "execution_count": 64,
   "metadata": {},
   "outputs": [],
   "source": [
    "#Accomplishing frequency word comparison between Instagram and 'LOC'\n",
    "words_to_extract_LOC = []\n",
    "for word in list_of_words_instagram:\n",
    "    try:\n",
    "        loc_count = LOC_d[word]\n",
    "    except:\n",
    "        loc_count = 0\n",
    "    \n",
    "    inst_count = INST_d[word]\n",
    "    \n",
    "    if loc_count > inst_count:\n",
    "        words_to_extract_LOC.append((loc_count, inst_count, word))\n",
    "        \n",
    "words_to_extract_LOC = list(set(words_to_extract_LOC))\n",
    "words_to_extract_LOC = sorted(words_to_extract_LOC, reverse = True) \n",
    "words_to_extract_LOC = [z for x,y,z in words_to_extract_LOC if x > 200] # taking only those words whose frequencies are greater than 200 (for the sake of accuracy)"
   ]
  },
  {
   "cell_type": "code",
   "execution_count": 72,
   "metadata": {},
   "outputs": [
    {
     "data": {
      "text/plain": [
       "300"
      ]
     },
     "execution_count": 72,
     "metadata": {},
     "output_type": "execute_result"
    }
   ],
   "source": [
    "len(words_to_extract_LOC)"
   ]
  },
  {
   "cell_type": "code",
   "execution_count": 66,
   "metadata": {},
   "outputs": [],
   "source": [
    "#Splitting up instagran data into separate words\n",
    "sentences_inst = [i.split(' ') for i in instagram_prepared_for_ner]"
   ]
  },
  {
   "cell_type": "code",
   "execution_count": 67,
   "metadata": {},
   "outputs": [],
   "source": [
    "#Summing all three 'words_to_extract' lists of PER, LOC and ORG together into one list if words that must be separated from the Instagram text data in order to obtain 'O' tags.\n",
    "words_to_extract = set(words_to_extract_PER + words_to_extract_ORG + words_to_extract_LOC + ['м'])"
   ]
  },
  {
   "cell_type": "code",
   "execution_count": 68,
   "metadata": {},
   "outputs": [],
   "source": [
    "#Cleaning up instagram data from the words that we found to be 'PER', 'ORG' or 'LOC' specific.\n",
    "cleaned_sentences = []\n",
    "for sentence in sentences_inst:\n",
    "    \n",
    "    cleaned_sentence_ = []\n",
    "    for word in sentence:\n",
    "        if word not in words_to_extract:\n",
    "            cleaned_sentence_.append(word)\n",
    "    cleaned_sentences.append(cleaned_sentence_)"
   ]
  },
  {
   "cell_type": "code",
   "execution_count": 73,
   "metadata": {},
   "outputs": [
    {
     "data": {
      "text/plain": [
       "12419"
      ]
     },
     "execution_count": 73,
     "metadata": {},
     "output_type": "execute_result"
    }
   ],
   "source": [
    "len(cleaned_sentences)"
   ]
  },
  {
   "cell_type": "code",
   "execution_count": 31,
   "metadata": {},
   "outputs": [
    {
     "data": {
      "text/plain": [
       "['гинеколог',\n",
       " 'гинеколог',\n",
       " 'репродуктолог',\n",
       " 'эко',\n",
       " 'помогаю',\n",
       " 'стать',\n",
       " 'мамой',\n",
       " 'невынашивание',\n",
       " 'бесплодие',\n",
       " 'эко',\n",
       " 'деликатность',\n",
       " 'сопровождение',\n",
       " 'до',\n",
       " 'родзала',\n",
       " 'контакты',\n",
       " 'хттпс',\n",
       " 'таплинк',\n",
       " 'cc',\n",
       " 'гинеколог']"
      ]
     },
     "execution_count": 31,
     "metadata": {},
     "output_type": "execute_result"
    }
   ],
   "source": [
    "#Finally we obtained the lists of words which can be potentially tagged as 'O'\n",
    "cleaned_sentences[0]"
   ]
  },
  {
   "cell_type": "markdown",
   "metadata": {},
   "source": [
    "### II. Producing BIO markup synthetic dataset generation."
   ]
  },
  {
   "cell_type": "code",
   "execution_count": 94,
   "metadata": {},
   "outputs": [],
   "source": [
    "#Creating separate functions for cleaning text dataset of 'ORG', 'LOC' and for 'PER'.\n",
    "#The only difference is that for 'LOC' and 'PER' we are not deleting the punctiation and using all symbols,\n",
    "#and for 'PER' we are deleting all except '.' and the words itself\n",
    "\n",
    "def clean_ORG_LOC(sentence):\n",
    "    text = re.sub(r'\\s+', ' ', sentence).strip().lower() # deleting extra spaces and lowering the data\n",
    "    text = replace_bad_characters(text) # replacing bad characters\n",
    "    text = re.sub('[ó]', 'о', text)\n",
    "    text = re.sub('[ё]', 'е', text)\n",
    "    text = re.sub(r'[+\\(]?[0-9][0-9 .\\-\\(\\)]{4,15}[0-9]', ' ', text) # phone number deletion\n",
    "    return text\n",
    "\n",
    "def clean_PER(sentence):\n",
    "    text = re.sub(r'\\s+', ' ', sentence).strip().lower()\n",
    "    text = replace_bad_characters(text)\n",
    "    text = re.sub('[ó]', 'о', text)\n",
    "    text = re.sub('[ё]', 'е', text)\n",
    "    text = re.sub(r'[+\\(]?[0-9][0-9 .\\-\\(\\)]{4,15}[0-9]', ' ', text)\n",
    "    text = re.sub('[^.а-яА-ЯA-Za-zёй ]+', ' ', text) # replacing all except '.' and russian-english words\n",
    "    text = pytils.translit.detranslify(text) # detranslify english text to russian\n",
    "    text = re.sub(r'\\s+', ' ', text).strip().lower()\n",
    "    text = re.sub('[ó]', 'о', text)\n",
    "    text = re.sub('[ё]', 'е', text)\n",
    "    return text"
   ]
  },
  {
   "cell_type": "code",
   "execution_count": 95,
   "metadata": {},
   "outputs": [],
   "source": [
    "#Loading dataset of 'PER' and appliying 'clean_PER' cleaning function\n",
    "df_PER = pd.read_excel('PER_ORG_LOC.xlsx', 'PER')\n",
    "df_PER = df_PER.fillna('')\n",
    "df_PER['PER'] = df_PER['PER'].apply(lambda x: clean_PER(x))"
   ]
  },
  {
   "cell_type": "code",
   "execution_count": 96,
   "metadata": {},
   "outputs": [
    {
     "data": {
      "text/html": [
       "<div>\n",
       "<style scoped>\n",
       "    .dataframe tbody tr th:only-of-type {\n",
       "        vertical-align: middle;\n",
       "    }\n",
       "\n",
       "    .dataframe tbody tr th {\n",
       "        vertical-align: top;\n",
       "    }\n",
       "\n",
       "    .dataframe thead th {\n",
       "        text-align: right;\n",
       "    }\n",
       "</style>\n",
       "<table border=\"1\" class=\"dataframe\">\n",
       "  <thead>\n",
       "    <tr style=\"text-align: right;\">\n",
       "      <th></th>\n",
       "      <th>PER</th>\n",
       "    </tr>\n",
       "  </thead>\n",
       "  <tbody>\n",
       "    <tr>\n",
       "      <th>0</th>\n",
       "      <td>кочарян ширяева зенина елизавета александровна</td>\n",
       "    </tr>\n",
       "    <tr>\n",
       "      <th>1</th>\n",
       "      <td>магомедгаджиев магомедганипа ибрагимгаджиевич</td>\n",
       "    </tr>\n",
       "    <tr>\n",
       "      <th>2</th>\n",
       "      <td>джалилова таривердиева эльмира гадживердиевна</td>\n",
       "    </tr>\n",
       "    <tr>\n",
       "      <th>3</th>\n",
       "      <td>архангельский багдасарьянц дмитрий эдуардович</td>\n",
       "    </tr>\n",
       "    <tr>\n",
       "      <th>4</th>\n",
       "      <td>парцваниа виноградова екатерина владимировна</td>\n",
       "    </tr>\n",
       "    <tr>\n",
       "      <th>...</th>\n",
       "      <td>...</td>\n",
       "    </tr>\n",
       "    <tr>\n",
       "      <th>820615</th>\n",
       "      <td>кондратьева</td>\n",
       "    </tr>\n",
       "    <tr>\n",
       "      <th>820616</th>\n",
       "      <td>артурович</td>\n",
       "    </tr>\n",
       "    <tr>\n",
       "      <th>820617</th>\n",
       "      <td>калашникова</td>\n",
       "    </tr>\n",
       "    <tr>\n",
       "      <th>820618</th>\n",
       "      <td>степан</td>\n",
       "    </tr>\n",
       "    <tr>\n",
       "      <th>820619</th>\n",
       "      <td>нестерова</td>\n",
       "    </tr>\n",
       "  </tbody>\n",
       "</table>\n",
       "<p>820620 rows × 1 columns</p>\n",
       "</div>"
      ],
      "text/plain": [
       "                                                   PER\n",
       "0       кочарян ширяева зенина елизавета александровна\n",
       "1        магомедгаджиев магомедганипа ибрагимгаджиевич\n",
       "2        джалилова таривердиева эльмира гадживердиевна\n",
       "3        архангельский багдасарьянц дмитрий эдуардович\n",
       "4         парцваниа виноградова екатерина владимировна\n",
       "...                                                ...\n",
       "820615                                     кондратьева\n",
       "820616                                       артурович\n",
       "820617                                     калашникова\n",
       "820618                                          степан\n",
       "820619                                       нестерова\n",
       "\n",
       "[820620 rows x 1 columns]"
      ]
     },
     "execution_count": 96,
     "metadata": {},
     "output_type": "execute_result"
    }
   ],
   "source": [
    "df_PER"
   ]
  },
  {
   "cell_type": "markdown",
   "metadata": {},
   "source": [
    "#### From now we are going to tag PER text data by appliying tagging function.\n",
    "But first we need to learn what BIO tagging cheme is."
   ]
  },
  {
   "cell_type": "markdown",
   "metadata": {},
   "source": [
    "The BIO tagging scheme is used to better distinguish the beginning of tags for better prediction in NER task. The example of BIO tagging scheme is as follows:\n",
    "\n",
    "Bernhard        B-PER\n",
    "\n",
    "Riemann         I-PER\n",
    "\n",
    "Carl            B-PER\n",
    "\n",
    "Friedrich       I-PER\n",
    "\n",
    "Gauss           I-PER\n",
    "\n",
    "and             O\n",
    "\n",
    "Leonhard        B-PER\n",
    "\n",
    "Euler           I-PER\n",
    "\n",
    "Here “B” denotes beginning of an entity, “I” stands for “inside” and is used for all words comprising the entity except the first one, and “O” means the absence of entity. \n",
    "\n",
    "For more details: \n",
    "\n",
    "http://docs.deeppavlov.ai/en/master/features/models/ner.html#ner-task\n",
    "\n",
    "https://en.wikipedia.org/wiki/Inside%E2%80%93outside%E2%80%93beginning_(tagging)"
   ]
  },
  {
   "cell_type": "markdown",
   "metadata": {},
   "source": [
    "And second, we need to clarify in what way we need our data to be organized in order to train our NER model using deeppavlov library.\n",
    "\n",
    "The Deeppavlov library needs the data in the following format:\n",
    "\n",
    "http://docs.deeppavlov.ai/en/master/features/models/ner.html#training-data"
   ]
  },
  {
   "cell_type": "code",
   "execution_count": 97,
   "metadata": {},
   "outputs": [],
   "source": [
    "#Tagging 'PER' data according to BIO markup schema.\n",
    "PER_labeled = []\n",
    "for person in df_PER['PER']:\n",
    "    splt = [x for x in re.split('(\\W)', person) if x != '' and x != ' ' and x != '\\xa0']\n",
    "    person_labeling = ['B-PER'] + ['I-PER'] * (len(splt) - 1)\n",
    "    PER_labeled.append((splt, person_labeling))"
   ]
  },
  {
   "cell_type": "code",
   "execution_count": 98,
   "metadata": {},
   "outputs": [
    {
     "data": {
      "text/plain": [
       "['кочарян',\n",
       " ',',\n",
       " '',\n",
       " ' ',\n",
       " 'ширяева',\n",
       " ',',\n",
       " '',\n",
       " ' ',\n",
       " 'зенина',\n",
       " '-',\n",
       " 'елизавета',\n",
       " ' ',\n",
       " 'александровна']"
      ]
     },
     "execution_count": 98,
     "metadata": {},
     "output_type": "execute_result"
    }
   ],
   "source": [
    "#Here re.split('(\\W)', person) works as tokenizer and splits all possible punctuation variates - exactly what wee need for training our BERT neural net.\n",
    "person = 'кочарян, ширяева, зенина-елизавета александровна'\n",
    "re.split('(\\W)', person)"
   ]
  },
  {
   "cell_type": "code",
   "execution_count": 99,
   "metadata": {},
   "outputs": [
    {
     "data": {
      "text/plain": [
       "(['петунин', 'алексей', 'владимирович'], ['B-PER', 'I-PER', 'I-PER'])"
      ]
     },
     "execution_count": 99,
     "metadata": {},
     "output_type": "execute_result"
    }
   ],
   "source": [
    "PER_labeled[120000]"
   ]
  },
  {
   "cell_type": "code",
   "execution_count": 100,
   "metadata": {},
   "outputs": [],
   "source": [
    "#Loading dataset of 'ORG' and appliying 'clean_ORG_LOC' cleaning function\n",
    "df_ORG = pd.read_excel('PER_ORG_LOC.xlsx', 'ORG')\n",
    "df_ORG['ORG'] = df_ORG['ORG'].apply(lambda x: clean_ORG_LOC(x))"
   ]
  },
  {
   "cell_type": "code",
   "execution_count": 81,
   "metadata": {},
   "outputs": [
    {
     "data": {
      "text/html": [
       "<div>\n",
       "<style scoped>\n",
       "    .dataframe tbody tr th:only-of-type {\n",
       "        vertical-align: middle;\n",
       "    }\n",
       "\n",
       "    .dataframe tbody tr th {\n",
       "        vertical-align: top;\n",
       "    }\n",
       "\n",
       "    .dataframe thead th {\n",
       "        text-align: right;\n",
       "    }\n",
       "</style>\n",
       "<table border=\"1\" class=\"dataframe\">\n",
       "  <thead>\n",
       "    <tr style=\"text-align: right;\">\n",
       "      <th></th>\n",
       "      <th>ORG</th>\n",
       "    </tr>\n",
       "  </thead>\n",
       "  <tbody>\n",
       "    <tr>\n",
       "      <th>0</th>\n",
       "      <td># 1</td>\n",
       "    </tr>\n",
       "    <tr>\n",
       "      <th>1</th>\n",
       "      <td># 2</td>\n",
       "    </tr>\n",
       "    <tr>\n",
       "      <th>2</th>\n",
       "      <td># 51 городская клиническая больница</td>\n",
       "    </tr>\n",
       "    <tr>\n",
       "      <th>3</th>\n",
       "      <td># 6 городская больница</td>\n",
       "    </tr>\n",
       "    <tr>\n",
       "      <th>4</th>\n",
       "      <td># 6 городская больница детское поликлиническое...</td>\n",
       "    </tr>\n",
       "    <tr>\n",
       "      <th>...</th>\n",
       "      <td>...</td>\n",
       "    </tr>\n",
       "    <tr>\n",
       "      <th>71698</th>\n",
       "      <td>узд</td>\n",
       "    </tr>\n",
       "    <tr>\n",
       "      <th>71699</th>\n",
       "      <td>узд</td>\n",
       "    </tr>\n",
       "    <tr>\n",
       "      <th>71700</th>\n",
       "      <td>узд</td>\n",
       "    </tr>\n",
       "    <tr>\n",
       "      <th>71701</th>\n",
       "      <td>узд</td>\n",
       "    </tr>\n",
       "    <tr>\n",
       "      <th>71702</th>\n",
       "      <td>узд</td>\n",
       "    </tr>\n",
       "  </tbody>\n",
       "</table>\n",
       "<p>71703 rows × 1 columns</p>\n",
       "</div>"
      ],
      "text/plain": [
       "                                                     ORG\n",
       "0                                                    # 1\n",
       "1                                                    # 2\n",
       "2                    # 51 городская клиническая больница\n",
       "3                                 # 6 городская больница\n",
       "4      # 6 городская больница детское поликлиническое...\n",
       "...                                                  ...\n",
       "71698                                                узд\n",
       "71699                                                узд\n",
       "71700                                                узд\n",
       "71701                                                узд\n",
       "71702                                                узд\n",
       "\n",
       "[71703 rows x 1 columns]"
      ]
     },
     "execution_count": 81,
     "metadata": {},
     "output_type": "execute_result"
    }
   ],
   "source": [
    "df_ORG"
   ]
  },
  {
   "cell_type": "code",
   "execution_count": 101,
   "metadata": {},
   "outputs": [],
   "source": [
    "#Splitting the 'ORG' data in a BIO murkup way.\n",
    "ORG_labeled = []\n",
    "for s in df_ORG['ORG']:\n",
    "    splt = [x for x in re.split('(\\W)', s) if x != '' and x != ' ' and x != '\\xa0']\n",
    "    organisation_labeling = ['B-ORG'] + ['I-ORG'] * (len(splt) - 1)\n",
    "    ORG_labeled.append((splt, organisation_labeling))"
   ]
  },
  {
   "cell_type": "code",
   "execution_count": 102,
   "metadata": {},
   "outputs": [
    {
     "data": {
      "text/plain": [
       "(['aquastom'], ['B-ORG'])"
      ]
     },
     "execution_count": 102,
     "metadata": {},
     "output_type": "execute_result"
    }
   ],
   "source": [
    "ORG_labeled[70000]"
   ]
  },
  {
   "cell_type": "code",
   "execution_count": 103,
   "metadata": {},
   "outputs": [],
   "source": [
    "#Loading text dataset of LOC and appliying 'clean_ORG_LOC' cleaning function\n",
    "df_LOC = pd.read_excel('PER_ORG_LOC.xlsx', 'LOC')\n",
    "df_LOC = df_LOC.fillna('')\n",
    "df_LOC['LOC'] = df_LOC['LOC'].apply(lambda x: clean_ORG_LOC(x))"
   ]
  },
  {
   "cell_type": "code",
   "execution_count": 85,
   "metadata": {},
   "outputs": [
    {
     "data": {
      "text/html": [
       "<div>\n",
       "<style scoped>\n",
       "    .dataframe tbody tr th:only-of-type {\n",
       "        vertical-align: middle;\n",
       "    }\n",
       "\n",
       "    .dataframe tbody tr th {\n",
       "        vertical-align: top;\n",
       "    }\n",
       "\n",
       "    .dataframe thead th {\n",
       "        text-align: right;\n",
       "    }\n",
       "</style>\n",
       "<table border=\"1\" class=\"dataframe\">\n",
       "  <thead>\n",
       "    <tr style=\"text-align: right;\">\n",
       "      <th></th>\n",
       "      <th>LOC</th>\n",
       "    </tr>\n",
       "  </thead>\n",
       "  <tbody>\n",
       "    <tr>\n",
       "      <th>0</th>\n",
       "      <td>поселок</td>\n",
       "    </tr>\n",
       "    <tr>\n",
       "      <th>1</th>\n",
       "      <td>москва</td>\n",
       "    </tr>\n",
       "    <tr>\n",
       "      <th>2</th>\n",
       "      <td>красноярск</td>\n",
       "    </tr>\n",
       "    <tr>\n",
       "      <th>3</th>\n",
       "      <td>россия</td>\n",
       "    </tr>\n",
       "    <tr>\n",
       "      <th>4</th>\n",
       "      <td>саратов</td>\n",
       "    </tr>\n",
       "    <tr>\n",
       "      <th>...</th>\n",
       "      <td>...</td>\n",
       "    </tr>\n",
       "    <tr>\n",
       "      <th>344434</th>\n",
       "      <td>курильск</td>\n",
       "    </tr>\n",
       "    <tr>\n",
       "      <th>344435</th>\n",
       "      <td>верхоянск</td>\n",
       "    </tr>\n",
       "    <tr>\n",
       "      <th>344436</th>\n",
       "      <td>высоцк</td>\n",
       "    </tr>\n",
       "    <tr>\n",
       "      <th>344437</th>\n",
       "      <td>чекалин</td>\n",
       "    </tr>\n",
       "    <tr>\n",
       "      <th>344438</th>\n",
       "      <td>иннополис</td>\n",
       "    </tr>\n",
       "  </tbody>\n",
       "</table>\n",
       "<p>344439 rows × 1 columns</p>\n",
       "</div>"
      ],
      "text/plain": [
       "               LOC\n",
       "0          поселок\n",
       "1           москва\n",
       "2       красноярск\n",
       "3           россия\n",
       "4          саратов\n",
       "...            ...\n",
       "344434    курильск\n",
       "344435   верхоянск\n",
       "344436      высоцк\n",
       "344437     чекалин\n",
       "344438   иннополис\n",
       "\n",
       "[344439 rows x 1 columns]"
      ]
     },
     "execution_count": 85,
     "metadata": {},
     "output_type": "execute_result"
    }
   ],
   "source": [
    "df_LOC"
   ]
  },
  {
   "cell_type": "code",
   "execution_count": 104,
   "metadata": {},
   "outputs": [],
   "source": [
    "#Splitting the 'LOC' text data in a BIO murkup way.\n",
    "LOC_labeled = []\n",
    "\n",
    "for s in df_LOC['LOC']:\n",
    "    splt = [x for x in re.split('(\\W)', s) if x != '' and x != ' ' and x != '\\xa0']\n",
    "    location_labeling = ['B-LOC'] + ['I-LOC'] * (len(splt) - 1)\n",
    "    LOC_labeled.append((splt, location_labeling))"
   ]
  },
  {
   "cell_type": "code",
   "execution_count": 87,
   "metadata": {},
   "outputs": [
    {
     "data": {
      "text/plain": [
       "(['казань'], ['B-LOC'])"
      ]
     },
     "execution_count": 87,
     "metadata": {},
     "output_type": "execute_result"
    }
   ],
   "source": [
    "LOC_labeled[6000]"
   ]
  },
  {
   "cell_type": "markdown",
   "metadata": {},
   "source": [
    "Here we come up with our generated 'cleaned_sentences' list of words which we precomposed in the first section."
   ]
  },
  {
   "cell_type": "code",
   "execution_count": 105,
   "metadata": {},
   "outputs": [],
   "source": [
    "#Function for splitting a list into n-sized chunks. Used to split 'O' tags into a lesser sized list.\n",
    "def chunks(lst, n):\n",
    "    \"\"\"Yield successive n-sized chunks from lst.\"\"\"\n",
    "    for i in range(0, len(lst), n):\n",
    "        yield lst[i:i + n]"
   ]
  },
  {
   "cell_type": "code",
   "execution_count": 89,
   "metadata": {},
   "outputs": [
    {
     "name": "stdout",
     "output_type": "stream",
     "text": [
      "['др', 'алладемидова', 'кардиолог', 'терапевт', 'научу', 'управлять', 'своим', 'здоровьем', 'лечиться', 'правильно', 'врач', 'чувством', 'юмора', 'онлайн', 'курс', 'консультации', 'очно', 'онлайн', 'директ', 'ватсап', 'москоw', 'руссиан', 'хттпс', 'апи', 'wхацапп', 'cом', 'сенд', 'пхоне']\n"
     ]
    },
    {
     "data": {
      "text/plain": [
       "[(['др', 'алладемидова', 'кардиолог'], ['O', 'O', 'O']),\n",
       " (['терапевт', 'научу', 'управлять'], ['O', 'O', 'O']),\n",
       " (['своим', 'здоровьем', 'лечиться'], ['O', 'O', 'O']),\n",
       " (['правильно', 'врач', 'чувством'], ['O', 'O', 'O']),\n",
       " (['юмора', 'онлайн', 'курс'], ['O', 'O', 'O']),\n",
       " (['консультации', 'очно', 'онлайн'], ['O', 'O', 'O']),\n",
       " (['директ', 'ватсап', 'москоw'], ['O', 'O', 'O']),\n",
       " (['руссиан', 'хттпс', 'апи'], ['O', 'O', 'O']),\n",
       " (['wхацапп', 'cом', 'сенд'], ['O', 'O', 'O']),\n",
       " (['пхоне'], ['O'])]"
      ]
     },
     "execution_count": 89,
     "metadata": {},
     "output_type": "execute_result"
    }
   ],
   "source": [
    "#Example of splitting of one sentence into 3 sized chunks.\n",
    "no_entity_labeling = ['O'] * len(cleaned_sentences[2])\n",
    "print(cleaned_sentences[2])\n",
    "list(zip(list(chunks(cleaned_sentences[2], 3)), list(chunks(no_entity_labeling, 3))))"
   ]
  },
  {
   "cell_type": "code",
   "execution_count": 106,
   "metadata": {},
   "outputs": [],
   "source": [
    "#Splitting the 'O' text data in a BIO markup way using chunks.\n",
    "O_labeled = []\n",
    "for s in cleaned_sentences:\n",
    "    \n",
    "    no_entity_labeling = ['O'] * len(s)\n",
    "    chunks_ = list(zip(list(chunks(s, 3)), list(chunks(no_entity_labeling, 3))))\n",
    "    \n",
    "    for cnk in chunks_:\n",
    "        O_labeled.append(cnk)"
   ]
  },
  {
   "cell_type": "code",
   "execution_count": 107,
   "metadata": {},
   "outputs": [
    {
     "data": {
      "text/plain": [
       "12419"
      ]
     },
     "execution_count": 107,
     "metadata": {},
     "output_type": "execute_result"
    }
   ],
   "source": [
    "len(cleaned_sentences)"
   ]
  },
  {
   "cell_type": "code",
   "execution_count": 365,
   "metadata": {},
   "outputs": [
    {
     "data": {
      "text/plain": [
       "(['круглосуточно', 'работаем', 'совесть'], ['O', 'O', 'O'])"
      ]
     },
     "execution_count": 365,
     "metadata": {},
     "output_type": "execute_result"
    }
   ],
   "source": [
    "O_labeled[42]"
   ]
  },
  {
   "cell_type": "code",
   "execution_count": 366,
   "metadata": {},
   "outputs": [
    {
     "data": {
      "text/plain": [
       "71259"
      ]
     },
     "execution_count": 366,
     "metadata": {},
     "output_type": "execute_result"
    }
   ],
   "source": [
    "len(O_labeled)"
   ]
  },
  {
   "cell_type": "code",
   "execution_count": 367,
   "metadata": {},
   "outputs": [
    {
     "data": {
      "text/plain": [
       "(71259, 820620)"
      ]
     },
     "execution_count": 367,
     "metadata": {},
     "output_type": "execute_result"
    }
   ],
   "source": [
    "#71259 'O' vs 820620 'PER' - we need to oversample the 'O' tagged samples\n",
    "len(O_labeled), len(PER_labeled)"
   ]
  },
  {
   "cell_type": "code",
   "execution_count": 368,
   "metadata": {},
   "outputs": [],
   "source": [
    "#Oversampling our 'O' labeled data\n",
    "O_labeled = O_labeled * 9"
   ]
  },
  {
   "cell_type": "code",
   "execution_count": 369,
   "metadata": {},
   "outputs": [
    {
     "data": {
      "text/plain": [
       "641331"
      ]
     },
     "execution_count": 369,
     "metadata": {},
     "output_type": "execute_result"
    }
   ],
   "source": [
    "len(O_labeled)"
   ]
  },
  {
   "cell_type": "code",
   "execution_count": 370,
   "metadata": {},
   "outputs": [],
   "source": [
    "#Summing up our tagged data\n",
    "TRAIN_data = O_labeled + LOC_labeled + ORG_labeled + PER_labeled"
   ]
  },
  {
   "cell_type": "code",
   "execution_count": 371,
   "metadata": {},
   "outputs": [
    {
     "data": {
      "text/plain": [
       "1878093"
      ]
     },
     "execution_count": 371,
     "metadata": {},
     "output_type": "execute_result"
    }
   ],
   "source": [
    "len(TRAIN_data)"
   ]
  },
  {
   "cell_type": "code",
   "execution_count": 372,
   "metadata": {},
   "outputs": [],
   "source": [
    "#Shuffling our tagged data\n",
    "TRAIN_data = random.sample(TRAIN_data, len(TRAIN_data))"
   ]
  },
  {
   "cell_type": "code",
   "execution_count": 373,
   "metadata": {},
   "outputs": [
    {
     "data": {
      "text/plain": [
       "(['многопрофильная', 'клиника', '\"', 'союз', '\"'],\n",
       " ['B-ORG', 'I-ORG', 'I-ORG', 'I-ORG', 'I-ORG'])"
      ]
     },
     "execution_count": 373,
     "metadata": {},
     "output_type": "execute_result"
    }
   ],
   "source": [
    "TRAIN_data[58]"
   ]
  },
  {
   "cell_type": "code",
   "execution_count": 374,
   "metadata": {},
   "outputs": [
    {
     "data": {
      "text/plain": [
       "1878093"
      ]
     },
     "execution_count": 374,
     "metadata": {},
     "output_type": "execute_result"
    }
   ],
   "source": [
    "len_total_data = len(TRAIN_data)\n",
    "len_total_data"
   ]
  },
  {
   "cell_type": "code",
   "execution_count": 375,
   "metadata": {},
   "outputs": [
    {
     "data": {
      "text/plain": [
       "1314665"
      ]
     },
     "execution_count": 375,
     "metadata": {},
     "output_type": "execute_result"
    }
   ],
   "source": [
    "#The length of our data that will be used to train the model\n",
    "len_train_data = int(len_total_data/100*70) # 70 percent of total data\n",
    "len_train_data"
   ]
  },
  {
   "cell_type": "code",
   "execution_count": 376,
   "metadata": {},
   "outputs": [
    {
     "data": {
      "text/plain": [
       "187809"
      ]
     },
     "execution_count": 376,
     "metadata": {},
     "output_type": "execute_result"
    }
   ],
   "source": [
    "#The length of our data that will be used for validation\n",
    "len_validation_data = int(len_total_data/100*10) # 10 percent of total data\n",
    "len_validation_data"
   ]
  },
  {
   "cell_type": "code",
   "execution_count": 81,
   "metadata": {},
   "outputs": [],
   "source": [
    "#For test we will use 10000 observations"
   ]
  },
  {
   "cell_type": "markdown",
   "metadata": {},
   "source": [
    "So now we are going to actually generate synthetic samples out of precomposed data, but first we need to learn about our original Instagram data distribution. "
   ]
  },
  {
   "cell_type": "markdown",
   "metadata": {},
   "source": [
    "Lets check for the distribution of original cleaned Instagram sentences."
   ]
  },
  {
   "cell_type": "code",
   "execution_count": 108,
   "metadata": {},
   "outputs": [],
   "source": [
    "#Splitting our list of strings into list of lists of strings \n",
    "instagram_prepared_for_ner_analysis = [i.split(' ') for i in instagram_prepared_for_ner]\n",
    "original_data = [len(x) for x in instagram_prepared_for_ner_analysis]"
   ]
  },
  {
   "cell_type": "code",
   "execution_count": 109,
   "metadata": {},
   "outputs": [
    {
     "data": {
      "text/plain": [
       "22.264836138175376"
      ]
     },
     "execution_count": 109,
     "metadata": {},
     "output_type": "execute_result"
    }
   ],
   "source": [
    "#Mean of all sentences\n",
    "mean_ = np.mean(original_data)\n",
    "mean_"
   ]
  },
  {
   "cell_type": "code",
   "execution_count": 110,
   "metadata": {},
   "outputs": [
    {
     "data": {
      "text/plain": [
       "7.566767806239375"
      ]
     },
     "execution_count": 110,
     "metadata": {},
     "output_type": "execute_result"
    }
   ],
   "source": [
    "#Standard deviation\n",
    "std_ = np.std(original_data)\n",
    "std_"
   ]
  },
  {
   "cell_type": "code",
   "execution_count": 111,
   "metadata": {},
   "outputs": [
    {
     "data": {
      "text/plain": [
       "222"
      ]
     },
     "execution_count": 111,
     "metadata": {},
     "output_type": "execute_result"
    }
   ],
   "source": [
    "#Max\n",
    "max_ = np.max(original_data)\n",
    "max_"
   ]
  },
  {
   "cell_type": "code",
   "execution_count": 112,
   "metadata": {},
   "outputs": [
    {
     "data": {
      "text/plain": [
       "2"
      ]
     },
     "execution_count": 112,
     "metadata": {},
     "output_type": "execute_result"
    }
   ],
   "source": [
    "#Min\n",
    "min_ = np.min(original_data)\n",
    "min_"
   ]
  },
  {
   "cell_type": "code",
   "execution_count": 116,
   "metadata": {},
   "outputs": [
    {
     "data": {
      "image/png": "[encoded data removed]",
      "text/plain": [
       "<Figure size 432x288 with 1 Axes>"
      ]
     },
     "metadata": {
      "needs_background": "light"
     },
     "output_type": "display_data"
    }
   ],
   "source": [
    "#Lets draw a histogram of the distribution of our data\n",
    "sns.distplot(original_data, bins = 110, kde_kws={'label':'kde of given data'}, label = 'histogram')\n",
    "plt.axvline(mean_, color='r', linestyle='dashed', linewidth=0.6, label = 'mean')\n",
    "plt.title('Distribution of the original data', fontdict = {'fontsize' : 12})\n",
    "plt.axis([0, 50, 0, 0.15])\n",
    "plt.legend(loc = 1, prop={'size': 10})\n",
    "plt.show()"
   ]
  },
  {
   "cell_type": "markdown",
   "metadata": {},
   "source": [
    "#### Lets try to reproduce this distribution artificially.\n",
    "We can see that this is kind of a normal left-skewed distribution. Lets try to draw normal left-skewed distribution."
   ]
  },
  {
   "cell_type": "code",
   "execution_count": 242,
   "metadata": {},
   "outputs": [
    {
     "data": {
      "image/png": "[encoded data removed]",
      "text/plain": [
       "<Figure size 432x288 with 1 Axes>"
      ]
     },
     "metadata": {
      "needs_background": "light"
     },
     "output_type": "display_data"
    }
   ],
   "source": [
    "# Create some random data from a skewnorm. with a = -1.8 (meaning left-skewed),\n",
    "# loc = 28.2, scale = 7.88 and size = 12419 (the original size of our sample)\n",
    "\n",
    "random_data = skewnorm.rvs(a = -1.8, loc=28.2, scale=7.88, size=12419).astype(np.int)\n",
    "\n",
    "generated_data = []\n",
    "\n",
    "for random_ in random_data:\n",
    "\n",
    "    if random_ <= 2: # in case our random_ value is less than 2 (remamber we have a min of 2 in our original data)\n",
    "        random_ = abs(random_) + 1 \n",
    "        generated_data.append(random_)\n",
    "    else:\n",
    "        generated_data.append(random_)\n",
    "        \n",
    "        \n",
    "mean_ = np.mean(generated_data)\n",
    "# draw a histogram and kde of the given data\n",
    "ax = sns.distplot(generated_data, bins = 40, kde_kws={'label':'kde of given data'}, label='histogram')\n",
    "plt.axvline(mean_, color='r', linestyle='dashed', linewidth=0.6, label = 'mean')\n",
    "plt.title('Generated normal left-skewed distribution', fontdict = {'fontsize' : 12})\n",
    "plt.axis([0, 50, 0, 0.15])\n",
    "plt.legend(loc = 1, prop={'size': 10})\n",
    "plt.show()"
   ]
  },
  {
   "cell_type": "code",
   "execution_count": 246,
   "metadata": {},
   "outputs": [
    {
     "data": {
      "text/plain": [
       "(22.264836138175376, 22.205250020130446)"
      ]
     },
     "execution_count": 246,
     "metadata": {},
     "output_type": "execute_result"
    }
   ],
   "source": [
    "np.mean(original_data), np.mean(generated_data)"
   ]
  },
  {
   "cell_type": "code",
   "execution_count": 247,
   "metadata": {},
   "outputs": [
    {
     "data": {
      "text/plain": [
       "(7.566767806239375, 5.6615341253731675)"
      ]
     },
     "execution_count": 247,
     "metadata": {},
     "output_type": "execute_result"
    }
   ],
   "source": [
    "np.std(original_data), np.std(generated_data)"
   ]
  },
  {
   "cell_type": "code",
   "execution_count": 248,
   "metadata": {},
   "outputs": [
    {
     "data": {
      "text/plain": [
       "(222, 41)"
      ]
     },
     "execution_count": 248,
     "metadata": {},
     "output_type": "execute_result"
    }
   ],
   "source": [
    "np.max(original_data), np.max(generated_data)"
   ]
  },
  {
   "cell_type": "code",
   "execution_count": 249,
   "metadata": {},
   "outputs": [
    {
     "data": {
      "text/plain": [
       "(2, 1)"
      ]
     },
     "execution_count": 249,
     "metadata": {},
     "output_type": "execute_result"
    }
   ],
   "source": [
    "np.min(original_data), np.min(generated_data)"
   ]
  },
  {
   "cell_type": "markdown",
   "metadata": {},
   "source": [
    "We can see that mean of the original data (22.264) is close to the mean of the artificially generated data (22.205), the density is almost similar. The peak of density is around (0.077) in both datasets. The standard deviation is (5.661) which is quite low compared to (7.566), but we will gain it by generating pecularities: in the original data there is a little hump in a roud of 5, and also there is a maximum of 222, but in our generated data we have a maximum of 39, meaning that the original data also have some long lasting right tail. We have to generate both of this observatons to fit the original data completely."
   ]
  },
  {
   "cell_type": "code",
   "execution_count": 316,
   "metadata": {},
   "outputs": [
    {
     "data": {
      "image/png": "[encoded data removed]",
      "text/plain": [
       "<Figure size 432x288 with 1 Axes>"
      ]
     },
     "metadata": {
      "needs_background": "light"
     },
     "output_type": "display_data"
    }
   ],
   "source": [
    "#First lets add the left hump in around of 5.\n",
    "\n",
    "random_data = skewnorm.rvs(a = -1.8, loc=28.2, scale=7.88, size=12419).astype(np.int) # this part stays the same\n",
    "\n",
    "generated_data = []\n",
    "\n",
    "for random_ in random_data:\n",
    "    \n",
    "    random_number = random.uniform(0,100) # introducing some random uniform number from 0 to 100\n",
    "    \n",
    "    if 99.6 > random_number > 96.3: # only in case random_number is between 99.6 and 96.3 the our little hump will rise.\n",
    "        number = int(np.random.normal(loc = 5.4, scale = 1.8)) # loc = 5.4, scale = 1.8\n",
    "        if number <= 2: # in case less than 2\n",
    "            number = abs(number) + 2\n",
    "        generated_data.append(number)\n",
    "\n",
    "    elif random_ <= 2: # in case less than 2\n",
    "        random_ = abs(random_) + 2 \n",
    "        generated_data.append(random_)\n",
    "    else:\n",
    "        generated_data.append(random_)\n",
    "        \n",
    "        \n",
    "mean_ = np.mean(generated_data)\n",
    "# draw a histogram and kde of the given data\n",
    "ax = sns.distplot(generated_data, bins = 40, kde_kws={'label':'kde of given data'}, label='histogram')\n",
    "plt.axvline(mean_, color='r', linestyle='dashed', linewidth=0.6, label = 'mean')\n",
    "plt.title('Generated normal left-skewed distribution with a hump', fontdict = {'fontsize' : 12})\n",
    "plt.axis([0, 50, 0, 0.15])\n",
    "plt.legend(loc = 1, prop={'size': 10})\n",
    "plt.show()"
   ]
  },
  {
   "cell_type": "markdown",
   "metadata": {},
   "source": [
    "From the graph we can see that our little 'hump' appeared in the left tail of our distribution."
   ]
  },
  {
   "cell_type": "markdown",
   "metadata": {},
   "source": [
    "Now lets try to generate long right tail. We will use chi-square distribution to achieve needed outcome."
   ]
  },
  {
   "cell_type": "markdown",
   "metadata": {},
   "source": [
    "We know that max of our artificially generated data so far is 41. Lets try to add some observations starting from 40, meaning loc parameter in our chi2 will be 40"
   ]
  },
  {
   "cell_type": "code",
   "execution_count": 265,
   "metadata": {},
   "outputs": [
    {
     "data": {
      "image/png": "[encoded data removed]",
      "text/plain": [
       "<Figure size 432x288 with 1 Axes>"
      ]
     },
     "metadata": {
      "needs_background": "light"
     },
     "output_type": "display_data"
    }
   ],
   "source": [
    "#Example\n",
    "data = chi2.rvs(2, loc = 40, scale = 15, size=100).astype(np.int)\n",
    "sns.distplot(data, bins = 215)\n",
    "plt.title('Chi-square distribution', fontdict = {'fontsize' : 12})\n",
    "plt.axis([0, 300, 0, 0.1])\n",
    "plt.show()"
   ]
  },
  {
   "cell_type": "markdown",
   "metadata": {},
   "source": [
    "As we see from the graph right tail moves exactly as we want ending with one observation at arount 245"
   ]
  },
  {
   "cell_type": "markdown",
   "metadata": {},
   "source": [
    "Lets add this chi-square distribution to our main function"
   ]
  },
  {
   "cell_type": "code",
   "execution_count": 357,
   "metadata": {},
   "outputs": [
    {
     "data": {
      "image/png": "[encoded data removed]",
      "text/plain": [
       "<Figure size 432x288 with 1 Axes>"
      ]
     },
     "metadata": {
      "needs_background": "light"
     },
     "output_type": "display_data"
    }
   ],
   "source": [
    "#Adding chi-square distribution\n",
    "\n",
    "random_data = skewnorm.rvs(a = -1.8, loc=28.2, scale=7.88, size=12419).astype(np.int) # this part stays the same\n",
    "\n",
    "generated_data = []\n",
    "\n",
    "for random_ in random_data:\n",
    "    \n",
    "    random_number = random.uniform(0,100) # some random uniform number from 0 to 100\n",
    "    \n",
    "    if 99.5 > random_number > 96.2:\n",
    "        number = int(np.random.normal(loc = 5.4, scale = 1.8))\n",
    "        if number <= 2:\n",
    "            number = abs(number) + 2\n",
    "        generated_data.append(number)\n",
    "        \n",
    "    elif random_number > 99.5:\n",
    "        number = chi2.rvs(2, loc = 40, scale = 15).astype(np.int) # added chi2 distribution for long right tail\n",
    "        generated_data.append(number)\n",
    "\n",
    "    elif random_ <= 2:\n",
    "        random_ = abs(random_) + 2 \n",
    "        generated_data.append(random_)\n",
    "    else:\n",
    "        generated_data.append(random_)\n",
    "        \n",
    "        \n",
    "mean_ = np.mean(generated_data)\n",
    "# draw a histogram and kde of the given data\n",
    "ax = sns.distplot(generated_data, bins = 140, kde_kws={'label':'kde of given data'}, label='histogram')\n",
    "plt.axvline(mean_, color='r', linestyle='dashed', linewidth=0.6, label = 'mean')\n",
    "plt.title('Generated left-skewed distribution with\\n a hump and right chi-square dist', fontdict = {'fontsize' : 12})\n",
    "plt.axis([0, 50, 0, 0.15])\n",
    "plt.legend(loc = 1, prop={'size': 10})\n",
    "plt.show()"
   ]
  },
  {
   "cell_type": "markdown",
   "metadata": {},
   "source": [
    "Now we can see that mean and std are almost the same, as well as the number of observations that are above 40:"
   ]
  },
  {
   "cell_type": "code",
   "execution_count": 358,
   "metadata": {},
   "outputs": [
    {
     "data": {
      "text/plain": [
       "(22.264836138175376, 21.844915049520896)"
      ]
     },
     "execution_count": 358,
     "metadata": {},
     "output_type": "execute_result"
    }
   ],
   "source": [
    "np.mean(original_data), np.mean(generated_data)"
   ]
  },
  {
   "cell_type": "code",
   "execution_count": 359,
   "metadata": {},
   "outputs": [
    {
     "data": {
      "text/plain": [
       "(7.566767806239375, 7.522654441634736)"
      ]
     },
     "execution_count": 359,
     "metadata": {},
     "output_type": "execute_result"
    }
   ],
   "source": [
    "np.std(original_data), np.std(generated_data)"
   ]
  },
  {
   "cell_type": "code",
   "execution_count": 360,
   "metadata": {},
   "outputs": [
    {
     "data": {
      "text/plain": [
       "(222, 141)"
      ]
     },
     "execution_count": 360,
     "metadata": {},
     "output_type": "execute_result"
    }
   ],
   "source": [
    "np.max(original_data), np.max(generated_data)"
   ]
  },
  {
   "cell_type": "code",
   "execution_count": 361,
   "metadata": {},
   "outputs": [
    {
     "data": {
      "text/plain": [
       "(2, 2)"
      ]
     },
     "execution_count": 361,
     "metadata": {},
     "output_type": "execute_result"
    }
   ],
   "source": [
    "np.min(original_data), np.min(generated_data)"
   ]
  },
  {
   "cell_type": "code",
   "execution_count": 362,
   "metadata": {},
   "outputs": [
    {
     "data": {
      "text/plain": [
       "(62, 70)"
      ]
     },
     "execution_count": 362,
     "metadata": {},
     "output_type": "execute_result"
    }
   ],
   "source": [
    "#Number of observations that are above 40\n",
    "len([x for x in original_data if x>40]), len([x for x in generated_data if x>40])"
   ]
  },
  {
   "cell_type": "markdown",
   "metadata": {},
   "source": [
    "Now we can conclude that we have achieved a good approximation of the original distribution with which we can generate our synthetic dataset"
   ]
  },
  {
   "cell_type": "code",
   "execution_count": 377,
   "metadata": {},
   "outputs": [],
   "source": [
    "#Test/validation data generation\n",
    "\n",
    "def random_distribution():\n",
    "        random_ = skewnorm.rvs(-1.8, loc=28.2, scale=7.88).astype(np.int)\n",
    "        random_number = random.uniform(1,100)\n",
    "        if 99.5 > random_number > 96.2:\n",
    "            random_ = int(np.random.normal(5.4, 1.8))\n",
    "            if random_ <= 2:\n",
    "                random_ = abs(random_) + 2\n",
    "        elif random_number > 99.5:\n",
    "            random_ = chi2.rvs(2, loc = 40, scale = 15).astype(np.int)\n",
    "        else:\n",
    "            if random_ <= 2:\n",
    "                random_ = abs(random_) + 2\n",
    "        return random_\n",
    "    \n",
    "def train_valid_test(start = 0, stop = 0, file_name = 'data.txt'):\n",
    "    global data_to_plot\n",
    "    data_to_plot = []\n",
    "    count = 0\n",
    "    random_ = random_distribution()\n",
    "    with open(f'{file_name}', 'w') as fo:\n",
    "        for i in TRAIN_data[start:stop]:\n",
    "                        \n",
    "            if count > random_:\n",
    "                fo.write(f'\\n')\n",
    "                count = 0\n",
    "                random_ = random_distribution()\n",
    "                data_to_plot.append(random_)\n",
    "                \n",
    "            for x,y in zip(i[0], i[1]):\n",
    "                fo.write(f'{x} {y}\\n')\n",
    "\n",
    "                count += 1"
   ]
  },
  {
   "cell_type": "code",
   "execution_count": 378,
   "metadata": {},
   "outputs": [
    {
     "data": {
      "image/png": "[encoded data removed]",
      "text/plain": [
       "<Figure size 432x288 with 1 Axes>"
      ]
     },
     "metadata": {
      "needs_background": "light"
     },
     "output_type": "display_data"
    }
   ],
   "source": [
    "#Generating train sample\n",
    "\n",
    "train_valid_test(start = 0, stop = len_train_data, file_name = 'train.txt')\n",
    "\n",
    "# draw a histogram and kde of the given data\n",
    "ax = sns.distplot(data_to_plot, bins = 225, kde_kws={'label':'kde of given data'}, label='histogram')\n",
    "plt.title('Distribution of synthetic train sample', fontdict = {'fontsize' : 12})\n",
    "plt.axis([0, 60, 0, 0.1])\n",
    "plt.show()"
   ]
  },
  {
   "cell_type": "code",
   "execution_count": 379,
   "metadata": {},
   "outputs": [
    {
     "data": {
      "image/png": "[encoded data removed]",
      "text/plain": [
       "<Figure size 432x288 with 1 Axes>"
      ]
     },
     "metadata": {
      "needs_background": "light"
     },
     "output_type": "display_data"
    }
   ],
   "source": [
    "#Generating validation sample\n",
    "\n",
    "train_valid_test(start = len_train_data, stop = len_train_data + len_validation_data, file_name = 'valid.txt')\n",
    "\n",
    "# draw a histogram and kde of the given data\n",
    "ax = sns.distplot(data_to_plot, bins = 225, kde_kws={'label':'kde of given data'}, label='histogram')\n",
    "plt.title('Distribution of synthetic validation sample', fontdict = {'fontsize' : 12})\n",
    "plt.axis([0, 60, 0, 0.1])\n",
    "plt.show()"
   ]
  },
  {
   "cell_type": "code",
   "execution_count": 405,
   "metadata": {},
   "outputs": [
    {
     "data": {
      "image/png": "[encoded data removed]",
      "text/plain": [
       "<Figure size 432x288 with 1 Axes>"
      ]
     },
     "metadata": {
      "needs_background": "light"
     },
     "output_type": "display_data"
    }
   ],
   "source": [
    "#Generating test sample == 10k\n",
    "\n",
    "train_valid_test(start = (len_train_data + len_validation_data), stop = (len_train_data + len_validation_data + 10000), file_name = 'test.txt')\n",
    "\n",
    "# draw a histogram and kde of the given data\n",
    "ax = sns.distplot(data_to_plot, bins = 80, kde_kws={'label':'kde of given data'}, label='histogram')\n",
    "plt.title('Distribution of synthetic test sample', fontdict = {'fontsize' : 12})\n",
    "plt.axis([0, 60, 0, 0.1])\n",
    "plt.show()"
   ]
  },
  {
   "cell_type": "code",
   "execution_count": null,
   "metadata": {},
   "outputs": [],
   "source": []
  }
 ],
 "metadata": {
  "kernelspec": {
   "display_name": "Python 3",
   "language": "python",
   "name": "python3"
  },
  "language_info": {
   "codemirror_mode": {
    "name": "ipython",
    "version": 3
   },
   "file_extension": ".py",
   "mimetype": "text/x-python",
   "name": "python",
   "nbconvert_exporter": "python",
   "pygments_lexer": "ipython3",
   "version": "3.8.5"
  }
 },
 "nbformat": 4,
 "nbformat_minor": 4
}
