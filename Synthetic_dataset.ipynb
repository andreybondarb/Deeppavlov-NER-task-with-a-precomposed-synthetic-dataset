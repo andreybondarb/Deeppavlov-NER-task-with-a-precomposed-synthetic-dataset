{
 "cells": [
  {
   "cell_type": "code",
   "execution_count": 1,
   "metadata": {},
   "outputs": [],
   "source": [
    "import pandas as pd\n",
    "import numpy as np\n",
    "import os\n",
    "from re import sub\n",
    "import re\n",
    "import tqdm\n",
    "import pytils.translit\n",
    "from collections import OrderedDict\n",
    "import json\n",
    "os.chdir('/home/andreybondar/Desktop/Scrapping/fio_parsing/')"
   ]
  },
  {
   "cell_type": "code",
   "execution_count": 2,
   "metadata": {},
   "outputs": [],
   "source": [
    "df_examples = pd.read_excel('instagram_.xlsx')\n",
    "#df_examples = df_examples[1000:]"
   ]
  },
  {
   "cell_type": "code",
   "execution_count": 5,
   "metadata": {},
   "outputs": [],
   "source": [
    "def prepare_sentence(sentence):\n",
    "    \n",
    "    text = sub(r'\\s+', ' ', sentence).strip().lower()\n",
    "    \n",
    "    def replace_str_index(text,index=0,replacement=''):\n",
    "        return '%s%s%s'%(text[:index],replacement,text[index+1:])\n",
    "    \n",
    "    #replace \"й\"\n",
    "    try:\n",
    "        index_ = text.index('й'[1]) - 1\n",
    "        text = text.replace('й'[1], '')\n",
    "        text = replace_str_index(text, index_, 'й')\n",
    "    except:\n",
    "        pass\n",
    "\n",
    "    #replace \"ё\"\n",
    "    try:\n",
    "        index_ = text.index('ё'[1]) - 1\n",
    "        text = text.replace('ё'[1], '')\n",
    "        text = replace_str_index(text, index_, 'ё')\n",
    "    except:\n",
    "        pass\n",
    "    \n",
    "    text = re.sub('[ó]', 'о', text)\n",
    "    #text = re.sub('[^а-яА-ЯA-Za-z0-9 ]+', ' ', text)\n",
    "    text = re.sub(r'[+\\(]?[0-9][0-9 .\\-\\(\\)]{4,15}[0-9]', ' ', text)\n",
    "    text = re.sub(r'[^А-Яа-яA-Za-z ]+', ' ', text)\n",
    "    text = sub(r'\\s+', ' ', text).strip().lower() \n",
    "    text = pytils.translit.detranslify(text)\n",
    "    text = sub('[ё]', 'е', text)\n",
    "    \n",
    "    return text\n",
    "\n",
    "prepared_for_ner = df_examples['full_text'].apply(lambda text: prepare_sentence(text))"
   ]
  },
  {
   "cell_type": "code",
   "execution_count": 6,
   "metadata": {},
   "outputs": [
    {
     "data": {
      "text/plain": [
       "0        карпова гинеколог гинеколог репродуктолог эко ...\n",
       "1        аубакиров булат булат аубакиров оберегай свою ...\n",
       "2        др алладемидова кардиолог терапевт москва науч...\n",
       "3        др кожевникова м кожевникова мария неочередной...\n",
       "4        мастердент стоматология мастердент абубакарова...\n",
       "                               ...                        \n",
       "12414    областнаиа стоматологииа областная стоматологи...\n",
       "12415    доcтор лунг врач ростов на дону анна сергеевна...\n",
       "12416    стомалуx анапа стоматология в анапе стомалюкс ...\n",
       "12417    др тамаранм мальцева тамара николаевна врач ак...\n",
       "12418    cлиниcс ссму клиники сибгму мц профессор первы...\n",
       "Name: full_text, Length: 12419, dtype: object"
      ]
     },
     "execution_count": 6,
     "metadata": {},
     "output_type": "execute_result"
    }
   ],
   "source": [
    "prepared_for_ner"
   ]
  },
  {
   "cell_type": "code",
   "execution_count": 7,
   "metadata": {},
   "outputs": [
    {
     "name": "stdout",
     "output_type": "stream",
     "text": [
      "тапинг дв тейпирование дальнии восток ковалева мария александровна глав врач мц далинь обучающие семинары по мед реабилитации терапевтическому тейпированию хттпс фс щоол ру сн\n",
      "taping_dv Тейпирование Дальний Восток. Ковалева Мария Александровна 👩‍⚕️ Глав.врач МЦ \"Далинь\" 📲8-914-546-01-11. 📚 Обучающие семинары по мед. реабилитации, терапевтическому тейпированию. - https://fs-school.ru/sn\n"
     ]
    }
   ],
   "source": [
    "k = 1000\n",
    "print(prepared_for_ner[k])\n",
    "print(df_examples.full_text[k])"
   ]
  },
  {
   "cell_type": "code",
   "execution_count": 8,
   "metadata": {},
   "outputs": [],
   "source": [
    "df_per_org_loc = pd.read_excel('fio_lpu_adr_from_base_0.xlsx')\n",
    "df_per_org_loc = df_per_org_loc.fillna('')"
   ]
  },
  {
   "cell_type": "code",
   "execution_count": 9,
   "metadata": {},
   "outputs": [],
   "source": [
    "PER_text = ' '.join(df_per_org_loc['PER'].to_list()).strip().lower()\n",
    "\n",
    "PER_text = re.sub(r'[^.А-Яа-яA-Za-z ]+', ' ', PER_text)\n",
    "PER_text = pytils.translit.detranslify(PER_text)\n",
    "\n",
    "tokenizer = re.split(' ',  PER_text) * 5\n",
    "tokenizer = [i for i in tokenizer if i != '']\n",
    "\n",
    "PER_d = {}\n",
    "for i in tokenizer:\n",
    "    PER_d[i] = PER_d.get(i, 0) + 1\n",
    "    \n",
    "joined_instagram = ' '.join(prepared_for_ner)\n",
    "list_of_words_instagram = joined_instagram.split(' ')\n",
    "\n",
    "INST_d = {}\n",
    "for i in list_of_words_instagram:\n",
    "    INST_d[i] = INST_d.get(i, 0) + 1"
   ]
  },
  {
   "cell_type": "code",
   "execution_count": 102,
   "metadata": {},
   "outputs": [
    {
     "name": "stdout",
     "output_type": "stream",
     "text": [
      "40\n",
      "2362\n",
      "на\n"
     ]
    }
   ],
   "source": [
    "#i += 1\n",
    "i = 127\n",
    "try:\n",
    "    print(PER_d[list_of_words_instagram[i]])\n",
    "except:\n",
    "    print('0')\n",
    "print(INST_d[list_of_words_instagram[i]])\n",
    "print(list_of_words_instagram[i])"
   ]
  },
  {
   "cell_type": "code",
   "execution_count": 10,
   "metadata": {},
   "outputs": [],
   "source": [
    "words_to_investigate = []\n",
    "\n",
    "for i in list_of_words_instagram:\n",
    "    try:\n",
    "        per_count = PER_d[i]\n",
    "    except:\n",
    "        per_count = 0\n",
    "    \n",
    "    inst_count = INST_d[i]\n",
    "    \n",
    "    if per_count > inst_count:\n",
    "        words_to_investigate.append((per_count, inst_count, i))\n",
    "        \n",
    "words_to_investigate = list(set(words_to_investigate))\n",
    "words_to_investigate_1 = sorted(words_to_investigate)\n",
    "words_to_investigate_1 = [z for x,y,z in words_to_investigate]"
   ]
  },
  {
   "cell_type": "code",
   "execution_count": 11,
   "metadata": {},
   "outputs": [],
   "source": [
    "pd.DataFrame(words_to_investigate, columns=['per_count', 'inst_count', 'word']).to_excel('per_count.xlsx')"
   ]
  },
  {
   "cell_type": "code",
   "execution_count": 8,
   "metadata": {},
   "outputs": [],
   "source": []
  },
  {
   "cell_type": "code",
   "execution_count": 12,
   "metadata": {},
   "outputs": [
    {
     "data": {
      "text/plain": [
       "7338"
      ]
     },
     "execution_count": 12,
     "metadata": {},
     "output_type": "execute_result"
    }
   ],
   "source": [
    "len(words_to_investigate_1)"
   ]
  },
  {
   "cell_type": "code",
   "execution_count": 10,
   "metadata": {},
   "outputs": [],
   "source": [
    "## location"
   ]
  },
  {
   "cell_type": "code",
   "execution_count": 13,
   "metadata": {},
   "outputs": [],
   "source": [
    "df_LOC = pd.read_excel('fio_lpu_adr_from_base_1.xlsx', 'LOC_splitted')\n",
    "df_LOC = df_LOC.fillna('')"
   ]
  },
  {
   "cell_type": "code",
   "execution_count": 14,
   "metadata": {},
   "outputs": [],
   "source": [
    "LOC_text = ' '.join(df_LOC['LOC'].to_list()).strip().lower()\n",
    "\n",
    "LOC_text = re.sub(r'[^А-Яа-яA-Za-z ]+', ' ', LOC_text)\n",
    "LOC_text = pytils.translit.detranslify(LOC_text)\n",
    "\n",
    "tokenizer = re.split(' ',  LOC_text) #* 5\n",
    "tokenizer = [i for i in tokenizer if i != '']\n",
    "\n",
    "LOC_d = {}\n",
    "for i in tokenizer:\n",
    "    LOC_d[i] = LOC_d.get(i, 0) + 1\n",
    "    \n",
    "joined_instagram = ' '.join(prepared_for_ner)\n",
    "list_of_words_instagram = joined_instagram.split(' ')\n",
    "\n",
    "INST_d = {}\n",
    "for i in list_of_words_instagram:\n",
    "    INST_d[i] = INST_d.get(i, 0) + 1"
   ]
  },
  {
   "cell_type": "code",
   "execution_count": 180,
   "metadata": {},
   "outputs": [
    {
     "name": "stdout",
     "output_type": "stream",
     "text": [
      "0\n",
      "7\n",
      "гипноз\n"
     ]
    }
   ],
   "source": [
    "i += 1\n",
    "#i = 0\n",
    "try:\n",
    "    print(LOC_d[list_of_words_instagram[i]])\n",
    "except:\n",
    "    print('0')\n",
    "print(INST_d[list_of_words_instagram[i]])\n",
    "print(list_of_words_instagram[i])"
   ]
  },
  {
   "cell_type": "code",
   "execution_count": 15,
   "metadata": {},
   "outputs": [],
   "source": [
    "words_to_investigate = []\n",
    "\n",
    "for i in list_of_words_instagram:\n",
    "    try:\n",
    "        loc_count = LOC_d[i]\n",
    "    except:\n",
    "        loc_count = 0\n",
    "    \n",
    "    inst_count = INST_d[i]\n",
    "    \n",
    "    if loc_count > inst_count:\n",
    "        words_to_investigate.append((loc_count, inst_count, i))\n",
    "        \n",
    "words_to_investigate = list(set(words_to_investigate))\n",
    "words_to_investigate_2 = sorted(words_to_investigate, reverse = True)"
   ]
  },
  {
   "cell_type": "code",
   "execution_count": 186,
   "metadata": {},
   "outputs": [],
   "source": [
    "words_to_investigate_1 = set([z for x,y,z in words_to_investigate if x < 70])\n",
    "df_LOC['prepared_loc'] = df_LOC['LOC'].apply(lambda text: set(prepare_sentence(text).split(' ')))\n",
    "df_LOC['True/False'] = df_LOC['prepared_loc'].apply(lambda x: True if (x & words_to_investigate_1 != set()) else False)\n",
    "df_LOC.to_excel('true_false.xlsx')"
   ]
  },
  {
   "cell_type": "code",
   "execution_count": 17,
   "metadata": {},
   "outputs": [],
   "source": [
    "pd.DataFrame(words_to_investigate, columns=['loc_count', 'inst_count', 'word']).to_excel('loc_count.xlsx')"
   ]
  },
  {
   "cell_type": "code",
   "execution_count": 18,
   "metadata": {},
   "outputs": [],
   "source": [
    "words_to_investigate_2 = [z for x,y,z in words_to_investigate if x > 200]"
   ]
  },
  {
   "cell_type": "code",
   "execution_count": 19,
   "metadata": {},
   "outputs": [],
   "source": [
    "# Organisation\n",
    "df_ORG = pd.read_excel('fio_lpu_adr_from_base_1.xlsx', 'ORG')"
   ]
  },
  {
   "cell_type": "code",
   "execution_count": 20,
   "metadata": {},
   "outputs": [],
   "source": [
    "ORG_text = ' '.join(df_ORG['ORG'].to_list()).strip().lower()\n",
    "\n",
    "ORG_text = re.sub(r'[^А-Яа-яA-Za-z ]+', ' ', ORG_text)\n",
    "ORG_text = pytils.translit.detranslify(ORG_text)\n",
    "\n",
    "tokenizer = re.split(' ',  ORG_text) #* 5\n",
    "tokenizer = [i for i in tokenizer if i != '']\n",
    "\n",
    "ORG_d = {}\n",
    "for i in tokenizer:\n",
    "    ORG_d[i] = ORG_d.get(i, 0) + 1\n",
    "    \n",
    "joined_instagram = ' '.join(prepared_for_ner)\n",
    "list_of_words_instagram = joined_instagram.split(' ')\n",
    "\n",
    "INST_d = {}\n",
    "for i in list_of_words_instagram:\n",
    "    INST_d[i] = INST_d.get(i, 0) + 1"
   ]
  },
  {
   "cell_type": "code",
   "execution_count": 21,
   "metadata": {},
   "outputs": [],
   "source": [
    "words_to_investigate = []\n",
    "\n",
    "for i in list_of_words_instagram:\n",
    "    try:\n",
    "        org_count = ORG_d[i]\n",
    "    except:\n",
    "        org_count = 0\n",
    "    \n",
    "    inst_count = INST_d[i]\n",
    "    \n",
    "    if org_count > inst_count:\n",
    "        words_to_investigate.append((org_count, inst_count, i))\n",
    "        \n",
    "words_to_investigate = list(set(words_to_investigate))\n",
    "words_to_investigate_3 = sorted(words_to_investigate, reverse = True)"
   ]
  },
  {
   "cell_type": "code",
   "execution_count": 22,
   "metadata": {},
   "outputs": [],
   "source": [
    "pd.DataFrame(words_to_investigate, columns=['org_count', 'inst_count', 'word']).to_excel('org_count.xlsx')"
   ]
  },
  {
   "cell_type": "code",
   "execution_count": 23,
   "metadata": {},
   "outputs": [],
   "source": [
    "words_to_investigate_3 = [z for x,y,z in words_to_investigate if x > 40]"
   ]
  },
  {
   "cell_type": "code",
   "execution_count": null,
   "metadata": {},
   "outputs": [],
   "source": []
  },
  {
   "cell_type": "code",
   "execution_count": 24,
   "metadata": {},
   "outputs": [],
   "source": [
    "sentences_inst = [i.split(' ') for i in prepared_for_ner]"
   ]
  },
  {
   "cell_type": "code",
   "execution_count": 25,
   "metadata": {},
   "outputs": [
    {
     "data": {
      "text/plain": [
       "(7338, 300, 407)"
      ]
     },
     "execution_count": 25,
     "metadata": {},
     "output_type": "execute_result"
    }
   ],
   "source": [
    "len(words_to_investigate_1), len(words_to_investigate_2), len(words_to_investigate_3)"
   ]
  },
  {
   "cell_type": "code",
   "execution_count": 25,
   "metadata": {},
   "outputs": [
    {
     "data": {
      "text/plain": [
       "(6904, 135, 305)"
      ]
     },
     "execution_count": 25,
     "metadata": {},
     "output_type": "execute_result"
    }
   ],
   "source": [
    "len(words_to_investigate_1), len(words_to_investigate_2), len(words_to_investigate_3)"
   ]
  },
  {
   "cell_type": "code",
   "execution_count": 26,
   "metadata": {},
   "outputs": [],
   "source": [
    "words_to_investigate = set(words_to_investigate_1 + words_to_investigate_2 + words_to_investigate_3 + ['м'])"
   ]
  },
  {
   "cell_type": "code",
   "execution_count": 27,
   "metadata": {},
   "outputs": [],
   "source": [
    "cleaned_sentences = []\n",
    "for sentence in sentences_inst:\n",
    "    \n",
    "    cleaned_sentence_ = []\n",
    "    for word in sentence:\n",
    "        if word not in words_to_investigate:\n",
    "            cleaned_sentence_.append(word)\n",
    "    cleaned_sentences.append(cleaned_sentence_)"
   ]
  },
  {
   "cell_type": "code",
   "execution_count": 28,
   "metadata": {},
   "outputs": [
    {
     "data": {
      "text/plain": [
       "12419"
      ]
     },
     "execution_count": 28,
     "metadata": {},
     "output_type": "execute_result"
    }
   ],
   "source": [
    "len(cleaned_sentences)"
   ]
  },
  {
   "cell_type": "code",
   "execution_count": 29,
   "metadata": {},
   "outputs": [
    {
     "data": {
      "text/plain": [
       "17.13422980916338"
      ]
     },
     "execution_count": 29,
     "metadata": {},
     "output_type": "execute_result"
    }
   ],
   "source": [
    "np.mean([len(x) for x in cleaned_sentences])"
   ]
  },
  {
   "cell_type": "code",
   "execution_count": 30,
   "metadata": {},
   "outputs": [
    {
     "data": {
      "text/plain": [
       "65"
      ]
     },
     "execution_count": 30,
     "metadata": {},
     "output_type": "execute_result"
    }
   ],
   "source": [
    "np.max([len(x) for x in cleaned_sentences])"
   ]
  },
  {
   "cell_type": "code",
   "execution_count": 31,
   "metadata": {},
   "outputs": [
    {
     "data": {
      "text/plain": [
       "0"
      ]
     },
     "execution_count": 31,
     "metadata": {},
     "output_type": "execute_result"
    }
   ],
   "source": [
    "np.min([len(x) for x in cleaned_sentences])"
   ]
  },
  {
   "cell_type": "code",
   "execution_count": 202,
   "metadata": {},
   "outputs": [
    {
     "data": {
      "text/plain": [
       "6.024290143868323"
      ]
     },
     "execution_count": 202,
     "metadata": {},
     "output_type": "execute_result"
    }
   ],
   "source": [
    "np.std([len(x) for x in cleaned_sentences])"
   ]
  },
  {
   "cell_type": "code",
   "execution_count": 200,
   "metadata": {},
   "outputs": [],
   "source": [
    "import matplotlib.pyplot as plt"
   ]
  },
  {
   "cell_type": "code",
   "execution_count": 501,
   "metadata": {},
   "outputs": [
    {
     "data": {
      "image/png": "[encoded data removed]",
      "text/plain": [
       "<Figure size 432x288 with 1 Axes>"
      ]
     },
     "metadata": {
      "needs_background": "light"
     },
     "output_type": "display_data"
    }
   ],
   "source": [
    "plt.hist([len(x) for x in cleaned_sentences], bins= 'auto')\n",
    "plt.axis([0, 60, 0, 2400])\n",
    "plt.show()"
   ]
  },
  {
   "cell_type": "code",
   "execution_count": 201,
   "metadata": {},
   "outputs": [
    {
     "data": {
      "image/png": "[encoded data removed]",
      "text/plain": [
       "<Figure size 432x288 with 1 Axes>"
      ]
     },
     "metadata": {
      "needs_background": "light"
     },
     "output_type": "display_data"
    }
   ],
   "source": [
    "plt.hist([len(x) for x in cleaned_sentences], bins= 'auto')\n",
    "plt.axis([0, 60, 0, 2400])\n",
    "plt.show()"
   ]
  },
  {
   "cell_type": "code",
   "execution_count": 220,
   "metadata": {},
   "outputs": [],
   "source": [
    "from scipy.stats import skewnorm\n",
    "a=0\n",
    "data = skewnorm.rvs(a, size=1000)\n",
    "\n",
    "data = [int(x + 20) for x  in data]"
   ]
  },
  {
   "cell_type": "code",
   "execution_count": 529,
   "metadata": {},
   "outputs": [
    {
     "data": {
      "image/png": "[encoded data removed]",
      "text/plain": [
       "<Figure size 432x288 with 1 Axes>"
      ]
     },
     "metadata": {
      "needs_background": "light"
     },
     "output_type": "display_data"
    }
   ],
   "source": [
    "plt.hist(data, bins= 'auto')\n",
    "#plt.axis([0, 60, 0, 2400])\n",
    "plt.show()"
   ]
  },
  {
   "cell_type": "code",
   "execution_count": 508,
   "metadata": {},
   "outputs": [],
   "source": [
    "import seaborn as sns\n",
    "from scipy.stats import norm\n",
    "# generate random numbers from N(0,1)\n",
    "data_normal = norm.rvs(size=10000,loc=0,scale=1)"
   ]
  },
  {
   "cell_type": "code",
   "execution_count": 509,
   "metadata": {},
   "outputs": [
    {
     "data": {
      "text/plain": [
       "[Text(0, 0.5, 'Frequency'), Text(0.5, 0, 'Normal Distribution')]"
      ]
     },
     "execution_count": 509,
     "metadata": {},
     "output_type": "execute_result"
    },
    {
     "data": {
      "image/png": "[encoded data removed]",
      "text/plain": [
       "<Figure size 432x288 with 1 Axes>"
      ]
     },
     "metadata": {
      "needs_background": "light"
     },
     "output_type": "display_data"
    }
   ],
   "source": [
    "ax = sns.distplot(data_normal,\n",
    "                  bins=100,\n",
    "                  kde=True,\n",
    "                  color='skyblue',\n",
    "                  hist_kws={\"linewidth\": 15,'alpha':1})\n",
    "ax.set(xlabel='Normal Distribution', ylabel='Frequency')"
   ]
  },
  {
   "cell_type": "code",
   "execution_count": 32,
   "metadata": {},
   "outputs": [],
   "source": [
    "# GENERATE TRAINING DATA\n",
    "\n",
    "\n",
    "def replace_str_index(text,index=0,replacement=''):\n",
    "    return '%s%s%s'%(text[:index],replacement,text[index+1:])\n",
    "\n",
    "def clean(sentence):\n",
    "    \n",
    "    text = sub(r'\\s+', ' ', sentence).strip().lower()\n",
    "    \n",
    "    #replace \"й\"\n",
    "    try:\n",
    "        index_ = text.index('й'[1]) - 1\n",
    "        text = text.replace('й'[1], '')\n",
    "        text = replace_str_index(text, index_, 'й')\n",
    "    except:\n",
    "        pass\n",
    "\n",
    "    #replace \"ё\"\n",
    "    try:\n",
    "        index_ = text.index('ё'[1]) - 1\n",
    "        text = text.replace('ё'[1], '')\n",
    "        text = replace_str_index(text, index_, 'ё')\n",
    "    except:\n",
    "        pass\n",
    "    \n",
    "    text = re.sub('[ó]', 'о', text)\n",
    "    text = re.sub(r'[+\\(]?[0-9][0-9 .\\-\\(\\)]{4,15}[0-9]', ' ', text)\n",
    "    #text = re.sub('[^\"\"«»а-яА-ЯA-Za-z0-9 ]+', ' ', text)    \n",
    "    text = sub(r'\\s+', ' ', text).strip().lower()\n",
    "    text = sub('[ё]', 'е', text)\n",
    "    return text\n",
    "\n",
    "def clean_fio(sentence):\n",
    "    \n",
    "    text = sub(r'\\s+', ' ', sentence).strip().lower()\n",
    "    \n",
    "    #replace \"й\"\n",
    "    try:\n",
    "        index_ = text.index('й'[1]) - 1\n",
    "        text = text.replace('й'[1], '')\n",
    "        text = replace_str_index(text, index_, 'й')\n",
    "    except:\n",
    "        pass\n",
    "\n",
    "    #replace \"ё\"\n",
    "    try:\n",
    "        index_ = text.index('ё'[1]) - 1\n",
    "        text = text.replace('ё'[1], '')\n",
    "        text = replace_str_index(text, index_, 'ё')\n",
    "    except:\n",
    "        pass\n",
    "    \n",
    "    text = re.sub('[ó]', 'о', text)\n",
    "    text = re.sub(r'[+\\(]?[0-9][0-9 .\\-\\(\\)]{4,15}[0-9]', ' ', text)\n",
    "    text = re.sub('[^.а-яА-ЯA-Za-z ]+', ' ', text)\n",
    "    text = sub(r'\\s+', ' ', text).strip().lower()\n",
    "    text = pytils.translit.detranslify(text)\n",
    "    text = re.sub('[ё]', 'е', text)\n",
    "    return text"
   ]
  },
  {
   "cell_type": "code",
   "execution_count": 33,
   "metadata": {},
   "outputs": [],
   "source": [
    "df_per_org_loc = pd.read_excel('fio_lpu_adr_from_base_1.xlsx', 'PER')\n",
    "df_per_org_loc = df_per_org_loc.fillna('')"
   ]
  },
  {
   "cell_type": "code",
   "execution_count": 34,
   "metadata": {},
   "outputs": [],
   "source": [
    "df_per_org_loc['PER'] = df_per_org_loc['PER'].apply(lambda x: clean_fio(x))"
   ]
  },
  {
   "cell_type": "code",
   "execution_count": 35,
   "metadata": {},
   "outputs": [],
   "source": [
    "####\n",
    "#df_per_org_loc.to_excel('per_delete_duplicates.xlsx')"
   ]
  },
  {
   "cell_type": "code",
   "execution_count": 36,
   "metadata": {},
   "outputs": [
    {
     "data": {
      "text/html": [
       "<div>\n",
       "<style scoped>\n",
       "    .dataframe tbody tr th:only-of-type {\n",
       "        vertical-align: middle;\n",
       "    }\n",
       "\n",
       "    .dataframe tbody tr th {\n",
       "        vertical-align: top;\n",
       "    }\n",
       "\n",
       "    .dataframe thead th {\n",
       "        text-align: right;\n",
       "    }\n",
       "</style>\n",
       "<table border=\"1\" class=\"dataframe\">\n",
       "  <thead>\n",
       "    <tr style=\"text-align: right;\">\n",
       "      <th></th>\n",
       "      <th>PER</th>\n",
       "    </tr>\n",
       "  </thead>\n",
       "  <tbody>\n",
       "    <tr>\n",
       "      <th>0</th>\n",
       "      <td>кочарян ширяева зенина елизавета александровна</td>\n",
       "    </tr>\n",
       "    <tr>\n",
       "      <th>1</th>\n",
       "      <td>магомедгаджиев магомедганипа ибрагимгаджиевич</td>\n",
       "    </tr>\n",
       "    <tr>\n",
       "      <th>2</th>\n",
       "      <td>джалилова таривердиева эльмира гадживердиевна</td>\n",
       "    </tr>\n",
       "    <tr>\n",
       "      <th>3</th>\n",
       "      <td>архангельский багдасарьянц дмитрий эдуардович</td>\n",
       "    </tr>\n",
       "    <tr>\n",
       "      <th>4</th>\n",
       "      <td>парцваниа виноградова екатерина владимировна</td>\n",
       "    </tr>\n",
       "    <tr>\n",
       "      <th>...</th>\n",
       "      <td>...</td>\n",
       "    </tr>\n",
       "    <tr>\n",
       "      <th>820615</th>\n",
       "      <td>кондратьева</td>\n",
       "    </tr>\n",
       "    <tr>\n",
       "      <th>820616</th>\n",
       "      <td>артурович</td>\n",
       "    </tr>\n",
       "    <tr>\n",
       "      <th>820617</th>\n",
       "      <td>калашникова</td>\n",
       "    </tr>\n",
       "    <tr>\n",
       "      <th>820618</th>\n",
       "      <td>степан</td>\n",
       "    </tr>\n",
       "    <tr>\n",
       "      <th>820619</th>\n",
       "      <td>нестерова</td>\n",
       "    </tr>\n",
       "  </tbody>\n",
       "</table>\n",
       "<p>820620 rows × 1 columns</p>\n",
       "</div>"
      ],
      "text/plain": [
       "                                                   PER\n",
       "0       кочарян ширяева зенина елизавета александровна\n",
       "1        магомедгаджиев магомедганипа ибрагимгаджиевич\n",
       "2        джалилова таривердиева эльмира гадживердиевна\n",
       "3        архангельский багдасарьянц дмитрий эдуардович\n",
       "4         парцваниа виноградова екатерина владимировна\n",
       "...                                                ...\n",
       "820615                                     кондратьева\n",
       "820616                                       артурович\n",
       "820617                                     калашникова\n",
       "820618                                          степан\n",
       "820619                                       нестерова\n",
       "\n",
       "[820620 rows x 1 columns]"
      ]
     },
     "execution_count": 36,
     "metadata": {},
     "output_type": "execute_result"
    }
   ],
   "source": [
    "df_per_org_loc"
   ]
  },
  {
   "cell_type": "code",
   "execution_count": 37,
   "metadata": {},
   "outputs": [],
   "source": [
    "PER_labeled = []\n",
    "\n",
    "for s in df_per_org_loc['PER']:\n",
    "    splt = [x for x in re.split('(\\W)', s) if x != '' and x != ' ' and x != '\\xa0']\n",
    "    person_labeling = ['B-PER'] + ['I-PER'] * (len(splt) - 1)\n",
    "    PER_labeled.append((splt, person_labeling))"
   ]
  },
  {
   "cell_type": "code",
   "execution_count": 38,
   "metadata": {},
   "outputs": [
    {
     "data": {
      "text/plain": [
       "(['петунин', 'алексей', 'владимирович'], ['B-PER', 'I-PER', 'I-PER'])"
      ]
     },
     "execution_count": 38,
     "metadata": {},
     "output_type": "execute_result"
    }
   ],
   "source": [
    "PER_labeled[120000]"
   ]
  },
  {
   "cell_type": "code",
   "execution_count": 39,
   "metadata": {},
   "outputs": [],
   "source": [
    "df_ORG = pd.read_excel('fio_lpu_adr_from_base_1.xlsx', 'ORG')\n",
    "df_ORG['ORG'] = df_ORG['ORG'].apply(lambda x: clean(x))"
   ]
  },
  {
   "cell_type": "code",
   "execution_count": 40,
   "metadata": {},
   "outputs": [
    {
     "data": {
      "text/html": [
       "<div>\n",
       "<style scoped>\n",
       "    .dataframe tbody tr th:only-of-type {\n",
       "        vertical-align: middle;\n",
       "    }\n",
       "\n",
       "    .dataframe tbody tr th {\n",
       "        vertical-align: top;\n",
       "    }\n",
       "\n",
       "    .dataframe thead th {\n",
       "        text-align: right;\n",
       "    }\n",
       "</style>\n",
       "<table border=\"1\" class=\"dataframe\">\n",
       "  <thead>\n",
       "    <tr style=\"text-align: right;\">\n",
       "      <th></th>\n",
       "      <th>ORG</th>\n",
       "    </tr>\n",
       "  </thead>\n",
       "  <tbody>\n",
       "    <tr>\n",
       "      <th>0</th>\n",
       "      <td># 1</td>\n",
       "    </tr>\n",
       "    <tr>\n",
       "      <th>1</th>\n",
       "      <td># 2</td>\n",
       "    </tr>\n",
       "    <tr>\n",
       "      <th>2</th>\n",
       "      <td># 51 городская клиническая больница</td>\n",
       "    </tr>\n",
       "    <tr>\n",
       "      <th>3</th>\n",
       "      <td># 6 городская больница</td>\n",
       "    </tr>\n",
       "    <tr>\n",
       "      <th>4</th>\n",
       "      <td># 6 городская больница детское поликлиническое...</td>\n",
       "    </tr>\n",
       "    <tr>\n",
       "      <th>...</th>\n",
       "      <td>...</td>\n",
       "    </tr>\n",
       "    <tr>\n",
       "      <th>71698</th>\n",
       "      <td>узд</td>\n",
       "    </tr>\n",
       "    <tr>\n",
       "      <th>71699</th>\n",
       "      <td>узд</td>\n",
       "    </tr>\n",
       "    <tr>\n",
       "      <th>71700</th>\n",
       "      <td>узд</td>\n",
       "    </tr>\n",
       "    <tr>\n",
       "      <th>71701</th>\n",
       "      <td>узд</td>\n",
       "    </tr>\n",
       "    <tr>\n",
       "      <th>71702</th>\n",
       "      <td>узд</td>\n",
       "    </tr>\n",
       "  </tbody>\n",
       "</table>\n",
       "<p>71703 rows × 1 columns</p>\n",
       "</div>"
      ],
      "text/plain": [
       "                                                     ORG\n",
       "0                                                    # 1\n",
       "1                                                    # 2\n",
       "2                    # 51 городская клиническая больница\n",
       "3                                 # 6 городская больница\n",
       "4      # 6 городская больница детское поликлиническое...\n",
       "...                                                  ...\n",
       "71698                                                узд\n",
       "71699                                                узд\n",
       "71700                                                узд\n",
       "71701                                                узд\n",
       "71702                                                узд\n",
       "\n",
       "[71703 rows x 1 columns]"
      ]
     },
     "execution_count": 40,
     "metadata": {},
     "output_type": "execute_result"
    }
   ],
   "source": [
    "df_ORG"
   ]
  },
  {
   "cell_type": "code",
   "execution_count": 41,
   "metadata": {},
   "outputs": [],
   "source": [
    "ORG_labeled = []\n",
    "\n",
    "for s in df_ORG['ORG']:\n",
    "    splt = [x for x in re.split('(\\W)', s) if x != '' and x != ' ' and x != '\\xa0']\n",
    "    organisation_labeling = ['B-ORG'] + ['I-ORG'] * (len(splt) - 1)\n",
    "    ORG_labeled.append((splt, organisation_labeling))"
   ]
  },
  {
   "cell_type": "code",
   "execution_count": 42,
   "metadata": {},
   "outputs": [
    {
     "data": {
      "text/plain": [
       "(['aquastom'], ['B-ORG'])"
      ]
     },
     "execution_count": 42,
     "metadata": {},
     "output_type": "execute_result"
    }
   ],
   "source": [
    "ORG_labeled[70000]"
   ]
  },
  {
   "cell_type": "code",
   "execution_count": 43,
   "metadata": {},
   "outputs": [],
   "source": [
    "df_LOC = pd.read_excel('fio_lpu_adr_from_base_1.xlsx', 'LOC_splitted')\n",
    "df_LOC = df_LOC.dropna()\n",
    "df_LOC['LOC'] = df_LOC['LOC'].apply(lambda x: clean(x))"
   ]
  },
  {
   "cell_type": "code",
   "execution_count": 44,
   "metadata": {},
   "outputs": [
    {
     "data": {
      "text/html": [
       "<div>\n",
       "<style scoped>\n",
       "    .dataframe tbody tr th:only-of-type {\n",
       "        vertical-align: middle;\n",
       "    }\n",
       "\n",
       "    .dataframe tbody tr th {\n",
       "        vertical-align: top;\n",
       "    }\n",
       "\n",
       "    .dataframe thead th {\n",
       "        text-align: right;\n",
       "    }\n",
       "</style>\n",
       "<table border=\"1\" class=\"dataframe\">\n",
       "  <thead>\n",
       "    <tr style=\"text-align: right;\">\n",
       "      <th></th>\n",
       "      <th>LOC</th>\n",
       "    </tr>\n",
       "  </thead>\n",
       "  <tbody>\n",
       "    <tr>\n",
       "      <th>0</th>\n",
       "      <td>поселок</td>\n",
       "    </tr>\n",
       "    <tr>\n",
       "      <th>1</th>\n",
       "      <td>москва</td>\n",
       "    </tr>\n",
       "    <tr>\n",
       "      <th>2</th>\n",
       "      <td>красноярск</td>\n",
       "    </tr>\n",
       "    <tr>\n",
       "      <th>3</th>\n",
       "      <td>россия</td>\n",
       "    </tr>\n",
       "    <tr>\n",
       "      <th>4</th>\n",
       "      <td>саратов</td>\n",
       "    </tr>\n",
       "    <tr>\n",
       "      <th>...</th>\n",
       "      <td>...</td>\n",
       "    </tr>\n",
       "    <tr>\n",
       "      <th>344434</th>\n",
       "      <td>курильск</td>\n",
       "    </tr>\n",
       "    <tr>\n",
       "      <th>344435</th>\n",
       "      <td>верхоянск</td>\n",
       "    </tr>\n",
       "    <tr>\n",
       "      <th>344436</th>\n",
       "      <td>высоцк</td>\n",
       "    </tr>\n",
       "    <tr>\n",
       "      <th>344437</th>\n",
       "      <td>чекалин</td>\n",
       "    </tr>\n",
       "    <tr>\n",
       "      <th>344438</th>\n",
       "      <td>иннополис</td>\n",
       "    </tr>\n",
       "  </tbody>\n",
       "</table>\n",
       "<p>344431 rows × 1 columns</p>\n",
       "</div>"
      ],
      "text/plain": [
       "               LOC\n",
       "0          поселок\n",
       "1           москва\n",
       "2       красноярск\n",
       "3           россия\n",
       "4          саратов\n",
       "...            ...\n",
       "344434    курильск\n",
       "344435   верхоянск\n",
       "344436      высоцк\n",
       "344437     чекалин\n",
       "344438   иннополис\n",
       "\n",
       "[344431 rows x 1 columns]"
      ]
     },
     "execution_count": 44,
     "metadata": {},
     "output_type": "execute_result"
    }
   ],
   "source": [
    "df_LOC"
   ]
  },
  {
   "cell_type": "code",
   "execution_count": 45,
   "metadata": {},
   "outputs": [],
   "source": [
    "LOC_labeled = []\n",
    "\n",
    "for s in df_LOC['LOC']:\n",
    "    splt = [x for x in re.split('(\\W)', s) if x != '' and x != ' ' and x != '\\xa0']\n",
    "    location_labeling = ['B-LOC'] + ['I-LOC'] * (len(splt) - 1)\n",
    "    LOC_labeled.append((splt, location_labeling))"
   ]
  },
  {
   "cell_type": "code",
   "execution_count": 46,
   "metadata": {},
   "outputs": [
    {
     "data": {
      "text/plain": [
       "(['казань'], ['B-LOC'])"
      ]
     },
     "execution_count": 46,
     "metadata": {},
     "output_type": "execute_result"
    }
   ],
   "source": [
    "LOC_labeled[6000]"
   ]
  },
  {
   "cell_type": "code",
   "execution_count": 47,
   "metadata": {},
   "outputs": [],
   "source": [
    "no_entity_labeling = ['O'] * len(cleaned_sentences[10])"
   ]
  },
  {
   "cell_type": "code",
   "execution_count": 48,
   "metadata": {},
   "outputs": [],
   "source": [
    "def chunks(lst, n):\n",
    "    \"\"\"Yield successive n-sized chunks from lst.\"\"\"\n",
    "    for i in range(0, len(lst), n):\n",
    "        yield lst[i:i + n]"
   ]
  },
  {
   "cell_type": "code",
   "execution_count": 49,
   "metadata": {},
   "outputs": [
    {
     "data": {
      "text/plain": [
       "[(['сашафабер', 'блогер', 'выходного', 'дня'], ['O', 'O', 'O', 'O']),\n",
       " (['пишу', 'для', 'девочек', 'в'], ['O', 'O', 'O', 'O']),\n",
       " (['сторис', 'отзывы', 'о', 'косметике'], ['O', 'O', 'O', 'O']),\n",
       " (['промокоды', 'скидки', 'саморазвитие', 'бухгалтер'], ['O', 'O', 'O', 'O']),\n",
       " (['сф', 'бизнес', 'хттпс', 'фаберлиc'], ['O', 'O', 'O', 'O']),\n",
       " (['cом', 'регистер', 'спонсорнумбер', 'ру'], ['O', 'O', 'O', 'O'])]"
      ]
     },
     "execution_count": 49,
     "metadata": {},
     "output_type": "execute_result"
    }
   ],
   "source": [
    "list(zip(list(chunks(cleaned_sentences[10], 4)), list(chunks(no_entity_labeling, 4))))"
   ]
  },
  {
   "cell_type": "code",
   "execution_count": 50,
   "metadata": {},
   "outputs": [],
   "source": [
    "import random\n",
    "\n",
    "O_labeled = []\n",
    "\n",
    "\n",
    "for s in cleaned_sentences:\n",
    "    \n",
    "    random_number = random.uniform(1,100)\n",
    "    \n",
    "    if random_number > 80:\n",
    "        s = s + ['к', 'м', 'н', 'массаге', 'ливе', 'творец', 'ибн', 'сина', 'д', 'м', 'н', 'тел', 'теам', 'мембер', 'тетахилинг', 'салес', 'идеас', 'украина']\n",
    "    \n",
    "    no_entity_labeling = ['O'] * len(s)\n",
    "    \n",
    "    chunks_ = list(zip(list(chunks(s, 3)), list(chunks(no_entity_labeling, 3))))\n",
    "    \n",
    "    for cnk in chunks_:\n",
    "        O_labeled.append(cnk)\n"
   ]
  },
  {
   "cell_type": "code",
   "execution_count": 51,
   "metadata": {},
   "outputs": [
    {
     "data": {
      "text/plain": [
       "12419"
      ]
     },
     "execution_count": 51,
     "metadata": {},
     "output_type": "execute_result"
    }
   ],
   "source": [
    "len(cleaned_sentences)"
   ]
  },
  {
   "cell_type": "code",
   "execution_count": 52,
   "metadata": {},
   "outputs": [
    {
     "data": {
      "text/plain": [
       "(['узи', 'хттп', 'ру'], ['O', 'O', 'O'])"
      ]
     },
     "execution_count": 52,
     "metadata": {},
     "output_type": "execute_result"
    }
   ],
   "source": [
    "O_labeled[42]"
   ]
  },
  {
   "cell_type": "code",
   "execution_count": 53,
   "metadata": {},
   "outputs": [
    {
     "data": {
      "text/plain": [
       "89664"
      ]
     },
     "execution_count": 53,
     "metadata": {},
     "output_type": "execute_result"
    }
   ],
   "source": [
    "len(O_labeled)"
   ]
  },
  {
   "cell_type": "code",
   "execution_count": 54,
   "metadata": {},
   "outputs": [],
   "source": [
    "O_labeled = O_labeled * 8"
   ]
  },
  {
   "cell_type": "code",
   "execution_count": 55,
   "metadata": {},
   "outputs": [
    {
     "data": {
      "text/plain": [
       "717312"
      ]
     },
     "execution_count": 55,
     "metadata": {},
     "output_type": "execute_result"
    }
   ],
   "source": [
    "len(O_labeled)"
   ]
  },
  {
   "cell_type": "code",
   "execution_count": 56,
   "metadata": {},
   "outputs": [],
   "source": [
    "TRAIN_data = O_labeled + LOC_labeled + ORG_labeled + PER_labeled"
   ]
  },
  {
   "cell_type": "code",
   "execution_count": 57,
   "metadata": {},
   "outputs": [
    {
     "data": {
      "text/plain": [
       "1954066"
      ]
     },
     "execution_count": 57,
     "metadata": {},
     "output_type": "execute_result"
    }
   ],
   "source": [
    "len(TRAIN_data)"
   ]
  },
  {
   "cell_type": "code",
   "execution_count": 58,
   "metadata": {},
   "outputs": [],
   "source": [
    "import random\n",
    "TRAIN_data = random.sample(TRAIN_data, len(TRAIN_data))"
   ]
  },
  {
   "cell_type": "code",
   "execution_count": 59,
   "metadata": {},
   "outputs": [
    {
     "data": {
      "text/plain": [
       "(['имплантация', 'есть', 'вопросы'], ['O', 'O', 'O'])"
      ]
     },
     "execution_count": 59,
     "metadata": {},
     "output_type": "execute_result"
    }
   ],
   "source": [
    "TRAIN_data[58]"
   ]
  },
  {
   "cell_type": "code",
   "execution_count": 193,
   "metadata": {},
   "outputs": [
    {
     "data": {
      "text/plain": [
       "1.2569516666666667"
      ]
     },
     "execution_count": 193,
     "metadata": {},
     "output_type": "execute_result"
    }
   ],
   "source": [
    "((754171/100000)*4)/24"
   ]
  },
  {
   "cell_type": "code",
   "execution_count": 60,
   "metadata": {},
   "outputs": [
    {
     "data": {
      "text/plain": [
       "1954066"
      ]
     },
     "execution_count": 60,
     "metadata": {},
     "output_type": "execute_result"
    }
   ],
   "source": [
    "len_tota_data = len(TRAIN_data)\n",
    "len_tota_data"
   ]
  },
  {
   "cell_type": "code",
   "execution_count": 2,
   "metadata": {},
   "outputs": [
    {
     "data": {
      "text/plain": [
       "2.394299460300959"
      ]
     },
     "execution_count": 2,
     "metadata": {},
     "output_type": "execute_result"
    }
   ],
   "source": [
    "100/4176587*100000"
   ]
  },
  {
   "cell_type": "code",
   "execution_count": 61,
   "metadata": {},
   "outputs": [
    {
     "data": {
      "text/plain": [
       "1367846"
      ]
     },
     "execution_count": 61,
     "metadata": {},
     "output_type": "execute_result"
    }
   ],
   "source": [
    "#train data\n",
    "len_train_data = int(len_tota_data/100*70) # 90 percent of total data\n",
    "len_train_data"
   ]
  },
  {
   "cell_type": "code",
   "execution_count": 64,
   "metadata": {},
   "outputs": [
    {
     "data": {
      "text/plain": [
       "293109"
      ]
     },
     "execution_count": 64,
     "metadata": {},
     "output_type": "execute_result"
    }
   ],
   "source": [
    "len_validation_data = int(len_tota_data/100*15) # 8 percent of total data\n",
    "len_validation_data"
   ]
  },
  {
   "cell_type": "code",
   "execution_count": 10,
   "metadata": {},
   "outputs": [
    {
     "data": {
      "text/plain": [
       "36413"
      ]
     },
     "execution_count": 10,
     "metadata": {},
     "output_type": "execute_result"
    }
   ],
   "source": [
    "len_test_data = int(1820623/100*2) + 1 # 2 percent of total data + one entity to make a whole number\n",
    "len_test_data"
   ]
  },
  {
   "cell_type": "code",
   "execution_count": 12,
   "metadata": {},
   "outputs": [
    {
     "name": "stdout",
     "output_type": "stream",
     "text": [
      "1820623\n"
     ]
    }
   ],
   "source": [
    "len_total_data_1 = len_train_data + len_validation_data + len_test_data\n",
    "assert len_tota_data == len_total_data_1\n",
    "print(len_total_data_1)"
   ]
  },
  {
   "cell_type": "code",
   "execution_count": 13,
   "metadata": {},
   "outputs": [
    {
     "data": {
      "text/plain": [
       "(1820623, 1820623)"
      ]
     },
     "execution_count": 13,
     "metadata": {},
     "output_type": "execute_result"
    }
   ],
   "source": [
    "len_total_data_1, len_tota_data"
   ]
  },
  {
   "cell_type": "code",
   "execution_count": 205,
   "metadata": {},
   "outputs": [
    {
     "data": {
      "text/plain": [
       "16.02148"
      ]
     },
     "execution_count": 205,
     "metadata": {},
     "output_type": "execute_result"
    }
   ],
   "source": [
    "len_train_data / 100000 # 16 parts to train (+ 0.02148)"
   ]
  },
  {
   "cell_type": "code",
   "execution_count": 1,
   "metadata": {},
   "outputs": [
    {
     "ename": "NameError",
     "evalue": "name 'TRAIN_data' is not defined",
     "output_type": "error",
     "traceback": [
      "\u001b[0;31m---------------------------------------------------------------------------\u001b[0m",
      "\u001b[0;31mNameError\u001b[0m                                 Traceback (most recent call last)",
      "\u001b[0;32m<ipython-input-1-3624480a806b>\u001b[0m in \u001b[0;36m<module>\u001b[0;34m\u001b[0m\n\u001b[0;32m----> 1\u001b[0;31m \u001b[0mTRAIN_data\u001b[0m\u001b[0;34m[\u001b[0m\u001b[0;36m0\u001b[0m\u001b[0;34m]\u001b[0m\u001b[0;34m\u001b[0m\u001b[0;34m\u001b[0m\u001b[0m\n\u001b[0m",
      "\u001b[0;31mNameError\u001b[0m: name 'TRAIN_data' is not defined"
     ]
    }
   ],
   "source": [
    "TRAIN_data[0]"
   ]
  },
  {
   "cell_type": "code",
   "execution_count": 117,
   "metadata": {},
   "outputs": [],
   "source": [
    "import pickle\n",
    "\n",
    "with open('TRAIN_data.pkl' , 'wb') as fo:\n",
    "    pickle.dump(TRAIN_data, fo)"
   ]
  },
  {
   "cell_type": "code",
   "execution_count": 2,
   "metadata": {},
   "outputs": [],
   "source": [
    "import pickle\n",
    "with open('TRAIN_data.pkl', 'rb') as fo:\n",
    "    TRAIN_data = pickle.load(fo)"
   ]
  },
  {
   "cell_type": "code",
   "execution_count": 193,
   "metadata": {},
   "outputs": [],
   "source": [
    "count = 0\n",
    "\n",
    "with open(f'valid.txt', 'w') as fo:\n",
    "    for i in TRAIN_data[0:]:\n",
    "\n",
    "        if count > 20:\n",
    "            fo.write(f'\\n')\n",
    "            count = 0\n",
    "\n",
    "        for x,y in zip(i[0], i[1]):\n",
    "\n",
    "\n",
    "\n",
    "            fo.write(f'{x} {y}\\n')\n",
    "            count += 1"
   ]
  },
  {
   "cell_type": "code",
   "execution_count": 261,
   "metadata": {},
   "outputs": [],
   "source": [
    "# train data generation\n",
    "o = 0\n",
    "z = 100000\n",
    "\n",
    "for bz in range(1, 19):\n",
    "    \n",
    "\n",
    "\n",
    "    count = 0\n",
    "    with open(f'train_{bz}.txt', 'w') as fo:\n",
    "        for i in TRAIN_data[0:len_train_data][o:z]:\n",
    "\n",
    "            if count > 20:\n",
    "                fo.write(f'\\n')\n",
    "                count = 0\n",
    "\n",
    "            for x,y in zip(i[0], i[1]):\n",
    "\n",
    "\n",
    "\n",
    "                fo.write(f'{x} {y}\\n')\n",
    "                count += 1\n",
    "    o += 100000\n",
    "    z += 100000"
   ]
  },
  {
   "cell_type": "code",
   "execution_count": 262,
   "metadata": {},
   "outputs": [
    {
     "data": {
      "text/plain": [
       "1602148"
      ]
     },
     "execution_count": 262,
     "metadata": {},
     "output_type": "execute_result"
    }
   ],
   "source": [
    "len_train_data"
   ]
  },
  {
   "cell_type": "code",
   "execution_count": 111,
   "metadata": {},
   "outputs": [],
   "source": [
    "import psutil"
   ]
  },
  {
   "cell_type": "code",
   "execution_count": 129,
   "metadata": {},
   "outputs": [
    {
     "data": {
      "text/plain": [
       "19.7"
      ]
     },
     "execution_count": 129,
     "metadata": {},
     "output_type": "execute_result"
    }
   ],
   "source": [
    "psutil.cpu_percent()"
   ]
  },
  {
   "cell_type": "code",
   "execution_count": 94,
   "metadata": {},
   "outputs": [
    {
     "data": {
      "text/plain": [
       "1716307"
      ]
     },
     "execution_count": 94,
     "metadata": {},
     "output_type": "execute_result"
    }
   ],
   "source": [
    "1413430 + 302877"
   ]
  },
  {
   "cell_type": "code",
   "execution_count": 85,
   "metadata": {},
   "outputs": [
    {
     "data": {
      "text/plain": [
       "2"
      ]
     },
     "execution_count": 85,
     "metadata": {},
     "output_type": "execute_result"
    }
   ],
   "source": [
    "random.randint(0,9)"
   ]
  },
  {
   "cell_type": "code",
   "execution_count": 316,
   "metadata": {},
   "outputs": [
    {
     "data": {
      "text/plain": [
       "1670955"
      ]
     },
     "execution_count": 316,
     "metadata": {},
     "output_type": "execute_result"
    }
   ],
   "source": [
    "1660955 + 10000"
   ]
  },
  {
   "cell_type": "code",
   "execution_count": 317,
   "metadata": {},
   "outputs": [],
   "source": [
    "#test/validation data generation\n",
    "\n",
    "count = 0\n",
    "with open(f'test.txt', 'w') as fo:\n",
    "    for i in TRAIN_data[1660955:1670955]:\n",
    "        \n",
    "        random_ = int(np.random.normal(20,6))\n",
    "\n",
    "        if count > random_:\n",
    "            fo.write(f'\\n')\n",
    "            count = 0\n",
    "\n",
    "        for x,y in zip(i[0], i[1]):\n",
    "\n",
    "\n",
    "\n",
    "            fo.write(f'{x} {y}\\n')\n",
    "            count += 1"
   ]
  },
  {
   "cell_type": "code",
   "execution_count": 130,
   "metadata": {},
   "outputs": [
    {
     "data": {
      "text/plain": [
       "50000.0"
      ]
     },
     "execution_count": 130,
     "metadata": {},
     "output_type": "execute_result"
    }
   ],
   "source": [
    "500000/100*10"
   ]
  },
  {
   "cell_type": "code",
   "execution_count": 240,
   "metadata": {},
   "outputs": [
    {
     "data": {
      "text/plain": [
       "1887572.0"
      ]
     },
     "execution_count": 240,
     "metadata": {},
     "output_type": "execute_result"
    }
   ],
   "source": [
    "188757.2 + 188757.2 + 1510057.6"
   ]
  },
  {
   "cell_type": "code",
   "execution_count": 241,
   "metadata": {},
   "outputs": [
    {
     "data": {
      "text/plain": [
       "100670.50666666667"
      ]
     },
     "execution_count": 241,
     "metadata": {},
     "output_type": "execute_result"
    }
   ],
   "source": [
    "1510057.6 / 15"
   ]
  },
  {
   "cell_type": "code",
   "execution_count": 375,
   "metadata": {},
   "outputs": [
    {
     "data": {
      "text/plain": [
       "8.301904861111112"
      ]
     },
     "execution_count": 375,
     "metadata": {},
     "output_type": "execute_result"
    }
   ],
   "source": [
    "(((15 + (12 / 60)) * 1887591 / 2400) / 60) / 24"
   ]
  },
  {
   "cell_type": "code",
   "execution_count": 60,
   "metadata": {},
   "outputs": [
    {
     "data": {
      "text/plain": [
       "1067292.9"
      ]
     },
     "execution_count": 60,
     "metadata": {},
     "output_type": "execute_result"
    }
   ],
   "source": [
    "1185881/100*90"
   ]
  },
  {
   "cell_type": "code",
   "execution_count": 66,
   "metadata": {},
   "outputs": [
    {
     "data": {
      "text/plain": [
       "1126586"
      ]
     },
     "execution_count": 66,
     "metadata": {},
     "output_type": "execute_result"
    }
   ],
   "source": [
    "1067292 + 59294"
   ]
  },
  {
   "cell_type": "code",
   "execution_count": 61,
   "metadata": {},
   "outputs": [
    {
     "data": {
      "text/plain": [
       "59294.049999999996"
      ]
     },
     "execution_count": 61,
     "metadata": {},
     "output_type": "execute_result"
    }
   ],
   "source": [
    "1185881/100*5"
   ]
  },
  {
   "cell_type": "code",
   "execution_count": 62,
   "metadata": {},
   "outputs": [
    {
     "data": {
      "text/plain": [
       "59294.049999999996"
      ]
     },
     "execution_count": 62,
     "metadata": {},
     "output_type": "execute_result"
    }
   ],
   "source": [
    "1185881/100*5"
   ]
  },
  {
   "cell_type": "code",
   "execution_count": 165,
   "metadata": {},
   "outputs": [
    {
     "name": "stdout",
     "output_type": "stream",
     "text": [
      "карамyшева.марина др.марина cергеевна врач стоматолог терапевт детский стоматолог\n",
      "== cергеевна ==\n",
      "________________________________________________________________________________\n",
      "хирург.панаетов пластическии хирург москва панаетов а.п. консультация абдоминопластика блефаропластика маммопластика липосакция ринопластика феи слифтинг цены хттпс хирург панаетов.ру пластическая хирургия ценy\n",
      "== а.п. ==\n",
      "________________________________________________________________________________\n",
      "др.ангеллааас пластический хирург нск аас анжелла анатольевна руководитель клиники холлywоод аастудио ведущий пластический хирург все виды операций запись на консультацию хттпс wа.ме\n",
      "== аас ==\n",
      "________________________________________________________________________________\n",
      "гинеколог акбермет акушер гинеколог г. москва чербекова акбермет абдиллаевна тел w п каждый день с до запись на прием хттп wа.ме\n",
      "== абдиллаевна ==\n",
      "________________________________________________________________________________\n",
      "шаxзод абдушукуров идеал дент бесплатное консультатция хирургия терапия имплантация отбеливание зубов зоом ортодонтия ортопедия виниры\n",
      "== абдушукуров ==\n",
      "________________________________________________________________________________\n",
      "уро естетиcа андролог авадиева надезда к.м.н.уролог андролог интимная хирургия контурная пластика мж мужское здоровье продолжение рода очные дистанционные консультации\n",
      "== авадиева ==\n",
      "________________________________________________________________________________\n",
      "уролог авазкханов уролог хирург узи спб авазханов жалолиддин врач уролог высшеи категории опыт работы более лет центр урологии мариинскои больницы все виды операции хттп wа.ме\n",
      "== авазханов ==\n",
      "________________________________________________________________________________\n",
      "аccо.массо психолог психотерапевт поднялась с самого дна краткосрочная терапия самые лучшие результаты у моих клиентов весь август консультация по сниженной цене подробнее хттп таплинк.cc аccо.массо\n",
      "== август ==\n",
      "________________________________________________________________________________\n",
      "тигранаведиков кардиолог педиатр терапевт врач тигран степанович аведиков . скорая помощь на дому. ростов на дону приеду помогу расскажу. по всем вопросам хттпс меcоннеcт.ру тигранаведиков\n",
      "== аведиков ==\n",
      "________________________________________________________________________________\n",
      "агрипиди анна ортодонт спб создаю красивые улыбки ортодонтическое лечение взрослых и детеи санкт петербург записаться в диреcт wхацапп хттпс апи.wхацапп.cом сенд пхоне\n",
      "== агрипиди ==\n",
      "________________________________________________________________________________\n",
      "андролог омск андролог уролог омск сатыбалдин данияр агыбаевич врач уролог андролог делаю семьи счастливыми помогаю мужчинам и женщинам лет на страже вашего здоровья\n",
      "== агыбаевич ==\n",
      "________________________________________________________________________________\n",
      "уролог шарипов роман шарипов шарипов роман аделевич врач уролог хирург высшей категории. сфера профессиональных интересов лечение недержания мочи у женщин. хттпс www.пластикаплус.ру\n",
      "== аделевич ==\n",
      "________________________________________________________________________________\n",
      "доcтор.адмакин пластический хирург спб адмакин александр леонидович кмн профессор мапо. стаж более ти лет клиника абиа пластиcа запись консультация прием хттп беаутy март.ру\n",
      "== адмакин ==\n",
      "________________________________________________________________________________\n",
      "медcентр др ажубова медицинскии центр ажубовои гинекология узи всех органов дневной стационар озонотерапия\n",
      "== ажубова ==\n",
      "________________________________________________________________________________\n",
      "аинара доcтор нужный доктор акушер гинеколог доула курс роды от а до я учу рожать без разрывов йога для беременных новый набор на курс октября хттп wа.ме\n",
      "== аинара ==\n",
      "________________________________________________________________________________\n",
      "аинетдинова евгенииа врач стоматолог терапевт перм евгения лечение кариеса реставрация зуба лечение пульпита периодонтита проф.гигиена уз метод аирфлоw запись в директ\n",
      "== аинетдинова ==\n",
      "________________________________________________________________________________\n",
      "доc аирапетов гинеколог репродуктолог москва айрапетов давид юрьевич ищу проблемы там где другие ищут удовольствие не обещаю невозможное не лечу норму эндокринолог врач узи к.м.н хттп www.медквадрат.ру доcтор\n",
      "== аирапетов ==\n",
      "________________________________________________________________________________\n",
      "юлаичка юлия аичкина врач терапевт гастроэнтеролог гастроэнтерологворонеж воронеж амбулаторный при м\n",
      "== аичкина ==\n",
      "________________________________________________________________________________\n",
      "аише ханум др. а и с х е о с м а н о в а влюбле нная в жизнь врач стоматолог рабочии аккаунт др.аише османова стоматолог по вопросам в диреcт\n",
      "== аише ==\n",
      "________________________________________________________________________________\n",
      "доcтор кадyроваае айзада эркиновна врач акушер гинеколог кандидат медицинских наук врач узд стаж лет\n",
      "== айзада ==\n",
      "________________________________________________________________________________\n",
      "ортодонт.алсу айсылыу рахматуллина ортодонт в клинике галадент уфа мама очаровательной девочки ассель клиника галадент в топе лучших клиник россии хттпс апи.wхацапп.cом сенд пхоне\n",
      "== айсылыу ==\n",
      "________________________________________________________________________________\n",
      "уролог.спб алеxандровскаy.хп др.анвар акимжанович выпускник пспбгму им. и.п.павлова клиническая ординатура сзгму им. и.и.мечникова врач уролог. амбулаторный при м\n",
      "== акимжанович ==\n",
      "________________________________________________________________________________\n",
      "др.нун.акочян нуне акочян врач стоматолог\n",
      "== акочян ==\n",
      "________________________________________________________________________________\n",
      "елена казакоwа подолог студия красоты елены казаковой оренбург маникюр перманентный макияж подология ламенирование ресниц запись в wхацапп ул. аксакова д.\n",
      "== аксакова ==\n",
      "________________________________________________________________________________\n",
      "всефиолетово о аксиния рунолог пишу стихи всефиолетово\n",
      "== аксиния ==\n",
      "________________________________________________________________________________\n",
      "алифе дафина алаи ф дафина продажа и производство мед.изделий для защиты от пандемии и диагностики коронавируса гинекологии и акушерства медоборудование эндоскопия хттп www.бстмед.ру\n",
      "== алаи ==\n",
      "________________________________________________________________________________\n",
      "др.швили врач остеопат невролог александра алборишвили максимальное здоровье с минимумом таблеток учусь уже более лет чтобы вам помочь хттпс меcоннеcт.ру др швили\n",
      "== алборишвили ==\n",
      "________________________________________________________________________________\n",
      "др.алексашова стоматолог ортодонт алексашова юлия андреевна лечение брекет системой и элайнерами искусство делать улыбку свободной дралекс запись диреcт wа хттпс wа.ме\n",
      "== алексашова ==\n",
      "________________________________________________________________________________\n",
      "алдентикс стоматолог стоматолог симферополь керчь стоматолог мама х обожаю спорт здесь о стоматологии и обо мне лет создаем красивые улыбки вместе с черкасовым алексеем запись хттпс таплинк.cc алдентикс\n",
      "== алексеем ==\n",
      "________________________________________________________________________________\n",
      "алисе шадская стоматолог гигиенист спб о моей жизни работе и собаке расскажу о классных средствах для полости рта помогу сохранить зубы чистыми и сэкономить на лечении кариеса\n",
      "== алисе ==\n",
      "________________________________________________________________________________\n",
      "ортходонт ишенко . татьянаищенко член иccмо инвисалигн технология алф лечение дисфункциивнчс антиагедентистрy проф. гигиена по гбт в сво м темпе хттпс вк.cом ид\n",
      "== алф ==\n",
      "________________________________________________________________________________\n",
      "медcентралба медицинский центр альба лечение хронического цистита лабораторные анализы узи экг аллергология иммунология севастополь пр. генерала острякова б хттп албаcлиниc.ру\n",
      "== альба ==\n",
      "________________________________________________________________________________\n",
      "др аселя асель альмухамбетова кардиолог терапевт. запись на консультацию cлиниcа оxyмед\n",
      "== альмухамбетова ==\n",
      "________________________________________________________________________________\n",
      "елена аманy спб онлаи н школа восточного танца елена амани спасаю женщин от мужественности блог о красоте женственности сексуальности любви лессонс аре ин енглиш анд руссиан лангуаге хттп www.росбанк.ру леадген мождеб утм соурcе пимпаy утм медиум аффилиате утм cампаигн аффилиате мождебоут пимпаy wебмастер ид велес отхер елена аманy спб\n",
      "== амани ==\n",
      "________________________________________________________________________________\n",
      "доcтор.амекхина людмила амехина главный врач рефлексотерапия гирудотерапия фитотерапия акупунктурный лифтинг карбокситерапия газовые уколы запись на прием хттп wа.ме\n",
      "== амехина ==\n",
      "________________________________________________________________________________\n",
      "дедова анастася мастер технолог по депиляции опыт работы лет качественная процедура быстро гладко стерильно материалы премиум хттпс апи.wхацапп.cом сенд пхоне\n",
      "== анастася ==\n",
      "________________________________________________________________________________\n",
      "ултразтл зуботехническая лаборатория зтл ультра точно и в срок изготовим полный спектр работ для протезирования и ортодонтии. ультразтл зуботехническаялабораторияспб зубнойтехникспб хттп xн аад бб анг ф.xн п аи\n",
      "== анг ==\n",
      "________________________________________________________________________________\n"
     ]
    },
    {
     "name": "stdout",
     "output_type": "stream",
     "text": [
      "волберг.ортхо ортходонтист ангелика волберг врач ортодонт член профессионального общества ортодонтов россии г. москва личныи профиль мосангелес ежедневник ортодонта ортхобоок\n",
      "== ангелика ==\n",
      "________________________________________________________________________________\n",
      "велирамусиc певица блогер велира ангельский голос пишу песни сама песнистихи еще пока пою каверы певиcа но уже выступаю как артист премьера клипа лифе хттпс ёуту.бе y у те трк\n",
      "== ангельский ==\n",
      "________________________________________________________________________________\n",
      "андруxа ру андруxа ру личный аккаунт врача остеопата андрея александровича массагеспб санкт петербург . . . вс о здоровье здесь хттп инстаграм.cом остеомедпро\n",
      "== андрея ==\n",
      "________________________________________________________________________________\n",
      "др.антипенкова ортодонт красноярск антипенкова елена юрьевна клиника мира\n",
      "== антипенкова ==\n",
      "________________________________________________________________________________\n",
      "диамант ант врач терапевт москва диана антошел врач высшей категории заведующая отделением расскажу про низкоуглеводную жизнь научу заботиться о сво м здоровье\n",
      "== антошел ==\n",
      "________________________________________________________________________________\n",
      "гинеcолог меликова анула викторовна меликова гинеколог ддоктор летний стаж основатель и врач благ г.самара врач в клиника калинченко г.москва эстетическая гинекология хттпс благ.ру\n",
      "== анула ==\n",
      "________________________________________________________________________________\n",
      "др.аншина аньшина елена врач мама москва кардиолог семеи ныи врач честные обзоры в сторис все о здоровье сотр во пр.аншина аншина лифе полезные ссылки хттп таплинк.cc др.аншина\n",
      "== аньшина ==\n",
      "________________________________________________________________________________\n",
      "др.светлана ортодонт светлана апетовна врач ортодонт брекеты пластинки каппы трейнеры элайнеры инвисалигн консультация бесплатно\n",
      "== апетовна ==\n",
      "________________________________________________________________________________\n",
      "пулмо доc ольга богуш врач пульмонолог москва кдц арбатский подразделение нмхц им.пирогова пер.гагаринский\n",
      "== арбатский ==\n",
      "________________________________________________________________________________\n",
      "арникакрск арника семейная клиника пишем о женском и мужском здоровье советы врачей экспертов место где уютно как дома и где заботятся о пациенте кр. площадь а хттпс крск.тв номинатионс лучшайа многопрофилнайа медеcинскайа клиника\n",
      "== арника ==\n",
      "________________________________________________________________________________\n",
      "ортодонт.алсу айсылыу рахматуллина ортодонт в клинике галадент уфа мама очаровательной девочки ассель клиника галадент в топе лучших клиник россии хттпс апи.wхацапп.cом сенд пхоне\n",
      "== ассель ==\n",
      "________________________________________________________________________________\n",
      "аубакиров.булат булат аубакиров оберегай свою мечту поставил цель добейся и точка . медицина мирврача движениевверх идтикцели всебудетхорошо отецдвоихдетей нашажизнь..\n",
      "== аубакиров ==\n",
      "________________________________________________________________________________\n",
      "педиатр.нуржамал.аубакирова аубакирова нуржамал талгатовна врач педиатр. член ассоциации педиатров павлодарской области г. павлодар хттпс йанаесим.рух.кз ру партиcипанц нуржамал аубакирова.хтмл\n",
      "== аубакирова ==\n",
      "________________________________________________________________________________\n",
      "др.ауди дентист мосcоw виниры импланты стоматолог к.м.н доктор ауди хуссейн мохамадович люминиры виниры лечениезубов импланты удаление ботокс члх филлерыдлягуб стоматология хттпс гоо.гл кxймбф\n",
      "== ауди ==\n",
      "________________________________________________________________________________\n",
      "гyнеcологy аcтуал грамотныи гинеколог спб афанасьева фаина махмудовна к.м.н. оперативная гинекология подготовка к беременности лечение бесплодия проведу в мир материнства и здоровья запись хттпс спб.напоправку.ру доcтор профиле афанасева гусеyнова фаина макхмудовна\n",
      "== афанасева ==\n",
      "________________________________________________________________________________\n",
      "акхокхов залимхан ахохов ассистент кафедры урологии и репродуктивного здоровья человека с курсом детской урологии андрологии ростгму кандидат медицинских наук хттпс www.ёутубе.cом чаннел уcгг иап c оот yзкгcwтw\n",
      "== ахохов ==\n",
      "________________________________________________________________________________\n",
      "др курбонов уролог андролог узи спб цель к курбонов ахрор мц наша клиника запись на консультацию при мга зилиш учун хттпс wа.ме\n",
      "== ахрор ==\n",
      "________________________________________________________________________________\n",
      "бабасанганжурова бабасан ганжурова врач невролог к.м.н рефлексотерапевт хттп www.бабасан.орг\n",
      "== бабасан ==\n",
      "________________________________________________________________________________\n",
      "cор.доc кардиолог превентивный подход юлия баглаи помогу нормализовать давление холестерин и настроение. не ем сладкое\n",
      "== баглаи ==\n",
      "________________________________________________________________________________\n",
      "др багомаев виниры люминиры импланты спб эстетическая стоматология. работаю с микроскопом. реставрация и восстановление зубов. хттпс маестроcлиниc.ру\n",
      "== багомаев ==\n",
      "________________________________________________________________________________\n",
      "биорезонанcе екб биорезонансная терапия врач к.м.н. анастасия тульчинская лет практики в брт полная диагностика организма подбор продуктов витаминов бадов записаться хттпс апи.wхацапп.cом сенд пхоне\n",
      "== бадов ==\n",
      "________________________________________________________________________________\n",
      "подолог дамир подолог краснодар энгельс рскалиев дамир мне доверяют свои ноги футболисты решаю проблемы вросших ногтей грибки и инфекции травмы ногтей мозоли и др. консультация хттпс мссг.ме бажена студио\n",
      "== бажена ==\n",
      "________________________________________________________________________________\n",
      "доcтор базарганова гинеколог эндокринолог спб айшат мурадовна комплексный подход к лечению узи кольпоскопия специалист по лечению шейки матки запись на прием\n",
      "== базарганова ==\n",
      "________________________________________________________________________________\n",
      "др баyлиук евгений байлюк санкт петербург оперирующий гинеколог высшей категории к.м.н. все виды лапароскопических и гистероскопических операций в гинекологии хттп www.аваcлиниc.ру доcторс баyлюк евгениy николаевич\n",
      "== байлюк ==\n",
      "________________________________________________________________________________\n",
      "др якхяева акушер гинеколог махачкала яхьяева байсари исаковна эстетическая гинекология узи бесплодие республиканский перинатальный центр медлайф целитель запись по ссылке хттп апи.wхацапп.cом сенд пхоне\n",
      "== байсари ==\n",
      "________________________________________________________________________________\n",
      "неуролог.семя джина владиславовна бакузова врач невролог рефлексотерапевт мц семья мc семя пр. буденновский тел.\n",
      "== бакузова ==\n",
      "________________________________________________________________________________\n",
      "роxанаедуардовна роксана эдуардовна баладян стоматолог терапевт уфа стоматология арт лион стоматолог.уфа артлион лечение зубов без боли лечение лазером отбеливание профгигиена хттп артлион уфа.ру\n",
      "== баладян ==\n",
      "________________________________________________________________________________\n",
      "др.балакадашев врач стоматолог ставрополь балакадашев фарид лечение все виды коронок имплантация сложное удаление хттп др.балакадашев\n",
      "== балакадашев ==\n",
      "________________________________________________________________________________\n",
      "доcтор александрабалтрукова акушер гинеколог к.м.н. спб балтрукова александра узи эстетическая гинекология интимная пластика ведение беременности эндокринология гистероскопия медcлуб спб\n",
      "== балтрукова ==\n",
      "________________________________________________________________________________\n",
      "др.головина я врач онкогинеколог оренбург головина яна онкология не приговор листья лопуха и заговоры в бан рисую для души веселая семейка хттпс таплинк.cc др.головина я\n",
      "== бан ==\n",
      "________________________________________________________________________________\n",
      "др.банецкy максим банецкий хирург ортопед канд.мед.наук стаж с хирургия стопы малоинвазивные методики травмы и их последствия срастется все все ссылки здесь хттпс таплинк.cc др.банецкy\n",
      "== банецкий ==\n",
      "________________________________________________________________________________\n",
      "беаутy бар кс тату татуаж химки куркино тату через астропсихологию татуаж удаление лазер ремувер макияж химки куркино долгопрудный москва\n",
      "== бар ==\n",
      "________________________________________________________________________________\n",
      "ваш.йенскиy.врач гинеколог москва я барчынай бактыбековна врач акушер гинеколог узи лечение бесплодия зпп и эрозии все виды анализов тел ватсап хттпс wа.ме мессаге бф йкзрсф cк\n",
      "== барчынай ==\n",
      "________________________________________________________________________________\n"
     ]
    },
    {
     "name": "stdout",
     "output_type": "stream",
     "text": [
      "баснаевусеин хирург симферополь баснаев усеин ибрагимович хирург кандидат медицинских наук доцент кафедры медицинскои академии им.с.и.георгиевского хттпс таплинк.cc баснаевусеин\n",
      "== баснаев ==\n",
      "________________________________________________________________________________\n",
      "др.батаалиев батаалиев г. б. врач узи врач уролог хттп апи.wхацапп.cом сенд пхоне\n",
      "== батаалиев ==\n",
      "________________________________________________________________________________\n",
      "девичии врачи между нами девочками доктор шток и доктор батюшина два врача гинеколога. пишем о том что действительно волнует каждую женщину.\n",
      "== батюшина ==\n",
      "________________________________________________________________________________\n",
      "др.баштоваявалерy ортодонт баштовая валерия ортодонт симферополь консультации комплексная диагностика исправление прикуса аппаратами и брекет системами\n",
      "== баштовая ==\n",
      "________________________________________________________________________________\n",
      "кхирург движение пластическии хирург волгоград рязанцев игорь юрьевич бдеуи марианна ибрагимовна пономарев вячеслав валерьевич клиника движение клиника движение консультация хттп движение.cом\n",
      "== бдеуи ==\n",
      "________________________________________________________________________________\n",
      "соул лове надя бдоян мгдесян у любви за пазухои врач стоматолог хттпс мусиc.аппле.cом ру плаyлист соул лове пл.у леyл кyфйрмкгм\n",
      "== бдоян ==\n",
      "________________________________________________________________________________\n",
      "др.кумуков хирург москва кумуков марат бекиевич доцент кафедры хирургических болезней реавиз . врач хирург. кандидат медицинских наук. телефон для записи\n",
      "== бекиевич ==\n",
      "________________________________________________________________________________\n",
      "др.бекмурзинмарат марат бекмурзин врач акушер гинеколог хттп санара.рф\n",
      "== бекмурзин ==\n",
      "________________________________________________________________________________\n",
      "оксанабелголова оксана белголова врач акушер гинеколог. люблю путешествовать. узнавать что то новое.\n",
      "== белголова ==\n",
      "________________________________________________________________________________\n",
      "доcтор белеcкиy пластическии хирург ростов белецкии станислав геннадьевич блефаропластика отопластика интимная пластика увеличение груди ростов он дон донецк хттпс продоcторов.ру ростов на дону врач белеcкиy\n",
      "== белецкии ==\n",
      "________________________________________________________________________________\n",
      "софя белосвет стоматолог белосветова софья дентист cомпанион адвентурер лечение проф. гигиена отбеливание индивидуальныи подход хттп мсто.ме инстаграмcомсофя белосвет\n",
      "== белосветова ==\n",
      "________________________________________________________________________________\n",
      "гоодгирл ундерwеар нижнее белье оренбург гоодгирл нижнее бель которое влюбляет блог о твоей сексуальности гарантия идеальной посадки доставка по россии узнать наличие заказать хттпс мссг.ме гоодгирл ундерwеар\n",
      "== бель ==\n",
      "________________________________________________________________________________\n",
      "еленабигуняк елена бигуняк врач дерматолог нутрициолог коуч по здоровью красота и здоровье с нсп. есть вопросы пиши в диреcт жми на ссылку доктордерматологелена хттпс онлинекетогениc.ру фордоcторс\n",
      "== бигуняк ==\n",
      "________________________________________________________________________________\n",
      "рпавлунин руслан павлунин хирург рязань врач хирург мц на бирюзова гбу ро окб лазерное удаление родинки бородавки папилломы лазерное лечение рубцов липомы атеромы и пр. вопросы хттпс таплинк.cc рпавлунин\n",
      "== бирюзова ==\n",
      "________________________________________________________________________________\n",
      "совалина оффиcиал совалина астропсихология ежедневныи гороскоп совалина божович сми семеи ная астрология отношения и совместимость амулеты талисманы\n",
      "== божович ==\n",
      "________________________________________________________________________________\n",
      "доcлок блог артем локтев врач уролог кандидат медицинских наук доказательная урология и здравыи смысл хттпс тхе чалленгер.ру здорове сеx бол во время секса почему возникает и как избавиця от неприятнyх ошхушхений\n",
      "== бол ==\n",
      "________________________________________________________________________________\n",
      "елинника доcтор врач диетолог элина борханова я врач диетолог и нутрициолог научу составлять идеальнаятарелкаэб о еде и здоровье легко курсы консультации др cоурсес полезное хттпс таплинк.cc елинника\n",
      "== борханова ==\n",
      "________________________________________________________________________________\n",
      "массаге.в.сочи массаж спа сочи виктория родичева дипломированный массажист терапевтический уход кедровая бочка биолине йато сделаю вас счастливее запись хттпс апи.wхацапп.cом сенд пхоне\n",
      "== бочка ==\n",
      "________________________________________________________________________________\n",
      "доcтор брзезински эндокринолог детский москва бржезинская любовь борисовна кандидат медицинских наук о гормонах витаминах детском здоровье современный подход\n",
      "== бржезинская ==\n",
      "________________________________________________________________________________\n",
      "петрбринковский петр бриньковскии дизайнер улыбки виниры люминиры импланты москва клиникалембергалесная а волгоградрокоссовского клиникавысокоэстетическойстоматологиибриньковского хттпс петрбринковскиy.ру\n",
      "== бриньковскии ==\n",
      "________________________________________________________________________________\n",
      "ортодонт петербург ортодонты спб рузанна мироян опыт более лет валерия брума ортодонт в брекетах запись на консультацию хттп врачстоматолог.тилда.wс рузаннамиройан\n",
      "== брума ==\n",
      "________________________________________________________________________________\n",
      "брyлеева.доc анастасия брылеева педиатр специалист по лазерному лечению у детей и взрослых ооо центр сосудистой патологии москва покровский бульвар\n",
      "== брылеева ==\n",
      "________________________________________________________________________________\n",
      "cлиниcа бугровецкои клиника профессора бугровецкой неврология мануальная терапия стоматология гирудотерапия рефлексотерапия функц. диагностика логопедия мск wа хттп www.фб й.ру cонтент олеся стеcюра успет все и сразу\n",
      "== бугровецкой ==\n",
      "________________________________________________________________________________\n",
      "иван будyнкевич ресулц др.иван будyнкевич амд аестхетиc медиcал доcтор одесса cитy онлy ресулц иван будинкевич врач эстетической медицины запись в директ хттп инстаграм.cом др иван будyнкевич\n",
      "== будинкевич ==\n",
      "________________________________________________________________________________\n",
      "аза и бука детская стоматология москва находим подход к каждому ребенку лечим без слез и дарим улыбки оборудование лучших мировых брендов лечение во сне седация наркоз хттп азабука.ру\n",
      "== бука ==\n",
      "________________________________________________________________________________\n",
      "др.бундаков стоматолог тюмень александр бундаков терапевт реставратор международные стандарты лучшее что есть в стоматологии делаем в денталригхт хттп дрбундаков.ру\n",
      "== бундаков ==\n",
      "________________________________________________________________________________\n",
      "бунков денис денис буньков екатеринбург россия веду видео блог на ёутубе хттпс www.ёутубе.cом чаннел уcлвфофxw пгскс пл л та\n",
      "== буньков ==\n",
      "________________________________________________________________________________\n",
      "др.бурдюг травматолог ортопед москва илья бурдюг лечение и реабилитация без операции прием в клинике и выезд на дом диагностика переломов на дому онлайн курс реабилитации хттпс реабилитy щоол.ру\n",
      "== бурдюг ==\n",
      "________________________________________________________________________________\n",
      "периодантист пародонтолог мария буртасова кровит десна тебе сюда лет вкладываю душу в ваши улыбки плохой блогер в стадии исправления о медицине с пользои и юрга\n",
      "== буртасова ==\n",
      "________________________________________________________________________________\n",
      "багаутдин бутушев стома багаутдин врач стоматолог\n",
      "== бутушев ==\n",
      "________________________________________________________________________________\n",
      "дем с йем мотоциклистка владивосток будни травматолога жизнь жены пенсионера бывших жирных не бывает растим мужика л ху здесь без цензуры маламут в квартире\n",
      "== бывших ==\n",
      "________________________________________________________________________________\n",
      "санал басангович невролог рефлексотерапевт бюрчиев санал басангович москва новая рига иглоукалывание мануальная терапия фитотерапия кинезиотейп ие ортопед.стельки формтхотиcс хттпс www.сyстем мед.ру\n",
      "== бюрчиев ==\n",
      "________________________________________________________________________________\n",
      "стоматологмоcква стоматолог виниры москва др.наил бядретдинов бесплатная консультация виниры отбеливание гигиена лечение протезирование запись хттпс wа.ме\n",
      "== бядретдинов ==\n",
      "________________________________________________________________________________\n"
     ]
    },
    {
     "name": "stdout",
     "output_type": "stream",
     "text": [
      "неwпавловмд пластический хирург в.в павлов преподаватель кафедры доцент практика с г кандидат мед наук спб москва wа вбр краснодар\n",
      "== в.в ==\n",
      "________________________________________________________________________________\n",
      "дрстуденянская студенянская в.с. врач гинеколог специалист по эстетической гинекологии дорожная клиническая больница мечникова статус грация большевиков к wапп хттпс апи.wхацапп.cом сенд пхоне\n",
      "== в.с. ==\n",
      "________________________________________________________________________________\n",
      "урологвагаев уролог ульяновск вагаев владимир дмитриевич ульяновская областная больница мц консилиум ул. водопроводная дом лечу женщин и мужчин .\n",
      "== вагаев ==\n",
      "________________________________________________________________________________\n",
      "доcтор.еcо репродуктолог л москва юрматова наргис валиджановна врач гинеколог репродуктолог к.м.н проведение эко лечение всех видов бесплодия отвечаю на вопросы в диреcт хттпс лифе репродуcтион.ру\n",
      "== валиджановна ==\n",
      "________________________________________________________________________________\n",
      "кинезио дон мартиросян арсен ванушевич мануальная терапия прикладная кинезиология неврология и психокоррекция отзывы продокторов хттпс продоcторов.ру ростов на дону врач мартиросян\n",
      "== ванушевич ==\n",
      "________________________________________________________________________________\n",
      "др.варданашвили варданашвили ирина стоматолог отбеливание композитные реставрации лечение кариеса лечение корневых каналов зубов диреcт wхат сапп хттп инстаграм.cом валидент\n",
      "== варданашвили ==\n",
      "________________________________________________________________________________\n",
      "корж.лубов.доктор ортодонт брекеты воронеж корж любовь васильевна. создаю красивые улыбки. для взрослых и деток. брекеты. элаи неры. пластинки. будни ортодонта.\n",
      "== васильевна. ==\n",
      "________________________________________________________________________________\n",
      "кинесиопрофи медицинская кинезиология академия медицинской кинезиологии и мануальной терапии проф. л.ф. васильевой кинесиопрофи.ру тел. тел. wхацапп хттпс таплинк.cc кинесиопрофи\n",
      "== васильевой ==\n",
      "________________________________________________________________________________\n",
      "доcтор великоречин хирург проктология бариатрия\n",
      "== великоречин ==\n",
      "________________________________________________________________________________\n",
      "др.ве ром верхулевский роман врач стоматолог ортопед врач стоматолог общей практики создаю счастливые улыбки работаю в стом.нео тел. консультация бесплатно\n",
      "== верхулевский ==\n",
      "________________________________________________________________________________\n",
      "йеня логоладy логопед с выездом краснодар евгения бондарь йеня логоладy теам молода и весела найду подход к вашему реб нку вызов речи постановка звуков логомассаж хттп логопедонскyпе.ру\n",
      "== весела ==\n",
      "________________________________________________________________________________\n",
      "вера педиатр вера доктор всем добрый вечер меня зовут вера николаевна я педиатр и детский гастроэнтеролог по совместительству мама трех замечательных деток.\n",
      "== вечер ==\n",
      "________________________________________________________________________________\n",
      "фотофон шопинг фотофоны наклеи ки логотипы ирина вдохновляю и мотивирую фф шопинг полезно винил холст односторонние двусторонние инфо ффон шопинг инфо фоны фф шопинг cаталог\n",
      "== винил ==\n",
      "________________________________________________________________________________\n",
      "др баиш витвицкии пластический хирург спб мск витвицкий баиш александрович в пластике с года красивые результаты тысячи довольных пациентов клиника рами\n",
      "== витвицкии ==\n",
      "________________________________________________________________________________\n",
      "витриклубов любовь витрик гастроэнтеролог детокс эксперт стаж лет предприниматель представительства в странах запись на бесплатный детокс марафон пишите в директ\n",
      "== витрик ==\n",
      "________________________________________________________________________________\n",
      "логотипхиc логотип инста оформление готовые логотипы на странице водяной знак инструкция по наложению видео ролики инста шаблоны по всем вопросам васса йулийаархипова хттпс вк.cом логотипхиc\n",
      "== водяной ==\n",
      "________________________________________________________________________________\n",
      "др.волконина ливе врач невролог спб татьяна волконина лет стучу молоточком не запугиваю а вдохновляю научу жить без боли в шее и спине запись на консультацию хттпс таплинк.cc др.волконина ливе\n",
      "== волконина ==\n",
      "________________________________________________________________________________\n",
      "йулиакобра беаутy нутая юля кобра лучшии блог по версии моеи бабушки миллионы спасе нных волосков по ту сторону инстаграм пр йулиакобра wорк гаи д по волосам хттпс йулиакобра.cом\n",
      "== волосков ==\n",
      "________________________________________________________________________________\n",
      "др.волyков волыков павел григорьевич врач травматолог ортопед хирургия кисти хирургия стопы цкб ржд медицина хттпс cкб рзд.ру доcторс воликов павел григоревич\n",
      "== волыков ==\n",
      "________________________________________________________________________________\n",
      "стом.сияние сияние стоматология спб косyкхмарк все виды лечения отбеливание зубов индивидуальный подход лучшее оборудование спб воронежская ул.\n",
      "== воронежская ==\n",
      "________________________________________________________________________________\n",
      "ортодонцпб атмосфера улыбки ортодонтия под руководством ворониной дины д визуализация плана лечения лучшая аппаратура cарриереслx д акция бесплатная консультация до . хттп брекетy.спб.ру\n",
      "== ворониной ==\n",
      "________________________________________________________________________________\n",
      "маргаретт маргарита александровна врач акушер гинеколог вра узи врач пренатальной диагностики врач гинеколог эндокринолог директор мц прогноз\n",
      "== вра ==\n",
      "________________________________________________________________________________\n",
      "инстабез водy все секреты инстаграм бесплатно. доступно. без воды этот блог рекомендуют друзьям и прячут от врагов курсы вебинары тут меня зовут ильмира. хттпс таплинк.cc инстабез водy\n",
      "== врагов ==\n",
      "________________________________________________________________________________\n",
      "веновастоур туры турция турпакеты москва ваша выгода от руб при покупке тура у нас мы знаем лучших врачей в анталии трансферы мин. и вы в отеле хттп таплинк.cc веновастоур\n",
      "== выгода ==\n",
      "________________________________________________________________________________\n",
      "вязовтcев урологy врач уролог онколог спб вязовцев павел эндовидеохирургическое и эндоскопическое лечение урологических и онкоурологических заболеваний запись по телефону\n",
      "== вязовцев ==\n",
      "________________________________________________________________________________\n",
      "луизавяселева луиза вяселева личный блог\n",
      "== вяселева ==\n",
      "________________________________________________________________________________\n",
      "гyн ендоcрин гинекологи эндокринологи к.м.н. думановская м.р. к.м.н. табеева г.и. фгбу нмицагип им.в.и.кулакова запись на прием тел.\n",
      "== г.и. ==\n",
      "________________________________________________________________________________\n",
      "алисагадриян алиса гадриян дерматовенеролог но о работе редко\n",
      "== гадриян ==\n",
      "________________________________________________________________________________\n",
      "аристом cлиниc стоматология доктора газарова газаров ерванд рудольфович основатель и главный врач аристом др.газаров о зубах начистоту нам доверяют больше лет запись хттпс таплинк.cc аристом cлиниc\n",
      "== газарова ==\n",
      "________________________________________________________________________________\n",
      "газтдинов ильнур ихсанович стоматолог хирург имплантолог запись через директ хттп вк.cом ид\n",
      "== газтдинов ==\n",
      "________________________________________________________________________________\n",
      "галиновская маркетолог смм ижевск смм это просто привет я кристина пишу об инстаграм простыми словами лет люблю спорт и свою работу маркетолог с я знаю где живет маркетинг\n",
      "== галиновская ==\n",
      "________________________________________________________________________________\n",
      "магиcскиллс.арт художник роспись одежды коллаборация искусства от галунчикова ниcефаcеарт мы рисуем интерьерные картины иллюстрации портреты логотипы для заказа в диреcт\n",
      "== галунчикова ==\n",
      "________________________________________________________________________________\n",
      "мари дреам маша ганихина егорова мечты сбываются врач репродуктолог заведующий отделением эко кг мать и дитя тюмень\n",
      "== ганихина ==\n",
      "________________________________________________________________________________\n"
     ]
    },
    {
     "name": "stdout",
     "output_type": "stream",
     "text": [
      "доc рабаданов уролог врач врач узд рабаданов гапиз саидович фриланс ултра урологy истина где то рядом\n",
      "== гапиз ==\n",
      "________________________________________________________________________________\n",
      "др.гуликян пластическии хирург гуликян гарен нораирович к.м.н. медицина образ жизни красноярск хттп таплинк.cc др.гуликян\n",
      "== гарен ==\n",
      "________________________________________________________________________________\n",
      "гарyянов.ра роман гарьянов врач уролог\n",
      "== гарьянов ==\n",
      "________________________________________________________________________________\n",
      "ди гyнеcологист гинеколог узи москва краснодар мусаева диана гасратовна ильясова за доказательную гинекологию запись на прие м и онлаи н не придумываю болезни не лечу норму хттпс таплинк.cc ди гyнеcологист\n",
      "== гасратовна ==\n",
      "________________________________________________________________________________\n",
      "др гауер пластическии хирург москва гауэр любовь николаевна к.м.н. стаж работы лет более к успешных операций любовь в каждом преображении запишись на бесплатную консультацию хттпс таплинк.cc др гауер\n",
      "== гауэр ==\n",
      "________________________________________________________________________________\n",
      "др кидрасов др кидрасов врач травматолог ортопед руководитель мо воо молодая гвардия единой россии г. сибай председатель совета молодых врачей гбуз рб цгб г.сибай хттпс ф .cоол линар хл ру\n",
      "== гвардия ==\n",
      "________________________________________________________________________________\n",
      "др.шакхманова нурият шахманова нурият гебековна ооо мц лекарь старый член рнмот врач терапевт врач узд запись на при м хттпс апи.wхацапп.cом сенд пхоне\n",
      "== гебековна ==\n",
      "________________________________________________________________________________\n",
      "олга геизер психолог ольга гейзер лет саморазвития авторская методика как вс успевать и оставаться в ресурсе идти к целям без откладывания записаться на консультацию хттпс мссг.ме олга геизер\n",
      "== гейзер ==\n",
      "________________________________________________________________________________\n",
      "дерматолог асият рамазанова асият геланиевна о дерматологии с любовью в сторис интересные клинические случаи ебм\n",
      "== геланиевна ==\n",
      "________________________________________________________________________________\n",
      "ортодонт гелл ортодонт крым ростов на дону оксана геллерштейн лет в профессии исправление прикуса выравнивание зубов брекеты пластинки капы отбеливание запись на консультацию хттп wа.ме\n",
      "== геллерштейн ==\n",
      "________________________________________________________________________________\n",
      "гинекологзачаганск тауекелова к герш н адилаш ызы врач гинеколог диагностика лечение узи кольпоскопия адрес город уральск р н зачаганск мункеулы кдл олимп хттп гетчат.ме гинеcолог\n",
      "== герш ==\n",
      "________________________________________________________________________________\n",
      "доcтор.лесовских врач пульмонолог новосибирск лесовских евгения у меня у сына и мужа астма только доказательная медицина астма по гина скульптура хобби мои работы хттп инстаграм.cом сcулптуре wире\n",
      "== гина ==\n",
      "________________________________________________________________________________\n",
      "доcтор чаббаров чаббаров рустям гиняятуллаевич к.м.н. хирург флеболог г. саратов. член российского общества ангиологов и сосудистых хирургов омега клиник хттп www.омегаcлиниc.ру\n",
      "== гиняятуллаевич ==\n",
      "________________________________________________________________________________\n",
      "доcторберодзе гиоргии беродзе самыи добрыи педиатр гастроэнтеролог дети и взрослые диетолог эндоскопист доказательная медицина прие м в беродзе cлиниc и евиcлиниc хттпс таплинк.cc доcторберодзе\n",
      "== гиоргии ==\n",
      "________________________________________________________________________________\n",
      "чапалина доc врач акушер гинеколог глава амбулаторного отделения в евромед просвещаю девочек и женщин запись на прием по ссылке вопросы в директ хттпс еуромеднск.ру спеcс\n",
      "== глава ==\n",
      "________________________________________________________________________________\n",
      "доcтор гусеyнов годжо магомедович уролог андролог cелител махачкала ш. алиева а запись по номерам wхацапп хттпс wа.ме\n",
      "== годжо ==\n",
      "________________________________________________________________________________\n",
      "фирдаус.уразаева фирдаус уразаева врач гинеколог эндокринолог в мц меги кандидат мед. наук помогу приобрести квартиру под годовых по всей россии инвестиции\n",
      "== годовых ==\n",
      "________________________________________________________________________________\n",
      "др.янагордзиевская пластический хирург гордзиевская яна владимировна блефаропластика удаление комков биша нити аптос контурная пластика липосакция для связи хттп wа.ме\n",
      "== гордзиевская ==\n",
      "________________________________________________________________________________\n",
      "интан мира интан ул. мира центр имплантации и стоматологии все виды стоматологических услуг горьковская спортивная петроградская чкаловская хттпс интан.ру\n",
      "== горьковская ==\n",
      "________________________________________________________________________________\n",
      "др шамов ортодонт брекеты краснодар др. шамов шамов нураддин стоматолог ортодонт тел. г. краснодар г. темрюк г. горячий ключ пос. северский хттпс апи.wхацапп.cом сенд пхоне\n",
      "== горячий ==\n",
      "________________________________________________________________________________\n",
      "др.иннагринденко др. инна гринденко детский врач стоматолог запись на прием г. новосибирск ул. ленина дентал сервис детям\n",
      "== гринденко ==\n",
      "________________________________________________________________________________\n",
      "гришачевафдт татьяна георгиевна гришачева физиология обучаю врачей всех специальностей фдт и лазерным технологиям выездные циклы обучения по всей россии хттпс таплинк.cc гришачевафдт\n",
      "== гришачева ==\n",
      "________________________________________________________________________________\n",
      "др.гришченко маxим гришченко врач хирург онколог к.м.н. заведующий онкологическим отделением тоод стаж работы лет\n",
      "== гришченко ==\n",
      "________________________________________________________________________________\n",
      "др.олгагрудилова врач репродуктолог гинеколог грудилова ольга викторовна член рарч и ешре лечение бесплодия все виды врт эко икси\n",
      "== грудилова ==\n",
      "________________________________________________________________________________\n",
      "фаcемассаг.екб массаж лица арома гуаша екб скидка на первое посещение наталья мед.образование верну красоту без и хирургии массаж для души и тела для связи жми ссылку хттпс таплинк.cc фаcемассаг.екб\n",
      "== гуаша ==\n",
      "________________________________________________________________________________\n",
      "стоматолог акчурина гузел гузель акчурина милый и добрый доктор галадента стоматологгузельакчурина можно просто зубная фея пишу о стоматологии простым языком\n",
      "== гузел ==\n",
      "________________________________________________________________________________\n",
      "др.омурзакова гульзат омурзакова врач гинеколог эндокринолог врач узд консультации по гинекологии звоните для устных консультаций\n",
      "== гульзат ==\n",
      "________________________________________________________________________________\n",
      "гуслинскиy гуслинский олег стоматолог ортодонт хирург консультация и осмотр бесплатно wхат с апп смс хттп вк.cом ид\n",
      "== гуслинский ==\n",
      "________________________________________________________________________________\n",
      "стомат гутадент гута дент профессиональная клиника интересно и доступно о самых современных методах в стоматологии отвечаем на ваши вопросы хттп гутадент.ру\n",
      "== гута ==\n",
      "________________________________________________________________________________\n",
      "гелназ ирековна врач гинеколог москва айнетдинова гэльназ ирековна делаю женщин счастливыми лечу человека а не анализы объясняю понятными словами на связи с пациентками запись хттпс www.нрмед.ру рус врачи елемент ид\n",
      "== гэльназ ==\n",
      "________________________________________________________________________________\n",
      "педиатр.мйк динара альбертовна мусурманкулова д.а. врач педиатр аллерголог иммунолог стаж лет. новосибирск прием в хеликс с.шамшиных . хттпс wа.ме\n",
      "== д.а. ==\n",
      "________________________________________________________________________________\n",
      "др.кроманс лапароскопия в гинекологии кроманс дайнис леонидович врач акушер гинеколог лапароскопические операции любой степени сложности. запись wп москва\n",
      "== дайнис ==\n",
      "________________________________________________________________________________\n",
      "неурологy сториес невролог казань садыкова гульнара далисовна докторсадыкова невролог принимаю в cлиниcадр.заyцева диагностика и лечение заболевании нервнои системы\n",
      "== далисовна ==\n",
      "________________________________________________________________________________\n"
     ]
    },
    {
     "name": "stdout",
     "output_type": "stream",
     "text": [
      "др.даниелова ортодонт брекеты москва даниелова белла знаю все о голливудской улыбке жонглирую брекетами исправляю прикусы с лет для бесплатной консультации жмите хттпс апи.wхацапп.cом сенд пхоне\n",
      "== даниелова ==\n",
      "________________________________________________________________________________\n",
      "ст даниел дентал cлиниc клиника святого даниила имплантация зубов виниры коронки брекеты челюстно лицевая хирургия м. тульская хттп стданиил.ру\n",
      "== даниила ==\n",
      "________________________________________________________________________________\n",
      "доcтор.пургина врач гастроэнтеролог спб пургина даниэла сергеевна лечу взрослых и детей при м в q cлиниc и лахтаковенскиy директ закрыт вся информация о консультациях хттпс таплинк.cc доcтор.пургина\n",
      "== даниэла ==\n",
      "________________________________________________________________________________\n",
      "дарине био эко логия\n",
      "== дарине ==\n",
      "________________________________________________________________________________\n",
      "др.закарин кардиолог кардиохирург закарин алмас дауренбекович лечение ишемической болезни сердца и артериальной гипертензии аортокоронарное шунтирование консультации при осмотре хттп wа.ме\n",
      "== дауренбекович ==\n",
      "________________________________________________________________________________\n",
      "др.двенянина стоматолог москва алтуфьево двенянина дарья алексеевна лечение зубов акция на отбеливание зоом лечение на аппарате веcтор запись в директ wа хттпс апи.wхацапп.cом сенд пхоне\n",
      "== двенянина ==\n",
      "________________________________________________________________________________\n",
      "доcтор меги.дема главный врач клиники меги д ма г. уфа дагестанская . без выходных забор анализов педиатры узкие специалисты диагностика вакцинация хттпс вк.cом меги дема\n",
      "== дема ==\n",
      "________________________________________________________________________________\n",
      "др. дендyмарченко рс травматолог дендымарченко р.с. травматолог ортопед лечение острых травм. оперативное лечение переломов коррекция деформаций стоп. халлус валгус хттпс гкбе.ру\n",
      "== дендымарченко ==\n",
      "________________________________________________________________________________\n",
      "денира врн стоматология воронеж\n",
      "== денира ==\n",
      "________________________________________________________________________________\n",
      "др дсс пластическии хирург москва дерновои сергеи сергеевич хттпс дрдерновоy.ру\n",
      "== дерновои ==\n",
      "________________________________________________________________________________\n",
      "сергеy дерновоy пластический хирург москва сергей дерновой опыт работы лет пластический челюстно лицевой хирург ваша красота моя профессия запись на при м хттп www.дрдерновоy.ру\n",
      "== дерновой ==\n",
      "________________________________________________________________________________\n",
      "доcтор преггие гинеколог спб катаева эльвира джамаровна круглосуточная консультация врач акушер гинеколог гинеколог эндокринолог репродуктолог врач узд хттп таплинк.cc доcтор преггие\n",
      "== джамаровна ==\n",
      "________________________________________________________________________________\n",
      "стоматолог джапаркханов дентист джапарханов мурад гигиена чистка эстетика отбеливание реставрация терапия лечение ортопедия коронки хирургия удаление контактный номер хттпс апи.wхацапп.cом сенд пхоне\n",
      "== джапарханов ==\n",
      "________________________________________________________________________________\n",
      "марям расуловна марьям расуловна джапарханова врач терапевт гастроэнтеролог забочусь о вашем здоровье онлайн консультации медицинская клиника медиcал парк запись или нажмите сюда хттп апи.wхацапп.cом сенд пхоне\n",
      "== джапарханова ==\n",
      "________________________________________________________________________________\n",
      "йосюлия юлия джос психотерапевт к.м.н. помощь детям взрослым семьям динамичное продвижение от проблемы к ресурсам и трансформациям хттп йосюлия.ру\n",
      "== джос ==\n",
      "________________________________________________________________________________\n",
      "доктор кира стоматолог санкт петербург кира дзаговская астахова хирург имплантолог пародонтолог терапевт емаил протеcтед имплантация лечение эстетика\n",
      "== дзаговская ==\n",
      "________________________________________________________________________________\n",
      "аллерго школа аллерголог иммунолог сочи дзядук татьяна понятным почерком об аллергии дм прием сочи теремок здоровя сочи геленджик новороссийск мc фамили\n",
      "== дзядук ==\n",
      "________________________________________________________________________________\n",
      "др.диарова эндокринолог чебоксары антонина диарова терапевт эндокринолог знаю о гормонах все учу будущих врачеи здоровье всеи семьи планирование беременности\n",
      "== диарова ==\n",
      "________________________________________________________________________________\n",
      "диго доc хирург флеболог узд москва муад альфредович руководитель медицинского центра ооо хирургия врач кмн хирург флеболог проктолог неи рохирург . хттпс мастерстл.ру м кхирург флеболог узд москва\n",
      "== диго ==\n",
      "________________________________________________________________________________\n",
      "боярсская настя мобильныи видеомонтаж все секреты блогерских приемов здесь становлюсь блогером с нуля следи в актуальных инст мое дите ричнеесс лаш марафон руб хттпс таплинк.cc боярсская\n",
      "== дите ==\n",
      "________________________________________________________________________________\n",
      "таисия реукова таисия гинеколог москва реукова таисия александровна опыт более лет отвечаю в диреcт.подпишись запись на прием м. добрынинская\n",
      "== добрынинская ==\n",
      "________________________________________________________________________________\n",
      "довyборов.а.о довыборов александр олегович общая пластическая хирургия онкология. тольятти. хттпс вк.cом ид\n",
      "== довыборов ==\n",
      "________________________________________________________________________________\n",
      "маринаадолгиер марина долгиер бизнес онлайн невролог вертебролог ботулинотерапевт. заболевания позвоночника и суставов хроническая мигрень. бизнес онлайн это движ супер доп.доход .\n",
      "== долгиер ==\n",
      "________________________________________________________________________________\n",
      "доc гуленкова гуленкова дарья привет.я врач акушер гинеколог работаю в этой сфере долго и хочу поделиться с вами всеми секретами моей профессии женская интимная пластика\n",
      "== долго ==\n",
      "________________________________________________________________________________\n",
      "каркасдом нск каркасные дома новосибирск строительство домов бань гаражей беседок скандинавская технология демонтаж ремонт отделка лет на рынке гарантия качества сайт хттп www.каркасдом нск.ру\n",
      "== домов ==\n",
      "________________________________________________________________________________\n",
      "др.брагарева стоматолог виниры ростов наталья брагарева кандидат медицинских наук лучшии стоматолог дона эксперт по вашей голливудской улыбке лечение дисфункций внчс сайт хттп наталиабрагарева.cом\n",
      "== дона ==\n",
      "________________________________________________________________________________\n",
      "кирилл коломиец кирилл коломиец врач онкохирург донецкий онкологический центр им. г.в. бондаря вибер wхацапп\n",
      "== донецкий ==\n",
      "________________________________________________________________________________\n",
      "белиy клик белый клык стоматология хабаровск лечение плазмолифтинг протезирование импланты пн пт сб большой аэродром дос хттп xн cдуыафд ое.xн п аи\n",
      "== дос ==\n",
      "________________________________________________________________________________\n",
      "ян.артерапхy психолог арт терапевт ян дворкин он его огненный дракон и небинарный человек очные группы личная терапия лгбтqиа фриендлy группа для т персон хттп прогендер.тилда.wс\n",
      "== дракон ==\n",
      "________________________________________________________________________________\n",
      "тиана.клери дрес платье корсет пошив тиана клери царица машинок богиня ниток укротительница корсетов . я астролог астролог клери . я продаю наличие ти.клер.фашион . татьяна хттп мссг.ме тиана.клери\n",
      "== дрес ==\n",
      "________________________________________________________________________________\n",
      "др.дукузова др. дукузова анетта ортодонт стоматолог москва брекеты всех видов съемная аппаратура элайнеры.лечение.виниры. для записи на прием пишите в диреcт w а хттп www.здоровиел мск.ру\n",
      "== дукузова ==\n",
      "________________________________________________________________________________\n",
      "неw медиcине лиаз новая медицина в ликино дул во многопрофильный мед.центр выезд врача на дом опытные врачи стоматология анализы узи цифровой рентген медсправки цены и запись хттп таплинк.cc неw медиcине лиаз\n",
      "== дул ==\n",
      "________________________________________________________________________________\n",
      "др.дyкханов алеxеy алексей дыханов врач стоматолог ортодонт брекеты каппы имплантация виниры коронки лечение зубов город москва ул.крупской д.\n",
      "== дыханов ==\n",
      "________________________________________________________________________________\n",
      "орал сург стоматолог импланты тюмень константин дышлевой удаление зубов имплантация астра теч осстем мис навигационная хирургия костная пластика\n",
      "== дышлевой ==\n",
      "________________________________________________________________________________\n",
      "др делиамедиcал дэлия инстамама врачей амбассадор счастливых врачей несу медицину в массы мои сторис мотивируют со мной вы обречены на успех инстаклиника мycросс клиника марафон хттп др.делиамедиcал.ру дифференcес\n",
      "== дэлия ==\n",
      "________________________________________________________________________________\n"
     ]
    },
    {
     "name": "stdout",
     "output_type": "stream",
     "text": [
      "томичкатомск стоматолог краснова е.в лечение протезирование проф.гигиена реставрация виниринг кузнецова хттпс апи.wхацапп.cом сенд пхоне\n",
      "== е.в ==\n",
      "________________________________________________________________________________\n",
      "межидов казбек султанович межидов гл. врач рдкб им. е.п. глинки к.м.н. председатель правления чроо медицинская палата главныи педиатр скфо\n",
      "== е.п. ==\n",
      "________________________________________________________________________________\n",
      "wелл cлиниc ростов стоматология баранова е.с. лечение имплантация зубов протезирование брекеты детская стоматология отбеливание бесплатная консультация рассрочка без хттпс wелл cлиниc.ру\n",
      "== е.с. ==\n",
      "________________________________________________________________________________\n",
      "кожевников евгени травматолог барнаул мц гарант хирургия новообразовании кожи врач травматолог ортопед врач криолог\n",
      "== евгени ==\n",
      "________________________________________________________________________________\n",
      "др махитаров руководитель др. вита ростов он дон врач стоматолог ортопед диреcт wхацапп вибер махитаров петр арсент евич\n",
      "== евич ==\n",
      "________________________________________________________________________________\n",
      "елен стармакеуп елена евсеенок визажист визажист бровис блог во имя красоты учу краситься в сториес макияж обучение идеальные брови за р жми и записывайся хттпс инстаграм.cом елен стармакеуп игшид cс фт иоиуд\n",
      "== евсеенок ==\n",
      "________________________________________________________________________________\n",
      "доcтор егорyев ваш стоматолог дмитрий егорьев москва и красногорск все виды стоматологических услуг обучаю врачей авиcенна.денталстарт цены и консультации по ссылке в wхацапп хттп апи.wхацапп.cом сенд пхоне\n",
      "== егорьев ==\n",
      "________________________________________________________________________________\n",
      "др.елгриненко ортодонт гриненко елеонора гриненко элеонора викторовна ортодонт стоматолог общеи практики член рпа стар ефп епма научныи сотрудник пспбгму им.и.п.павлова хттп гпc пакс.ру\n",
      "== елеонора ==\n",
      "________________________________________________________________________________\n",
      "доcтор елшанскиy игорь ельшанский хирург флеболог хирург клиника в центре москвы липома липоматоз атерома варикоз сосудистые звездочки вросший ноготь подробнее хттп таплинк.cc доcтор елшанскиy\n",
      "== ельшанский ==\n",
      "________________________________________________________________________________\n",
      "др.гурбанов емил стоматолог красноярск твой зубной врач эмиль лечу детей без сл зок люблю дарить улыбку лет в профессии красноярск для записи хттп апи.wхацапп.cом сенд пхоне теxт wхацапп\n",
      "== емил ==\n",
      "________________________________________________________________________________\n",
      "др.онcо.дим онколог к.м.н москва современная лекарственная терапия рака какого в сториес. мд пхд др. дмитрy кравченко чемотхерапy cоунтриес. енг есп итал порт хттпс продоcторов.ру москва врач кравченко\n",
      "== енг ==\n",
      "________________________________________________________________________________\n",
      "стоматологиаера стоматология эра лечение имплантация и протезирование хирургия и парадонтология профилактика и гигиена собственная цифровая лаборатория элайнеры хттп ера клиника.ру\n",
      "== ера ==\n",
      "________________________________________________________________________________\n",
      "др.ержанова гастроэнтеролог нутрициолог елена васильевна ержанова прием в клинике цнмт студент превентаге акция онлайн с сопровождением все вопросы по ссылке хттп ержанова.ру гастро\n",
      "== ержанова ==\n",
      "________________________________________________________________________________\n",
      "уролог авазкханов уролог хирург узи спб авазханов жалолиддин врач уролог высшеи категории опыт работы более лет центр урологии мариинскои больницы все виды операции хттп wа.ме\n",
      "== жалолиддин ==\n",
      "________________________________________________________________________________\n",
      "невролог др махмудова гюльнара жамидиновна врач невролог. исследователь. аспирант кафедры нервных болезней и нейрохирургии сеченовского университета. вопросы в диреcт\n",
      "== жамидиновна ==\n",
      "________________________________________________________________________________\n",
      "ортодонт гулбану ортодонт стоматолог астана др.гулбану жанарбековна создаю улыбки которые меняют всю жизнь исправляю прикус взрослым и детям онедент.кз каспи ред. онлайн запись хттпс wа.ме\n",
      "== жанарбековна ==\n",
      "________________________________________________________________________________\n",
      "йахоур наталия наталия жахур врач акушер гинеколог клиники мать и дитя кунцево к.м.н запись по телефону или доб.\n",
      "== жахур ==\n",
      "________________________________________________________________________________\n",
      "др шатова стоматолог воронеж будни стоматолога с любовью к твоим приворот на красивую улыбку заговор от кариеса все вопросы в директ или по т. г.воронеж левый бе\n",
      "== заговор ==\n",
      "________________________________________________________________________________\n",
      "задунаева.псy анна задунаева психолог помогаю в снижении веса работаю с тревогой и напряжением сопровождаю на пути к внутренней свободе и новым смыслам едапочемуя очно и онлайн хттпс www.анназадунаева.ру едапочемуя\n",
      "== задунаева ==\n",
      "________________________________________________________________________________\n",
      "уролог хирург врач уролог хирург махачкала зайнулабидов зайнулабид шихшаевич опыт работы лет кандидат медицинских наук лечение хирургия репродуктолог бесплодие\n",
      "== зайнулабидов ==\n",
      "________________________________________________________________________________\n",
      "елянарома еляна закхарова мы то что мы едим наноси на лицо то что можно съесть член ассоциации нутрициологов и коучей по здоровью хозяи ка отеля фамилyхотелрадом хттпс www.мyyл.cом арома руссиа\n",
      "== закхарова ==\n",
      "________________________________________________________________________________\n",
      "доcторзалавин владимир залавин врач травматолог ортопед эксперт практик по артроскопии крупных суставов запись на при м добромед био личный сайт хттп залавин.ру\n",
      "== залавин ==\n",
      "________________________________________________________________________________\n",
      "др базарова гинеколог базарова залха нураддин ассистент волггму врач акушер гинеколог гинеколог детского и подросткового возраста врач узд клиника семейной медицины\n",
      "== залха ==\n",
      "________________________________________________________________________________\n",
      "др.замятнин уролог д.м.н. замятнин сергей урология л андрология л онкология реконструктивная урология лет опыта статей пособия патент консультации хттпс апи.wхацапп.cом сенд пхоне\n",
      "== замятнин ==\n",
      "________________________________________________________________________________\n",
      "доcтор заников стоматолог хирург краснодар удаления любой сложности имплантация костная пластика краснодар бесплатная консультация wа\n",
      "== заников ==\n",
      "________________________________________________________________________________\n",
      "андролог сочи уролог андролог сочи ашот заренович хамалян лечение мужских болезней лечение мужского бесплодия лечение мочевой системы женщин урология андрология узи\n",
      "== заренович ==\n",
      "________________________________________________________________________________\n",
      "др.зафираки врач кардиолог краснодар зафираки виталий константинович доктор медицинских наук врач кардиолог доцент кубгму о медицине просто и понятно хттп апное .ру\n",
      "== зафираки ==\n",
      "________________________________________________________________________________\n",
      "ревматолог лукманова врач ревматолог уфа лукманова луиза зафировна прием взрослого ревматолога запись на при м про полиартрит хттп www.кп.ру путеводител здорове полиартрит\n",
      "== зафировна ==\n",
      "________________________________________________________________________________\n",
      "мут.тв работа онлаи н нл нутрициолог мутовина татьяна минус кг за днеи мои марафоны стройности меняют жизнь звонко смеюсь в сториес все подробности здесь хттпс таплинк.cc мут.тв\n",
      "== звонко ==\n",
      "________________________________________________________________________________\n",
      "доcзданевич акушер гинеколог зданевич врач гинеколог эндокринолог кандидат медицинских наук медицинский опыт лет москва можайское шоссе д. корп. хттпс www.wхо.инт ру емергенcиес дисеасес новел cоронавирус адвиcе фор публиc\n",
      "== зданевич ==\n",
      "________________________________________________________________________________\n",
      "зерницкиy стом зерницкий александр стоматолог хирург кандидат медицинских наук доцент кафедры хирургической стрматологии и члх пспбгму им.ак.павлова стаж работы лет\n",
      "== зерницкий ==\n",
      "________________________________________________________________________________\n",
      "др.головко юныи доктор будни студента рниму любимые и смешные кира макс в сториес интервью с врачами на важные темы смотри мои канал в ёутубе и игтв хттпс www.ёутубе.cом чаннел уc зз фдq з ерx а еyww\n",
      "== зз ==\n",
      "________________________________________________________________________________\n",
      "знаиуненкортхо врач ортодонт знаюненко врач ортодонт исправление прикуса двнчс брекеты и т.д. . запись через диреcт желаю всем гармониии и счастья\n",
      "== знаюненко ==\n",
      "________________________________________________________________________________\n",
      "уросочи.ру урология и гинекология в сочи безоперационная пластика деликатных зон тела в сочи гинекология урология лицам старше вопросы по тел wхацапп запись хттп уросочи.ру\n",
      "== зон ==\n",
      "________________________________________________________________________________\n",
      "др.зубаилова кардиолог терапевт москва светлана зубаилова глав. врач совладелец медицинского центра провита cлиниc кардиолог терапевт мама x запись хттпс таплинк.cc зубаиловасветлана\n",
      "== зубаилова ==\n",
      "________________________________________________________________________________\n",
      "зyблевамв детский массаж ростов зыблева марина викторовна детский реабилитолог научу сидеть ползать ходить обо мне хттпс таплинк.cc зyблевамв\n",
      "== зыблева ==\n",
      "________________________________________________________________________________\n"
     ]
    },
    {
     "name": "stdout",
     "output_type": "stream",
     "text": [
      "нюта о анна симачева врач акушер гинеколог специалист по эстетической гинекологии мама крошки зю москва юзао\n",
      "== зю ==\n",
      "________________________________________________________________________________\n",
      "доcторпластик пластический хирург кунпан и.а доктор медицинских наук профессор лет стажа все виды пластических операций клиника золотое сечение хттп www.руспластика.ру\n",
      "== и.а ==\n",
      "________________________________________________________________________________\n",
      "климова ортхо ортодонт оренбург климова и.в. климова инна владимировна исправление прикуса взрослым и детям стоматология жемчужина запись по телефону\n",
      "== и.в. ==\n",
      "________________________________________________________________________________\n",
      "доcторафанасев онкогинеколог афанасьев м.с. профессор мгму и.м сеченова сохраняю женское репродуктивное здоровье методом фдт без операции и удаления . инфо хттпс таплинк.cc доcторафанасев\n",
      "== и.м ==\n",
      "________________________________________________________________________________\n",
      "герасимовуролог антон герасимов детский уролог хирург неотложной помощи детям все про урологию и хирургию запись на при м кмкб им. и.с. берзона клиника медпрактик\n",
      "== и.с. ==\n",
      "________________________________________________________________________________\n",
      "доc елена.игнатикова терапевт диетолог москва игнатикова елена николаевна со мной забудешь слово диета консультирую онлине по всему миру грамотное снижение веса хттп игнатикова.ру\n",
      "== игнатикова ==\n",
      "________________________________________________________________________________\n",
      "иж медиcине ооо ижевская медицина стоматологическое оборудование и расходные материалы. удмуртская республика г. ижевск ул. совхозная а тел\n",
      "== ижевская ==\n",
      "________________________________________________________________________________\n",
      "др wацон др. илнар валиуллин абдоминальный хирург. флеболог. врач ультразвуковой диагностики. место приема гауз гкб клиника флебо хттпс инстаграм.cом вариcоз кзн игшид и xyгхтcуут\n",
      "== илнар ==\n",
      "________________________________________________________________________________\n",
      "мама аллерголог надежда ильинцева аллерголог кандидат меднаук член еааcи практика врача лет как вырастить ребенка аллергика здоровым онлине курсы и коучинг для родителей запись в директ\n",
      "== ильинцева ==\n",
      "________________________________________________________________________________\n",
      "имамкулиевазат имамкулиев азат чарыевич врач травматолог ортопед кандидат медицинских наук артроскопическая хирургия коленного и плечевого сустава заболевания колена и плеча хттп королев.cлиниc\n",
      "== имамкулиев ==\n",
      "________________________________________________________________________________\n",
      "др.умид аббасов флеболог казань нижнекамск аббасов умид интигамович сосудистый хирург флеболог узи вен конечностей лазерное лечение варикоза эвлк склеротерапия сосудистых звездочек\n",
      "== интигамович ==\n",
      "________________________________________________________________________________\n",
      "др.инcертов пластическии хирург воронеж инцертов михаил александрович воронеж к.м.н стаж лет омоложение пластика лица блефаро отопластика маммопластика бесплатная консультация хттпс апи.wхацапп.cом сенд пхоне\n",
      "== инцертов ==\n",
      "________________________________________________________________________________\n",
      "др.иркалиев репродуктолог эко репродуктолог иркалиев альберт михайлович хттп wа.ме\n",
      "== иркалиев ==\n",
      "________________________________________________________________________________\n",
      "дрюлиамарилова юлия марилова главврач клиники исида семеи ныи доктор. гинеколог. антропософскии подход исидаcлиниc звенигород хттп www.исидаcлиниc.ру\n",
      "== исида ==\n",
      "________________________________________________________________________________\n",
      "елина кашаева елина искужина руководитель и врач стоматолог клиники риадент уфа\n",
      "== искужина ==\n",
      "________________________________________________________________________________\n",
      "др винокурова винокурова к.а стоматолог врач и спасатель твоей улыбки полезные сторис консультации онлайн запись wхацапп василеостровская\n",
      "== к.а ==\n",
      "________________________________________________________________________________\n",
      "др.киселев с у р г е о н киселев владислав михайлович врач челюстно лицевой хирург дгмкц вмт им. к.а. раухфуса врач стоматолог хирург имплантирую под депечемоде\n",
      "== к.а. ==\n",
      "________________________________________________________________________________\n",
      "др.кабаш диана кабаш врач стоматолог для записи хттпс wа.ме\n",
      "== кабаш ==\n",
      "________________________________________________________________________________\n",
      "доcтор.елмира.кабулиева маммолог.онколог.хирург. кабулиева эльмира исламутдиновна. хирургическое лечение реконструкция груди. хттп www.елмиракабулиева.тилда.wс\n",
      "== кабулиева ==\n",
      "________________________________________________________________________________\n",
      "казакин дентал стоматология врачей казакиных клиника для всей семьи лечение протезирование имплантация виниры брекеты лет опыта больше тысяч пациентов подробнее на сайте хттпс казакиндентал.ру\n",
      "== казакин ==\n",
      "________________________________________________________________________________\n",
      "елена казакоwа подолог студия красоты елены казаковой оренбург маникюр перманентный макияж подология ламенирование ресниц запись в wхацапп ул. аксакова д.\n",
      "== казаковой ==\n",
      "________________________________________________________________________________\n",
      "доcторсен врач стоматолог москва казахецян сен артурович лечение зубов отбеливание виниры люминиры протезирование wхацапп хттпс апи.wхацапп.cом сенд пхоне\n",
      "== казахецян ==\n",
      "________________________________________________________________________________\n",
      "доc дзоцоев артур дзотцоев москва пластический хирург дзотцоев артур казгериевич хирургия высоких технологий операции экспертного уровня лицензия на работу с детьми\n",
      "== казгериевич ==\n",
      "________________________________________________________________________________\n",
      "андролог томск андролог уролог томск я камитов ринат русланович провожу онлайн консультацию медикаментозное лечение оперативное лечение профилактика уро заболевание вся инфа тут хттпс таплинк.cc андролог томск\n",
      "== камитов ==\n",
      "________________________________________________________________________________\n",
      "маммолог одинцово маммолог хирург одинцово маммологический кабинет каневцова в.в. все виды диагностики и лечения заболеваний молочной железны щитовидной железы и мягких тканей.\n",
      "== каневцова ==\n",
      "________________________________________________________________________________\n",
      "др.едмитрy ортодонт спб брекеты элаи неры и дмитрии канпинович зав. отделением в полниy порядок лектор ормcоруссиа сколько стоит лечение хотите на консультацию хттпс таплинк.cc др.едмитрy\n",
      "== канпинович ==\n",
      "________________________________________________________________________________\n",
      "мар гент маргарита кантарович иммунолог аллерголог нутрициолог хттпс доcтор арбитаило.ру онлине\n",
      "== кантарович ==\n",
      "________________________________________________________________________________\n",
      "др.замира омарова др. замира омарова стоматология эстетика ул.эфенди капиева россия.дагестан.махачкала\n",
      "== капиева ==\n",
      "________________________________________________________________________________\n",
      "клиника скирт коррекция сдвг рас красноярск нейропсихолог невролог бос телесно ориентированная терапия караульная линейная серова\n",
      "== караульная ==\n",
      "________________________________________________________________________________\n",
      "владлена к в а врач акушер гинеколог. касевич владлена алексеевна заведующая женской консультацией люблю свою работу. онлаи н консультации гинекологбарнаул\n",
      "== касевич ==\n",
      "________________________________________________________________________________\n",
      "фаcе.массаг касянова массаж лица тела обучение касьянова юлия будь красивой без глубокотканный массаж лица юлии кас. преподаватель компании аравиа профессионал лучший технолог уц\n",
      "== касянова ==\n",
      "________________________________________________________________________________\n",
      "флеболог мос лечение варикоза москва флеболог константин кашатников отвечаю на все ваши вопросы решаю проблему варикоза стаж лет оставьте заявку на сайте хттпс амc онлине.ру утм соурcе инстаграм утм медиум смм утм cампаигн инста утм cонтент шапка\n",
      "== кашатников ==\n",
      "________________________________________________________________________________\n",
      "др буладжова пульмонолог екатеринбург буладжова туран закировна люблю лечить и помогать расскажу как жить с бронхиальной астмой помогу вылечить кашель получить консультацию хттпс таплинк.cc др буладжова\n",
      "== кашель ==\n",
      "________________________________________________________________________________\n",
      "стоматолог киликян стоматолог врач стоматолог терапия ортопедия хирургия профессиональная гигиена отбеливание лечение кариеса протезирование м.бауманская\n",
      "== киликян ==\n",
      "________________________________________________________________________________\n"
     ]
    },
    {
     "name": "stdout",
     "output_type": "stream",
     "text": [
      "пулмо доcтор пульмонолог спб гатчина кимбат куаншбаевна блог о пульмонологии здесь вы найдете полезную и достоверную информацию прием\n",
      "== кимбат ==\n",
      "________________________________________________________________________________\n",
      "зубастик стоматология зубастик стоматология для детей и взрослых г. кинель пос. елшняги ул. транзитная в тел. время работы с до\n",
      "== кинель ==\n",
      "________________________________________________________________________________\n",
      "дентал wоркшоп денталwоркшоп уникальное пространство для проведения лекций мастер классов и курсов по стоматологии. энергия и эргономика. аренда хттпс денталwоркшоп.про\n",
      "== классов ==\n",
      "________________________________________________________________________________\n",
      "дркнак стоматология сwисс тек дентал кнак кирилл алексеевич главный врач стоматологической клиники сwисс тек дентал виниры импланты лечение зубов любой сложности хирургия. хттп стдент.ру\n",
      "== кнак ==\n",
      "________________________________________________________________________________\n",
      "лиа княз лиа лилия лилу рестоманиа сама себе сомелье с дипломом астрология\n",
      "== княз ==\n",
      "________________________________________________________________________________\n",
      "пранаcлиниc пранаcлиниc пранаклиник интегративная медицина персональный подход опытные врачи новейшее оборудование иркутск кожова хттп пранаcлиниc.ру утм соурcе инст\n",
      "== кожова ==\n",
      "________________________________________________________________________________\n"
     ]
    },
    {
     "ename": "KeyboardInterrupt",
     "evalue": "",
     "output_type": "error",
     "traceback": [
      "\u001b[0;31m---------------------------------------------------------------------------\u001b[0m",
      "\u001b[0;31mKeyboardInterrupt\u001b[0m                         Traceback (most recent call last)",
      "\u001b[0;32m<ipython-input-165-c0f72a32fa8a>\u001b[0m in \u001b[0;36m<module>\u001b[0;34m\u001b[0m\n\u001b[1;32m      2\u001b[0m     \u001b[0;32mif\u001b[0m \u001b[0mi\u001b[0m \u001b[0;34m<\u001b[0m \u001b[0;36m6\u001b[0m\u001b[0;34m:\u001b[0m\u001b[0;34m\u001b[0m\u001b[0;34m\u001b[0m\u001b[0m\n\u001b[1;32m      3\u001b[0m         \u001b[0;32mfor\u001b[0m \u001b[0mz\u001b[0m \u001b[0;32min\u001b[0m \u001b[0mprepared_for_ner\u001b[0m\u001b[0;34m:\u001b[0m\u001b[0;34m\u001b[0m\u001b[0;34m\u001b[0m\u001b[0m\n\u001b[0;32m----> 4\u001b[0;31m             \u001b[0;32mif\u001b[0m \u001b[0many\u001b[0m\u001b[0;34m(\u001b[0m\u001b[0mx\u001b[0m \u001b[0;32mfor\u001b[0m \u001b[0mx\u001b[0m \u001b[0;32min\u001b[0m \u001b[0mz\u001b[0m\u001b[0;34m.\u001b[0m\u001b[0msplit\u001b[0m\u001b[0;34m(\u001b[0m\u001b[0;34m' '\u001b[0m\u001b[0;34m)\u001b[0m \u001b[0;32mif\u001b[0m \u001b[0mx\u001b[0m \u001b[0;34m==\u001b[0m \u001b[0mv\u001b[0m\u001b[0;34m)\u001b[0m\u001b[0;34m:\u001b[0m\u001b[0;34m\u001b[0m\u001b[0;34m\u001b[0m\u001b[0m\n\u001b[0m\u001b[1;32m      5\u001b[0m                 \u001b[0mprint\u001b[0m\u001b[0;34m(\u001b[0m\u001b[0mz\u001b[0m\u001b[0;34m)\u001b[0m\u001b[0;34m\u001b[0m\u001b[0;34m\u001b[0m\u001b[0m\n\u001b[1;32m      6\u001b[0m                 \u001b[0mprint\u001b[0m\u001b[0;34m(\u001b[0m\u001b[0;34m'=='\u001b[0m\u001b[0;34m,\u001b[0m \u001b[0mv\u001b[0m\u001b[0;34m,\u001b[0m \u001b[0;34m'=='\u001b[0m\u001b[0;34m)\u001b[0m\u001b[0;34m\u001b[0m\u001b[0;34m\u001b[0m\u001b[0m\n",
      "\u001b[0;32m<ipython-input-165-c0f72a32fa8a>\u001b[0m in \u001b[0;36m<genexpr>\u001b[0;34m(.0)\u001b[0m\n\u001b[1;32m      2\u001b[0m     \u001b[0;32mif\u001b[0m \u001b[0mi\u001b[0m \u001b[0;34m<\u001b[0m \u001b[0;36m6\u001b[0m\u001b[0;34m:\u001b[0m\u001b[0;34m\u001b[0m\u001b[0;34m\u001b[0m\u001b[0m\n\u001b[1;32m      3\u001b[0m         \u001b[0;32mfor\u001b[0m \u001b[0mz\u001b[0m \u001b[0;32min\u001b[0m \u001b[0mprepared_for_ner\u001b[0m\u001b[0;34m:\u001b[0m\u001b[0;34m\u001b[0m\u001b[0;34m\u001b[0m\u001b[0m\n\u001b[0;32m----> 4\u001b[0;31m             \u001b[0;32mif\u001b[0m \u001b[0many\u001b[0m\u001b[0;34m(\u001b[0m\u001b[0mx\u001b[0m \u001b[0;32mfor\u001b[0m \u001b[0mx\u001b[0m \u001b[0;32min\u001b[0m \u001b[0mz\u001b[0m\u001b[0;34m.\u001b[0m\u001b[0msplit\u001b[0m\u001b[0;34m(\u001b[0m\u001b[0;34m' '\u001b[0m\u001b[0;34m)\u001b[0m \u001b[0;32mif\u001b[0m \u001b[0mx\u001b[0m \u001b[0;34m==\u001b[0m \u001b[0mv\u001b[0m\u001b[0;34m)\u001b[0m\u001b[0;34m:\u001b[0m\u001b[0;34m\u001b[0m\u001b[0;34m\u001b[0m\u001b[0m\n\u001b[0m\u001b[1;32m      5\u001b[0m                 \u001b[0mprint\u001b[0m\u001b[0;34m(\u001b[0m\u001b[0mz\u001b[0m\u001b[0;34m)\u001b[0m\u001b[0;34m\u001b[0m\u001b[0;34m\u001b[0m\u001b[0m\n\u001b[1;32m      6\u001b[0m                 \u001b[0mprint\u001b[0m\u001b[0;34m(\u001b[0m\u001b[0;34m'=='\u001b[0m\u001b[0;34m,\u001b[0m \u001b[0mv\u001b[0m\u001b[0;34m,\u001b[0m \u001b[0;34m'=='\u001b[0m\u001b[0;34m)\u001b[0m\u001b[0;34m\u001b[0m\u001b[0;34m\u001b[0m\u001b[0m\n",
      "\u001b[0;31mKeyboardInterrupt\u001b[0m: "
     ]
    }
   ],
   "source": [
    "for i,k,v in words_to_investigate:\n",
    "    if i < 6:\n",
    "        for z in prepared_for_ner:\n",
    "            if any(x for x in z.split(' ') if x == v):\n",
    "                print(z)\n",
    "                print('==', v, '==')\n",
    "                print('________________________________________________________________________________')\n",
    "        "
   ]
  },
  {
   "cell_type": "code",
   "execution_count": 29,
   "metadata": {},
   "outputs": [],
   "source": [
    "with open('words_to_investigate.txt', 'w') as fo:\n",
    "    fo.write('per_count\\tinst_count\\tword\\n')\n",
    "    for i,k,m in words_to_investigate:\n",
    "        fo.write(f'{i}\\t{k}\\t{m}\\n')"
   ]
  },
  {
   "cell_type": "code",
   "execution_count": null,
   "metadata": {},
   "outputs": [],
   "source": []
  },
  {
   "cell_type": "code",
   "execution_count": 266,
   "metadata": {},
   "outputs": [
    {
     "name": "stdout",
     "output_type": "stream",
     "text": [
      "TP:  1521\n",
      "FP:  439\n",
      "FN:  138\n",
      "Accuracy:  0.8863636363636364\n",
      "Precision:  0.7760204081632653\n",
      "Recall:  0.9168173598553345\n",
      "f1_score:  0.8405636916275214\n"
     ]
    }
   ],
   "source": [
    "df_validation_pavlov = pd.read_excel('df_model_validation_01.xlsx')\n",
    "\n",
    "df_validation_pavlov = df_validation_pavlov.fillna('')\n",
    "df_validation_pavlov['Names_pavlov'] = df_validation_pavlov['Names_pavlov'].apply(lambda x: sub(r'\\s+', ' ', sub('[^а-яА-ЯA-Za-z ]+', ' ', x).strip()))\n",
    "df_validation_pavlov['Correct'] = df_validation_pavlov['Correct'].apply(lambda x: sub(r'\\s+', ' ', sub('[^а-яА-ЯA-Za-z ]+', ' ', x).strip()))\n",
    "\n",
    "df_validation_pavlov['Names_pavlov'] = df_validation_pavlov['Names_pavlov'].apply(lambda x: set(x.split(' ')))\n",
    "df_validation_pavlov['Correct'] = df_validation_pavlov['Correct'].apply(lambda x: set(x.split(' ')))\n",
    "#df_validation_pavlov['text_bow'] = df_validation_pavlov['text_bow'].apply(lambda x: set(x.split(' ')))\n",
    "\n",
    "# total observations\n",
    "all_observations = sum([len(df_validation_pavlov['Correct'][i]) for i in range(1000)])\n",
    "\n",
    "# Deeppavlov NER model\n",
    "true_positives_p = sum([len(df_validation_pavlov['Correct'][i] & df_validation_pavlov['Names_pavlov'][i]) for i in range(1000)])\n",
    "false_positives_p = sum([0 if df_validation_pavlov['Names_pavlov'][i] - df_validation_pavlov['Correct'][i] == {''} else len(df_validation_pavlov['Names_pavlov'][i] - df_validation_pavlov['Correct'][i]) for i in range(1000)])\n",
    "false_negatives_p = sum([0 if df_validation_pavlov['Correct'][i] - df_validation_pavlov['Names_pavlov'][i] == {''} else len(df_validation_pavlov['Correct'][i] - df_validation_pavlov['Names_pavlov'][i]) for i in range(1000)])\n",
    "accuracy_p = true_positives_p / all_observations\n",
    "#accuracy_old = true_positives_p/(true_positives_p + false_positives_p + false_negatives_p)\n",
    "precision_p = true_positives_p / (true_positives_p + false_positives_p)\n",
    "recall_p = true_positives_p / (true_positives_p + false_negatives_p)\n",
    "f1_score_p = 2 * precision_p * recall_p / (recall_p + precision_p)\n",
    "print('TP: ', true_positives_p)\n",
    "print('FP: ', false_positives_p)\n",
    "print('FN: ', false_negatives_p)\n",
    "print('Accuracy: ', accuracy_p)\n",
    "print('Precision: ', precision_p)\n",
    "print('Recall: ', recall_p)\n",
    "print('f1_score: ', f1_score_p)"
   ]
  },
  {
   "cell_type": "code",
   "execution_count": null,
   "metadata": {},
   "outputs": [],
   "source": []
  }
 ],
 "metadata": {
  "kernelspec": {
   "display_name": "Python 3",
   "language": "python",
   "name": "python3"
  },
  "language_info": {
   "codemirror_mode": {
    "name": "ipython",
    "version": 3
   },
   "file_extension": ".py",
   "mimetype": "text/x-python",
   "name": "python",
   "nbconvert_exporter": "python",
   "pygments_lexer": "ipython3",
   "version": "3.7.9"
  }
 },
 "nbformat": 4,
 "nbformat_minor": 4
}
