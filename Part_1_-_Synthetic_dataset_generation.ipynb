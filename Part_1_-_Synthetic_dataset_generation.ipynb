{
 "cells": [
  {
   "cell_type": "markdown",
   "metadata": {},
   "source": [
    "### The purpose of this notebook is to create a synthetic dataset to train a Deeppavlov NER BERT model for NER task."
   ]
  },
  {
   "cell_type": "code",
   "execution_count": 299,
   "metadata": {},
   "outputs": [],
   "source": [
    "# importing required libraries\n",
    "\n",
    "import pandas as pd\n",
    "import numpy as np\n",
    "import os\n",
    "import re\n",
    "import tqdm\n",
    "import pytils.translit\n",
    "from collections import OrderedDict\n",
    "import matplotlib.pyplot as plt\n",
    "import random\n",
    "import seaborn as sns\n",
    "from scipy.stats import skewnorm\n",
    "from scipy.stats import chi2\n",
    "import warnings\n",
    "warnings.filterwarnings('ignore')\n",
    "os.chdir('/home/andreybondar/Desktop/datasets/')"
   ]
  },
  {
   "cell_type": "markdown",
   "metadata": {},
   "source": [
    "### I. Substracting 'PER', 'ORG' and 'LOC' from instagram text data to get a clean text data with 'O' taged words which can be potentially used for BIO  markup synthetic dataset generation.\n",
    "To learn what is BIO tagging:\n",
    "\n",
    "https://en.wikipedia.org/wiki/Inside%E2%80%93outside%E2%80%93beginning_(tagging)"
   ]
  },
  {
   "cell_type": "code",
   "execution_count": 2,
   "metadata": {},
   "outputs": [
    {
     "data": {
      "text/html": [
       "<div>\n",
       "<style scoped>\n",
       "    .dataframe tbody tr th:only-of-type {\n",
       "        vertical-align: middle;\n",
       "    }\n",
       "\n",
       "    .dataframe tbody tr th {\n",
       "        vertical-align: top;\n",
       "    }\n",
       "\n",
       "    .dataframe thead th {\n",
       "        text-align: right;\n",
       "    }\n",
       "</style>\n",
       "<table border=\"1\" class=\"dataframe\">\n",
       "  <thead>\n",
       "    <tr style=\"text-align: right;\">\n",
       "      <th></th>\n",
       "      <th>text</th>\n",
       "    </tr>\n",
       "  </thead>\n",
       "  <tbody>\n",
       "    <tr>\n",
       "      <th>0</th>\n",
       "      <td>karpova_ginekolog Гинеколог🔹Репродуктолог🔹ЭКО ...</td>\n",
       "    </tr>\n",
       "    <tr>\n",
       "      <th>1</th>\n",
       "      <td>aubakirov.bulat Булат Аубакиров ОБЕРЕГАЙ СВОЮ ...</td>\n",
       "    </tr>\n",
       "    <tr>\n",
       "      <th>2</th>\n",
       "      <td>dr_allademidova Кардиолог Терапевт Москва 🔺нау...</td>\n",
       "    </tr>\n",
       "    <tr>\n",
       "      <th>3</th>\n",
       "      <td>dr.kozhevnikova_m КОЖЕВНИКОВА Мария 💉НЕОЧЕРЕДН...</td>\n",
       "    </tr>\n",
       "    <tr>\n",
       "      <th>4</th>\n",
       "      <td>masterdent05 СТОМАТОЛОГИЯ МАСТЕРДЕНТ 📍Абубакар...</td>\n",
       "    </tr>\n",
       "    <tr>\n",
       "      <th>...</th>\n",
       "      <td>...</td>\n",
       "    </tr>\n",
       "    <tr>\n",
       "      <th>12414</th>\n",
       "      <td>oblastnaia_stomatologiia ОБЛАСТНАЯ СТОМАТОЛОГИ...</td>\n",
       "    </tr>\n",
       "    <tr>\n",
       "      <th>12415</th>\n",
       "      <td>doctor_lung Врач Ростов-на-Дону Анна Сергеевна...</td>\n",
       "    </tr>\n",
       "    <tr>\n",
       "      <th>12416</th>\n",
       "      <td>stomalux_anapa Стоматология в Анапе🦷СтомаЛюкс ...</td>\n",
       "    </tr>\n",
       "    <tr>\n",
       "      <th>12417</th>\n",
       "      <td>dr.tamaranm Мальцева Тамара Николаевна 👩🏻‍⚕️Вр...</td>\n",
       "    </tr>\n",
       "    <tr>\n",
       "      <th>12418</th>\n",
       "      <td>clinics.ssmu Клиники СибГМУ | МЦ Профессор 🏅Пе...</td>\n",
       "    </tr>\n",
       "  </tbody>\n",
       "</table>\n",
       "<p>12419 rows × 1 columns</p>\n",
       "</div>"
      ],
      "text/plain": [
       "                                                    text\n",
       "0      karpova_ginekolog Гинеколог🔹Репродуктолог🔹ЭКО ...\n",
       "1      aubakirov.bulat Булат Аубакиров ОБЕРЕГАЙ СВОЮ ...\n",
       "2      dr_allademidova Кардиолог Терапевт Москва 🔺нау...\n",
       "3      dr.kozhevnikova_m КОЖЕВНИКОВА Мария 💉НЕОЧЕРЕДН...\n",
       "4      masterdent05 СТОМАТОЛОГИЯ МАСТЕРДЕНТ 📍Абубакар...\n",
       "...                                                  ...\n",
       "12414  oblastnaia_stomatologiia ОБЛАСТНАЯ СТОМАТОЛОГИ...\n",
       "12415  doctor_lung Врач Ростов-на-Дону Анна Сергеевна...\n",
       "12416  stomalux_anapa Стоматология в Анапе🦷СтомаЛюкс ...\n",
       "12417  dr.tamaranm Мальцева Тамара Николаевна 👩🏻‍⚕️Вр...\n",
       "12418  clinics.ssmu Клиники СибГМУ | МЦ Профессор 🏅Пе...\n",
       "\n",
       "[12419 rows x 1 columns]"
      ]
     },
     "execution_count": 2,
     "metadata": {},
     "output_type": "execute_result"
    }
   ],
   "source": [
    "# importing the data scrapped from the instagram (we are using russian speaking part of Instagram)\n",
    "\n",
    "df_instagram = pd.read_excel('instagram_scrapped_data.xlsx')\n",
    "df_instagram"
   ]
  },
  {
   "cell_type": "code",
   "execution_count": 5,
   "metadata": {},
   "outputs": [],
   "source": [
    "# creating functions for cleaning up our instagram data\n",
    "\n",
    "def replace_bad_characters(text):\n",
    "    '''replace 'й' by original 'й' and 'ё' by original 'ё' (some caracters have len() == 2 instead of  == 1)'''\n",
    "    text_corrected = []\n",
    "    for character in text:\n",
    "        if character == 'й'[1]: \n",
    "            text_corrected[-1] = 'й'     \n",
    "            continue \n",
    "        elif character == 'ё'[1]:\n",
    "            text_corrected[-1] = 'ё'     \n",
    "            continue\n",
    "        else:\n",
    "            text_corrected.append(character)      \n",
    "    text = ''.join(text_corrected)\n",
    "    return text\n",
    "\n",
    "def prepare_text(sentence):\n",
    "    '''general text preparation'''\n",
    "    text = re.sub(r'\\s+', ' ', sentence).strip().lower() # deleting extra spaces and lowering the data\n",
    "    text = replace_bad_characters(text) # replacing bad characters\n",
    "    text = re.sub('[ó]', 'о', text) # replacing 'ó' with 'о'\n",
    "    text = re.sub('[ё]', 'е', text) # replacing 'ё' with 'е'\n",
    "    text = re.sub(r'[+\\(]?[0-9][0-9 .\\-\\(\\)]{4,15}[0-9]', ' ', text) # phone number deletion\n",
    "    text = re.sub(r'[^А-Яа-яA-Za-zёй ]+', ' ', text) # picking only english and russian text \n",
    "    text = pytils.translit.detranslify(text) # detranslify english text to russian\n",
    "    text = re.sub(r'\\s+', ' ', text).strip().lower()\n",
    "    text = re.sub('[ó]', 'о', text)\n",
    "    text = re.sub('[ё]', 'е', text)\n",
    "\n",
    "    return text"
   ]
  },
  {
   "cell_type": "code",
   "execution_count": 6,
   "metadata": {},
   "outputs": [],
   "source": [
    "# cleaning up instagram data\n",
    "instagram_prepared_for_ner = df_instagram['text'].apply(lambda text: prepare_text(text))"
   ]
  },
  {
   "cell_type": "code",
   "execution_count": 7,
   "metadata": {},
   "outputs": [
    {
     "data": {
      "text/plain": [
       "0        карпова гинеколог гинеколог репродуктолог эко ...\n",
       "1        аубакиров булат булат аубакиров оберегай свою ...\n",
       "2        др алладемидова кардиолог терапевт москва науч...\n",
       "3        др кожевникова м кожевникова мария неочередной...\n",
       "4        мастердент стоматология мастердент абубакарова...\n",
       "                               ...                        \n",
       "12414    областнаиа стоматологииа областная стоматологи...\n",
       "12415    доcтор лунг врач ростов на дону анна сергеевна...\n",
       "12416    стомалуx анапа стоматология в анапе стомалюкс ...\n",
       "12417    др тамаранм мальцева тамара николаевна врач ак...\n",
       "12418    cлиниcс ссму клиники сибгму мц профессор первы...\n",
       "Name: text, Length: 12419, dtype: object"
      ]
     },
     "execution_count": 7,
     "metadata": {},
     "output_type": "execute_result"
    }
   ],
   "source": [
    "instagram_prepared_for_ner"
   ]
  },
  {
   "cell_type": "code",
   "execution_count": 8,
   "metadata": {},
   "outputs": [
    {
     "name": "stdout",
     "output_type": "stream",
     "text": [
      "Text before preparation:  taping_dv Тейпирование Дальний Восток. Ковалева Мария Александровна 👩‍⚕️ Глав.врач МЦ \"Далинь\" 📲8-914-546-01-11. 📚 Обучающие семинары по мед. реабилитации, терапевтическому тейпированию. - https://fs-school.ru/sn \n",
      "\n",
      "Text after preparation:  тапинг дв тейпирование дальний восток ковалева мария александровна глав врач мц далинь обучающие семинары по мед реабилитации терапевтическому тейпированию хттпс фс щоол ру сн\n"
     ]
    }
   ],
   "source": [
    "# example of the text before preparation and the text after preparation\n",
    "k = 1000\n",
    "print('Text before preparation: ', df_instagram.text[k], '\\n')\n",
    "print('Text after preparation: ', instagram_prepared_for_ner[k])"
   ]
  },
  {
   "cell_type": "code",
   "execution_count": 9,
   "metadata": {},
   "outputs": [],
   "source": [
    "# tokenizing instagram text data into separate words\n",
    "joined_instagram = ' '.join(instagram_prepared_for_ner)\n",
    "list_of_words_instagram = joined_instagram.split(' ')\n",
    "\n",
    "# counting word frequencies of instagram words for counted word comparison\n",
    "INST_d = {}\n",
    "for i in list_of_words_instagram:\n",
    "    INST_d[i] = INST_d.get(i, 0) + 1"
   ]
  },
  {
   "cell_type": "code",
   "execution_count": 10,
   "metadata": {},
   "outputs": [],
   "source": [
    "# loading dataset with persons for counted word comparison\n",
    "\n",
    "df_PER = pd.read_excel('per_org_loc.xlsx', 'PER')\n",
    "df_PER = df_PER.fillna('')\n",
    "df_PER['PER'] = df_PER['PER'].apply(lambda text: prepare_text(text))"
   ]
  },
  {
   "cell_type": "code",
   "execution_count": 11,
   "metadata": {},
   "outputs": [
    {
     "data": {
      "text/html": [
       "<div>\n",
       "<style scoped>\n",
       "    .dataframe tbody tr th:only-of-type {\n",
       "        vertical-align: middle;\n",
       "    }\n",
       "\n",
       "    .dataframe tbody tr th {\n",
       "        vertical-align: top;\n",
       "    }\n",
       "\n",
       "    .dataframe thead th {\n",
       "        text-align: right;\n",
       "    }\n",
       "</style>\n",
       "<table border=\"1\" class=\"dataframe\">\n",
       "  <thead>\n",
       "    <tr style=\"text-align: right;\">\n",
       "      <th></th>\n",
       "      <th>PER</th>\n",
       "    </tr>\n",
       "  </thead>\n",
       "  <tbody>\n",
       "    <tr>\n",
       "      <th>0</th>\n",
       "      <td>кочарян ширяева зенина елизавета александровна</td>\n",
       "    </tr>\n",
       "    <tr>\n",
       "      <th>1</th>\n",
       "      <td>магомедгаджиев магомедганипа ибрагимгаджиевич</td>\n",
       "    </tr>\n",
       "    <tr>\n",
       "      <th>2</th>\n",
       "      <td>джалилова таривердиева эльмира гадживердиевна</td>\n",
       "    </tr>\n",
       "    <tr>\n",
       "      <th>3</th>\n",
       "      <td>архангельский багдасарьянц дмитрий эдуардович</td>\n",
       "    </tr>\n",
       "    <tr>\n",
       "      <th>4</th>\n",
       "      <td>парцваниа виноградова екатерина владимировна</td>\n",
       "    </tr>\n",
       "    <tr>\n",
       "      <th>...</th>\n",
       "      <td>...</td>\n",
       "    </tr>\n",
       "    <tr>\n",
       "      <th>820615</th>\n",
       "      <td>кондратьева</td>\n",
       "    </tr>\n",
       "    <tr>\n",
       "      <th>820616</th>\n",
       "      <td>артурович</td>\n",
       "    </tr>\n",
       "    <tr>\n",
       "      <th>820617</th>\n",
       "      <td>калашникова</td>\n",
       "    </tr>\n",
       "    <tr>\n",
       "      <th>820618</th>\n",
       "      <td>степан</td>\n",
       "    </tr>\n",
       "    <tr>\n",
       "      <th>820619</th>\n",
       "      <td>нестерова</td>\n",
       "    </tr>\n",
       "  </tbody>\n",
       "</table>\n",
       "<p>820620 rows × 1 columns</p>\n",
       "</div>"
      ],
      "text/plain": [
       "                                                   PER\n",
       "0       кочарян ширяева зенина елизавета александровна\n",
       "1        магомедгаджиев магомедганипа ибрагимгаджиевич\n",
       "2        джалилова таривердиева эльмира гадживердиевна\n",
       "3        архангельский багдасарьянц дмитрий эдуардович\n",
       "4         парцваниа виноградова екатерина владимировна\n",
       "...                                                ...\n",
       "820615                                     кондратьева\n",
       "820616                                       артурович\n",
       "820617                                     калашникова\n",
       "820618                                          степан\n",
       "820619                                       нестерова\n",
       "\n",
       "[820620 rows x 1 columns]"
      ]
     },
     "execution_count": 11,
     "metadata": {},
     "output_type": "execute_result"
    }
   ],
   "source": [
    "df_PER"
   ]
  },
  {
   "cell_type": "code",
   "execution_count": 12,
   "metadata": {},
   "outputs": [],
   "source": [
    "# general preparation of text data of df_PER for counted word comparison\n",
    "\n",
    "PER_text = ' '.join(df_PER['PER'].to_list()).strip().lower()\n",
    "\n",
    "PER_text = re.sub(r'[^.А-Яа-яA-Za-zёй ]+', ' ', PER_text)\n",
    "PER_text = pytils.translit.detranslify(PER_text)\n",
    "\n",
    "tokenizer = re.split(' ',  PER_text) * 6 # tokenization of all persons to separate words and multipliying by 6 (adding more weight to persons so we are sure that all persons were extracted)\n",
    "tokenizer = [i for i in tokenizer if i != ''] # filtering empty strings"
   ]
  },
  {
   "cell_type": "code",
   "execution_count": 13,
   "metadata": {},
   "outputs": [
    {
     "data": {
      "text/plain": [
       "12807420"
      ]
     },
     "execution_count": 13,
     "metadata": {},
     "output_type": "execute_result"
    }
   ],
   "source": [
    "len(tokenizer)"
   ]
  },
  {
   "cell_type": "code",
   "execution_count": 14,
   "metadata": {},
   "outputs": [
    {
     "data": {
      "text/plain": [
       "['кочарян',\n",
       " 'ширяева',\n",
       " 'зенина',\n",
       " 'елизавета',\n",
       " 'александровна',\n",
       " 'магомедгаджиев',\n",
       " 'магомедганипа',\n",
       " 'ибрагимгаджиевич',\n",
       " 'джалилова',\n",
       " 'таривердиева']"
      ]
     },
     "execution_count": 14,
     "metadata": {},
     "output_type": "execute_result"
    }
   ],
   "source": [
    "tokenizer[0:10]"
   ]
  },
  {
   "cell_type": "code",
   "execution_count": 15,
   "metadata": {},
   "outputs": [],
   "source": [
    "# counting a word frequencies of PER words for counted word comparison\n",
    "\n",
    "PER_d = {}\n",
    "for i in tokenizer:\n",
    "    PER_d[i] = PER_d.get(i, 0) + 1"
   ]
  },
  {
   "cell_type": "code",
   "execution_count": 16,
   "metadata": {},
   "outputs": [],
   "source": [
    "# appliying the counted word comparison and finding the words that will be used for word extraction in our instagram text data\n",
    "\n",
    "words_to_extract_PER = []\n",
    "\n",
    "for word in list_of_words_instagram: # iterating over words of instagram because we are interested in them\n",
    "    try:\n",
    "        per_count = PER_d[word] # triying if the word exists in our PER_d dictionary, if exists returns word count\n",
    "    except:\n",
    "        per_count = 0 # if the word dont exis in the PER_d returns 0, meaning that the count of it is 0\n",
    "    \n",
    "    inst_count = INST_d[word] # looking up the count of the word in INST_d (instagram word count dictionary)\n",
    "    \n",
    "    if per_count > inst_count: # if person count is greater than istagram count, adding this word to the 'words_to_extract_PER' for further extraction\n",
    "        words_to_extract_PER.append((per_count, inst_count, word))\n",
    "        \n",
    "words_to_extract_PER = list(set(words_to_extract_PER)) # removing duplicates\n",
    "words_to_extract_PER = [z for x,y,z in words_to_extract_PER]"
   ]
  },
  {
   "cell_type": "code",
   "execution_count": 17,
   "metadata": {},
   "outputs": [
    {
     "data": {
      "text/plain": [
       "7406"
      ]
     },
     "execution_count": 17,
     "metadata": {},
     "output_type": "execute_result"
    }
   ],
   "source": [
    "len(words_to_extract_PER)"
   ]
  },
  {
   "cell_type": "code",
   "execution_count": 18,
   "metadata": {},
   "outputs": [],
   "source": [
    "# loading dataset with organisations for counted word comparison\n",
    "\n",
    "df_ORG = pd.read_excel('per_org_loc.xlsx', 'ORG')\n",
    "df_ORG['ORG'] = df_ORG['ORG'].apply(lambda text: prepare_text(text))"
   ]
  },
  {
   "cell_type": "code",
   "execution_count": 19,
   "metadata": {},
   "outputs": [],
   "source": [
    "# general preparation of text data of ORG_text for counted word comparison\n",
    "\n",
    "ORG_text = ' '.join(df_ORG['ORG'].to_list()).strip().lower()\n",
    "\n",
    "ORG_text = re.sub(r'[^А-Яа-яA-Za-zйё ]+', ' ', ORG_text)\n",
    "ORG_text = pytils.translit.detranslify(ORG_text)\n",
    "\n",
    "tokenizer = re.split(' ',  ORG_text)\n",
    "tokenizer = [i for i in tokenizer if i != '']"
   ]
  },
  {
   "cell_type": "code",
   "execution_count": 20,
   "metadata": {},
   "outputs": [],
   "source": [
    "# counting a word frequencies of ORG words for counted word comparison\n",
    "\n",
    "ORG_d = {}\n",
    "for i in tokenizer:\n",
    "    ORG_d[i] = ORG_d.get(i, 0) + 1"
   ]
  },
  {
   "cell_type": "code",
   "execution_count": 21,
   "metadata": {},
   "outputs": [],
   "source": [
    "# accomplishing the same counted word comparison as for PER\n",
    "\n",
    "words_to_extract_ORG = []\n",
    "\n",
    "for word in list_of_words_instagram:\n",
    "    try:\n",
    "        org_count = ORG_d[word]\n",
    "    except:\n",
    "        org_count = 0\n",
    "    \n",
    "    inst_count = INST_d[word]\n",
    "    \n",
    "    if org_count > inst_count:\n",
    "        words_to_extract_ORG.append((org_count, inst_count, word))\n",
    "        \n",
    "words_to_extract_ORG = list(set(words_to_extract_ORG))\n",
    "words_to_extract_ORG = sorted(words_to_extract_ORG, reverse = True) # sorting \n",
    "words_to_extract_ORG = [z for x,y,z in words_to_extract_ORG if x > 40] # taking only those words whose frequencies are greater than 40 (for the sake of accuracy)"
   ]
  },
  {
   "cell_type": "code",
   "execution_count": 22,
   "metadata": {},
   "outputs": [
    {
     "data": {
      "text/plain": [
       "410"
      ]
     },
     "execution_count": 22,
     "metadata": {},
     "output_type": "execute_result"
    }
   ],
   "source": [
    "len(words_to_extract_ORG)"
   ]
  },
  {
   "cell_type": "code",
   "execution_count": 23,
   "metadata": {},
   "outputs": [],
   "source": [
    "# loading dataset with locations\n",
    "df_LOC = pd.read_excel('per_org_loc.xlsx', 'LOC')\n",
    "df_LOC = df_LOC.fillna('')\n",
    "df_LOC['LOC'] = df_LOC['LOC'].apply(lambda text: prepare_text(text))"
   ]
  },
  {
   "cell_type": "code",
   "execution_count": 24,
   "metadata": {},
   "outputs": [],
   "source": [
    "# accomplishing the same procedures for LOC\n",
    "LOC_text = ' '.join(df_LOC['LOC'].to_list()).strip().lower()\n",
    "\n",
    "LOC_text = re.sub(r'[^А-Яа-яA-Za-zёй ]+', ' ', LOC_text)\n",
    "LOC_text = pytils.translit.detranslify(LOC_text)\n",
    "\n",
    "tokenizer = re.split(' ',  LOC_text)\n",
    "tokenizer = [i for i in tokenizer if i != '']\n",
    "\n",
    "LOC_d = {}\n",
    "for i in tokenizer:\n",
    "    LOC_d[i] = LOC_d.get(i, 0) + 1"
   ]
  },
  {
   "cell_type": "code",
   "execution_count": 25,
   "metadata": {},
   "outputs": [],
   "source": [
    "# accomplishing the same counted word comparison as for PER and ORG\n",
    "\n",
    "words_to_extract_LOC = []\n",
    "\n",
    "for word in list_of_words_instagram:\n",
    "    try:\n",
    "        loc_count = LOC_d[word]\n",
    "    except:\n",
    "        loc_count = 0\n",
    "    \n",
    "    inst_count = INST_d[word]\n",
    "    \n",
    "    if loc_count > inst_count:\n",
    "        words_to_extract_LOC.append((loc_count, inst_count, word))\n",
    "        \n",
    "words_to_extract_LOC = list(set(words_to_extract_LOC))\n",
    "words_to_extract_LOC = sorted(words_to_extract_LOC, reverse = True) \n",
    "words_to_extract_LOC = [z for x,y,z in words_to_extract_LOC if x > 200] # taking only those words whose frequencies are greater than 200 (for the sake of accuracy)"
   ]
  },
  {
   "cell_type": "code",
   "execution_count": 26,
   "metadata": {},
   "outputs": [
    {
     "data": {
      "text/plain": [
       "300"
      ]
     },
     "execution_count": 26,
     "metadata": {},
     "output_type": "execute_result"
    }
   ],
   "source": [
    "len(words_to_extract_LOC)"
   ]
  },
  {
   "cell_type": "code",
   "execution_count": 27,
   "metadata": {},
   "outputs": [],
   "source": [
    "# splitting up instagran text data into separate words\n",
    "sentences_inst = [i.split(' ') for i in instagram_prepared_for_ner]"
   ]
  },
  {
   "cell_type": "code",
   "execution_count": 28,
   "metadata": {},
   "outputs": [],
   "source": [
    "# finally summing all thre 'words_to_extract' lists of PER, LOC and ORG altogether into one list if words that must be separated from the instagram text data in order to obtain 'O' tags.\n",
    "words_to_extract = set(words_to_extract_PER + words_to_extract_ORG + words_to_extract_LOC + ['м'])"
   ]
  },
  {
   "cell_type": "code",
   "execution_count": 29,
   "metadata": {},
   "outputs": [],
   "source": [
    "# cleaning up instagram text from the words that we found to be PER, ORG or LOC specific.\n",
    "\n",
    "cleaned_sentences = []\n",
    "for sentence in sentences_inst:\n",
    "    \n",
    "    cleaned_sentence_ = []\n",
    "    for word in sentence:\n",
    "        if word not in words_to_extract:\n",
    "            cleaned_sentence_.append(word)\n",
    "    cleaned_sentences.append(cleaned_sentence_)"
   ]
  },
  {
   "cell_type": "code",
   "execution_count": 30,
   "metadata": {},
   "outputs": [
    {
     "data": {
      "text/plain": [
       "12419"
      ]
     },
     "execution_count": 30,
     "metadata": {},
     "output_type": "execute_result"
    }
   ],
   "source": [
    "len(cleaned_sentences)"
   ]
  },
  {
   "cell_type": "code",
   "execution_count": 31,
   "metadata": {},
   "outputs": [
    {
     "data": {
      "text/plain": [
       "['гинеколог',\n",
       " 'гинеколог',\n",
       " 'репродуктолог',\n",
       " 'эко',\n",
       " 'помогаю',\n",
       " 'стать',\n",
       " 'мамой',\n",
       " 'невынашивание',\n",
       " 'бесплодие',\n",
       " 'эко',\n",
       " 'деликатность',\n",
       " 'сопровождение',\n",
       " 'до',\n",
       " 'родзала',\n",
       " 'контакты',\n",
       " 'хттпс',\n",
       " 'таплинк',\n",
       " 'cc',\n",
       " 'гинеколог']"
      ]
     },
     "execution_count": 31,
     "metadata": {},
     "output_type": "execute_result"
    }
   ],
   "source": [
    "# finally we obtained the lists of words which can be potentially tagged as 'O'\n",
    "cleaned_sentences[0]"
   ]
  },
  {
   "cell_type": "markdown",
   "metadata": {},
   "source": [
    "### II. Producing BIO markup synthetic dataset generation."
   ]
  },
  {
   "cell_type": "code",
   "execution_count": 32,
   "metadata": {},
   "outputs": [],
   "source": [
    "# Creating separate functions for cleaning text dataset of ORG, LOC and for PER.\n",
    "# The only difference is that for LOC and PER we are not deleting the punctiation and using all symbols,\n",
    "# and for PER we are deleting all except '.' and the words itself\n",
    "\n",
    "def clean_ORG_LOC(sentence):\n",
    "    text = re.sub(r'\\s+', ' ', sentence).strip().lower() # deleting extra spaces and lowering the data\n",
    "    text = replace_bad_characters(text) # replacing bad characters\n",
    "    text = re.sub('[ó]', 'о', text)\n",
    "    text = re.sub('[ё]', 'е', text)\n",
    "    text = re.sub(r'[+\\(]?[0-9][0-9 .\\-\\(\\)]{4,15}[0-9]', ' ', text) # phone number deletion\n",
    "    return text\n",
    "\n",
    "def clean_PER(sentence):\n",
    "    text = re.sub(r'\\s+', ' ', sentence).strip().lower()\n",
    "    text = replace_bad_characters(text)\n",
    "    text = re.sub('[ó]', 'о', text)\n",
    "    text = re.sub('[ё]', 'е', text)\n",
    "    text = re.sub(r'[+\\(]?[0-9][0-9 .\\-\\(\\)]{4,15}[0-9]', ' ', text)\n",
    "    text = re.sub('[^.а-яА-ЯA-Za-zёй ]+', ' ', text) # replacing all except '.' and russian-english words\n",
    "    text = pytils.translit.detranslify(text) # detranslify english text to russian\n",
    "    text = re.sub(r'\\s+', ' ', text).strip().lower()\n",
    "    text = re.sub('[ó]', 'о', text)\n",
    "    text = re.sub('[ё]', 'е', text)\n",
    "    return text"
   ]
  },
  {
   "cell_type": "code",
   "execution_count": 33,
   "metadata": {},
   "outputs": [],
   "source": [
    "# loading text dataset of PER and appliying 'clean_PER' cleaning function\n",
    "df_PER = pd.read_excel('per_org_loc.xlsx', 'PER')\n",
    "df_PER = df_PER.fillna('')\n",
    "df_PER['PER'] = df_PER['PER'].apply(lambda x: clean_PER(x))"
   ]
  },
  {
   "cell_type": "code",
   "execution_count": 34,
   "metadata": {},
   "outputs": [
    {
     "data": {
      "text/html": [
       "<div>\n",
       "<style scoped>\n",
       "    .dataframe tbody tr th:only-of-type {\n",
       "        vertical-align: middle;\n",
       "    }\n",
       "\n",
       "    .dataframe tbody tr th {\n",
       "        vertical-align: top;\n",
       "    }\n",
       "\n",
       "    .dataframe thead th {\n",
       "        text-align: right;\n",
       "    }\n",
       "</style>\n",
       "<table border=\"1\" class=\"dataframe\">\n",
       "  <thead>\n",
       "    <tr style=\"text-align: right;\">\n",
       "      <th></th>\n",
       "      <th>PER</th>\n",
       "    </tr>\n",
       "  </thead>\n",
       "  <tbody>\n",
       "    <tr>\n",
       "      <th>0</th>\n",
       "      <td>кочарян ширяева зенина елизавета александровна</td>\n",
       "    </tr>\n",
       "    <tr>\n",
       "      <th>1</th>\n",
       "      <td>магомедгаджиев магомедганипа ибрагимгаджиевич</td>\n",
       "    </tr>\n",
       "    <tr>\n",
       "      <th>2</th>\n",
       "      <td>джалилова таривердиева эльмира гадживердиевна</td>\n",
       "    </tr>\n",
       "    <tr>\n",
       "      <th>3</th>\n",
       "      <td>архангельский багдасарьянц дмитрий эдуардович</td>\n",
       "    </tr>\n",
       "    <tr>\n",
       "      <th>4</th>\n",
       "      <td>парцваниа виноградова екатерина владимировна</td>\n",
       "    </tr>\n",
       "    <tr>\n",
       "      <th>...</th>\n",
       "      <td>...</td>\n",
       "    </tr>\n",
       "    <tr>\n",
       "      <th>820615</th>\n",
       "      <td>кондратьева</td>\n",
       "    </tr>\n",
       "    <tr>\n",
       "      <th>820616</th>\n",
       "      <td>артурович</td>\n",
       "    </tr>\n",
       "    <tr>\n",
       "      <th>820617</th>\n",
       "      <td>калашникова</td>\n",
       "    </tr>\n",
       "    <tr>\n",
       "      <th>820618</th>\n",
       "      <td>степан</td>\n",
       "    </tr>\n",
       "    <tr>\n",
       "      <th>820619</th>\n",
       "      <td>нестерова</td>\n",
       "    </tr>\n",
       "  </tbody>\n",
       "</table>\n",
       "<p>820620 rows × 1 columns</p>\n",
       "</div>"
      ],
      "text/plain": [
       "                                                   PER\n",
       "0       кочарян ширяева зенина елизавета александровна\n",
       "1        магомедгаджиев магомедганипа ибрагимгаджиевич\n",
       "2        джалилова таривердиева эльмира гадживердиевна\n",
       "3        архангельский багдасарьянц дмитрий эдуардович\n",
       "4         парцваниа виноградова екатерина владимировна\n",
       "...                                                ...\n",
       "820615                                     кондратьева\n",
       "820616                                       артурович\n",
       "820617                                     калашникова\n",
       "820618                                          степан\n",
       "820619                                       нестерова\n",
       "\n",
       "[820620 rows x 1 columns]"
      ]
     },
     "execution_count": 34,
     "metadata": {},
     "output_type": "execute_result"
    }
   ],
   "source": [
    "df_PER"
   ]
  },
  {
   "cell_type": "markdown",
   "metadata": {},
   "source": [
    "#### From now we are going to tag those PER text data by appliying tagging function.\n",
    "But first we need to learn what BIO tagging cheme is."
   ]
  },
  {
   "cell_type": "markdown",
   "metadata": {},
   "source": [
    "The BIO tagging scheme is used to better distinguish the beginning of tags for better prediction in NER task. The example of BIO tagging scheme is as follows:\n",
    "\n",
    "Bernhard        B-PER\n",
    "\n",
    "Riemann         I-PER\n",
    "\n",
    "Carl            B-PER\n",
    "\n",
    "Friedrich       I-PER\n",
    "\n",
    "Gauss           I-PER\n",
    "\n",
    "and             O\n",
    "\n",
    "Leonhard        B-PER\n",
    "\n",
    "Euler           I-PER\n",
    "\n",
    "#### Here “B” denotes beginning of an entity, “I” stands for “inside” and is used for all words comprising the entity except the first one, and “O” means the absence of entity. \n",
    "\n",
    "#### For more details: \n",
    "http://docs.deeppavlov.ai/en/master/features/models/ner.html#ner-task\n",
    "\n",
    "https://en.wikipedia.org/wiki/Inside%E2%80%93outside%E2%80%93beginning_(tagging)"
   ]
  },
  {
   "cell_type": "markdown",
   "metadata": {},
   "source": [
    "And second, we need to clarify in what way we need our data to be organized in order to train our NER model using deeppavlov library.\n",
    "\n",
    "The Deeppavlov library needs the data in the following format:\n",
    "\n",
    "http://docs.deeppavlov.ai/en/master/features/models/ner.html#training-data"
   ]
  },
  {
   "cell_type": "code",
   "execution_count": 35,
   "metadata": {},
   "outputs": [],
   "source": [
    "# Splitting the PER text data in a BIO murkup way.\n",
    "\n",
    "PER_labeled = []\n",
    "\n",
    "for person in df_PER['PER']:\n",
    "    splt = [x for x in re.split('(\\W)', person) if x != '' and x != ' ' and x != '\\xa0']\n",
    "    person_labeling = ['B-PER'] + ['I-PER'] * (len(splt) - 1)\n",
    "    PER_labeled.append((splt, person_labeling))"
   ]
  },
  {
   "cell_type": "code",
   "execution_count": 36,
   "metadata": {},
   "outputs": [
    {
     "data": {
      "text/plain": [
       "['кочарян',\n",
       " ',',\n",
       " '',\n",
       " ' ',\n",
       " 'ширяева',\n",
       " ',',\n",
       " '',\n",
       " ' ',\n",
       " 'зенина',\n",
       " '-',\n",
       " 'елизавета',\n",
       " ' ',\n",
       " 'александровна']"
      ]
     },
     "execution_count": 36,
     "metadata": {},
     "output_type": "execute_result"
    }
   ],
   "source": [
    "# Here re.split('(\\W)', person) works as tokenizer and splits all possible punctuation variates - exactly what wee need for training BERT neural net.\n",
    "person = 'кочарян, ширяева, зенина-елизавета александровна'\n",
    "re.split('(\\W)', person)"
   ]
  },
  {
   "cell_type": "code",
   "execution_count": 43,
   "metadata": {},
   "outputs": [
    {
     "data": {
      "text/plain": [
       "(['петунин', 'алексей', 'владимирович'], ['B-PER', 'I-PER', 'I-PER'])"
      ]
     },
     "execution_count": 43,
     "metadata": {},
     "output_type": "execute_result"
    }
   ],
   "source": [
    "PER_labeled[120000]"
   ]
  },
  {
   "cell_type": "code",
   "execution_count": 44,
   "metadata": {},
   "outputs": [],
   "source": [
    "# loading text dataset of ORG and appliying 'clean_ORG_LOC' cleaning function\n",
    "\n",
    "df_ORG = pd.read_excel('per_org_loc.xlsx', 'ORG')\n",
    "df_ORG['ORG'] = df_ORG['ORG'].apply(lambda x: clean_ORG_LOC(x))"
   ]
  },
  {
   "cell_type": "code",
   "execution_count": 45,
   "metadata": {},
   "outputs": [
    {
     "data": {
      "text/html": [
       "<div>\n",
       "<style scoped>\n",
       "    .dataframe tbody tr th:only-of-type {\n",
       "        vertical-align: middle;\n",
       "    }\n",
       "\n",
       "    .dataframe tbody tr th {\n",
       "        vertical-align: top;\n",
       "    }\n",
       "\n",
       "    .dataframe thead th {\n",
       "        text-align: right;\n",
       "    }\n",
       "</style>\n",
       "<table border=\"1\" class=\"dataframe\">\n",
       "  <thead>\n",
       "    <tr style=\"text-align: right;\">\n",
       "      <th></th>\n",
       "      <th>ORG</th>\n",
       "    </tr>\n",
       "  </thead>\n",
       "  <tbody>\n",
       "    <tr>\n",
       "      <th>0</th>\n",
       "      <td># 1</td>\n",
       "    </tr>\n",
       "    <tr>\n",
       "      <th>1</th>\n",
       "      <td># 2</td>\n",
       "    </tr>\n",
       "    <tr>\n",
       "      <th>2</th>\n",
       "      <td># 51 городская клиническая больница</td>\n",
       "    </tr>\n",
       "    <tr>\n",
       "      <th>3</th>\n",
       "      <td># 6 городская больница</td>\n",
       "    </tr>\n",
       "    <tr>\n",
       "      <th>4</th>\n",
       "      <td># 6 городская больница детское поликлиническое...</td>\n",
       "    </tr>\n",
       "    <tr>\n",
       "      <th>...</th>\n",
       "      <td>...</td>\n",
       "    </tr>\n",
       "    <tr>\n",
       "      <th>71698</th>\n",
       "      <td>узд</td>\n",
       "    </tr>\n",
       "    <tr>\n",
       "      <th>71699</th>\n",
       "      <td>узд</td>\n",
       "    </tr>\n",
       "    <tr>\n",
       "      <th>71700</th>\n",
       "      <td>узд</td>\n",
       "    </tr>\n",
       "    <tr>\n",
       "      <th>71701</th>\n",
       "      <td>узд</td>\n",
       "    </tr>\n",
       "    <tr>\n",
       "      <th>71702</th>\n",
       "      <td>узд</td>\n",
       "    </tr>\n",
       "  </tbody>\n",
       "</table>\n",
       "<p>71703 rows × 1 columns</p>\n",
       "</div>"
      ],
      "text/plain": [
       "                                                     ORG\n",
       "0                                                    # 1\n",
       "1                                                    # 2\n",
       "2                    # 51 городская клиническая больница\n",
       "3                                 # 6 городская больница\n",
       "4      # 6 городская больница детское поликлиническое...\n",
       "...                                                  ...\n",
       "71698                                                узд\n",
       "71699                                                узд\n",
       "71700                                                узд\n",
       "71701                                                узд\n",
       "71702                                                узд\n",
       "\n",
       "[71703 rows x 1 columns]"
      ]
     },
     "execution_count": 45,
     "metadata": {},
     "output_type": "execute_result"
    }
   ],
   "source": [
    "df_ORG"
   ]
  },
  {
   "cell_type": "code",
   "execution_count": 46,
   "metadata": {},
   "outputs": [],
   "source": [
    "# Splitting the ORG text data in a BIO murkup way.\n",
    "\n",
    "ORG_labeled = []\n",
    "\n",
    "for s in df_ORG['ORG']:\n",
    "    splt = [x for x in re.split('(\\W)', s) if x != '' and x != ' ' and x != '\\xa0']\n",
    "    organisation_labeling = ['B-ORG'] + ['I-ORG'] * (len(splt) - 1)\n",
    "    ORG_labeled.append((splt, organisation_labeling))"
   ]
  },
  {
   "cell_type": "code",
   "execution_count": 50,
   "metadata": {},
   "outputs": [
    {
     "data": {
      "text/plain": [
       "(['aquastom'], ['B-ORG'])"
      ]
     },
     "execution_count": 50,
     "metadata": {},
     "output_type": "execute_result"
    }
   ],
   "source": [
    "ORG_labeled[70000]"
   ]
  },
  {
   "cell_type": "code",
   "execution_count": 48,
   "metadata": {},
   "outputs": [],
   "source": [
    "# Loading text dataset of LOC and appliying 'clean_ORG_LOC' cleaning function\n",
    "\n",
    "df_LOC = pd.read_excel('per_org_loc.xlsx', 'LOC')\n",
    "df_LOC = df_LOC.fillna('')\n",
    "df_LOC['LOC'] = df_LOC['LOC'].apply(lambda x: clean_ORG_LOC(x))"
   ]
  },
  {
   "cell_type": "code",
   "execution_count": 51,
   "metadata": {},
   "outputs": [
    {
     "data": {
      "text/html": [
       "<div>\n",
       "<style scoped>\n",
       "    .dataframe tbody tr th:only-of-type {\n",
       "        vertical-align: middle;\n",
       "    }\n",
       "\n",
       "    .dataframe tbody tr th {\n",
       "        vertical-align: top;\n",
       "    }\n",
       "\n",
       "    .dataframe thead th {\n",
       "        text-align: right;\n",
       "    }\n",
       "</style>\n",
       "<table border=\"1\" class=\"dataframe\">\n",
       "  <thead>\n",
       "    <tr style=\"text-align: right;\">\n",
       "      <th></th>\n",
       "      <th>LOC</th>\n",
       "    </tr>\n",
       "  </thead>\n",
       "  <tbody>\n",
       "    <tr>\n",
       "      <th>0</th>\n",
       "      <td>поселок</td>\n",
       "    </tr>\n",
       "    <tr>\n",
       "      <th>1</th>\n",
       "      <td>москва</td>\n",
       "    </tr>\n",
       "    <tr>\n",
       "      <th>2</th>\n",
       "      <td>красноярск</td>\n",
       "    </tr>\n",
       "    <tr>\n",
       "      <th>3</th>\n",
       "      <td>россия</td>\n",
       "    </tr>\n",
       "    <tr>\n",
       "      <th>4</th>\n",
       "      <td>саратов</td>\n",
       "    </tr>\n",
       "    <tr>\n",
       "      <th>...</th>\n",
       "      <td>...</td>\n",
       "    </tr>\n",
       "    <tr>\n",
       "      <th>344434</th>\n",
       "      <td>курильск</td>\n",
       "    </tr>\n",
       "    <tr>\n",
       "      <th>344435</th>\n",
       "      <td>верхоянск</td>\n",
       "    </tr>\n",
       "    <tr>\n",
       "      <th>344436</th>\n",
       "      <td>высоцк</td>\n",
       "    </tr>\n",
       "    <tr>\n",
       "      <th>344437</th>\n",
       "      <td>чекалин</td>\n",
       "    </tr>\n",
       "    <tr>\n",
       "      <th>344438</th>\n",
       "      <td>иннополис</td>\n",
       "    </tr>\n",
       "  </tbody>\n",
       "</table>\n",
       "<p>344439 rows × 1 columns</p>\n",
       "</div>"
      ],
      "text/plain": [
       "               LOC\n",
       "0          поселок\n",
       "1           москва\n",
       "2       красноярск\n",
       "3           россия\n",
       "4          саратов\n",
       "...            ...\n",
       "344434    курильск\n",
       "344435   верхоянск\n",
       "344436      высоцк\n",
       "344437     чекалин\n",
       "344438   иннополис\n",
       "\n",
       "[344439 rows x 1 columns]"
      ]
     },
     "execution_count": 51,
     "metadata": {},
     "output_type": "execute_result"
    }
   ],
   "source": [
    "df_LOC"
   ]
  },
  {
   "cell_type": "code",
   "execution_count": 52,
   "metadata": {},
   "outputs": [],
   "source": [
    "# Splitting the LOC text data in a BIO murkup way.\n",
    "\n",
    "LOC_labeled = []\n",
    "\n",
    "for s in df_LOC['LOC']:\n",
    "    splt = [x for x in re.split('(\\W)', s) if x != '' and x != ' ' and x != '\\xa0']\n",
    "    location_labeling = ['B-LOC'] + ['I-LOC'] * (len(splt) - 1)\n",
    "    LOC_labeled.append((splt, location_labeling))"
   ]
  },
  {
   "cell_type": "code",
   "execution_count": 53,
   "metadata": {},
   "outputs": [
    {
     "data": {
      "text/plain": [
       "(['казань'], ['B-LOC'])"
      ]
     },
     "execution_count": 53,
     "metadata": {},
     "output_type": "execute_result"
    }
   ],
   "source": [
    "LOC_labeled[6000]"
   ]
  },
  {
   "cell_type": "markdown",
   "metadata": {},
   "source": [
    "#### Here we come up with our generated 'cleaned_sentences' list of words which we separated in the first section."
   ]
  },
  {
   "cell_type": "code",
   "execution_count": 57,
   "metadata": {},
   "outputs": [],
   "source": [
    "# Function for splitting a list into n-sized chunks. Used to split 'O' tags into a lesser sized list.\n",
    "\n",
    "def chunks(lst, n):\n",
    "    \"\"\"Yield successive n-sized chunks from lst.\"\"\"\n",
    "    for i in range(0, len(lst), n):\n",
    "        yield lst[i:i + n]"
   ]
  },
  {
   "cell_type": "code",
   "execution_count": 65,
   "metadata": {},
   "outputs": [
    {
     "name": "stdout",
     "output_type": "stream",
     "text": [
      "['др', 'алладемидова', 'кардиолог', 'терапевт', 'научу', 'управлять', 'своим', 'здоровьем', 'лечиться', 'правильно', 'врач', 'чувством', 'юмора', 'онлайн', 'курс', 'консультации', 'очно', 'онлайн', 'директ', 'ватсап', 'москоw', 'руссиан', 'хттпс', 'апи', 'wхацапп', 'cом', 'сенд', 'пхоне']\n"
     ]
    },
    {
     "data": {
      "text/plain": [
       "[(['др', 'алладемидова', 'кардиолог'], ['O', 'O', 'O']),\n",
       " (['терапевт', 'научу', 'управлять'], ['O', 'O', 'O']),\n",
       " (['своим', 'здоровьем', 'лечиться'], ['O', 'O', 'O']),\n",
       " (['правильно', 'врач', 'чувством'], ['O', 'O', 'O']),\n",
       " (['юмора', 'онлайн', 'курс'], ['O', 'O', 'O']),\n",
       " (['консультации', 'очно', 'онлайн'], ['O', 'O', 'O']),\n",
       " (['директ', 'ватсап', 'москоw'], ['O', 'O', 'O']),\n",
       " (['руссиан', 'хттпс', 'апи'], ['O', 'O', 'O']),\n",
       " (['wхацапп', 'cом', 'сенд'], ['O', 'O', 'O']),\n",
       " (['пхоне'], ['O'])]"
      ]
     },
     "execution_count": 65,
     "metadata": {},
     "output_type": "execute_result"
    }
   ],
   "source": [
    "# Example of splitting of one sentence into 3 sized chunks.\n",
    "no_entity_labeling = ['O'] * len(cleaned_sentences[2])\n",
    "print(cleaned_sentences[2])\n",
    "list(zip(list(chunks(cleaned_sentences[2], 3)), list(chunks(no_entity_labeling, 3))))"
   ]
  },
  {
   "cell_type": "code",
   "execution_count": 85,
   "metadata": {},
   "outputs": [],
   "source": [
    "# Splitting the O text data in a BIO murkup way using chunks.\n",
    "\n",
    "O_labeled = []\n",
    "\n",
    "for s in cleaned_sentences:\n",
    "    \n",
    "    no_entity_labeling = ['O'] * len(s)\n",
    "    \n",
    "    chunks_ = list(zip(list(chunks(s, 3)), list(chunks(no_entity_labeling, 3))))\n",
    "    \n",
    "    for cnk in chunks_:\n",
    "        O_labeled.append(cnk)"
   ]
  },
  {
   "cell_type": "code",
   "execution_count": 86,
   "metadata": {},
   "outputs": [
    {
     "data": {
      "text/plain": [
       "12419"
      ]
     },
     "execution_count": 86,
     "metadata": {},
     "output_type": "execute_result"
    }
   ],
   "source": [
    "len(cleaned_sentences)"
   ]
  },
  {
   "cell_type": "code",
   "execution_count": 87,
   "metadata": {},
   "outputs": [
    {
     "data": {
      "text/plain": [
       "(['круглосуточно', 'работаем', 'совесть'], ['O', 'O', 'O'])"
      ]
     },
     "execution_count": 87,
     "metadata": {},
     "output_type": "execute_result"
    }
   ],
   "source": [
    "O_labeled[42]"
   ]
  },
  {
   "cell_type": "code",
   "execution_count": 88,
   "metadata": {},
   "outputs": [
    {
     "data": {
      "text/plain": [
       "71259"
      ]
     },
     "execution_count": 88,
     "metadata": {},
     "output_type": "execute_result"
    }
   ],
   "source": [
    "len(O_labeled)"
   ]
  },
  {
   "cell_type": "code",
   "execution_count": 91,
   "metadata": {},
   "outputs": [
    {
     "data": {
      "text/plain": [
       "(71259, 820620)"
      ]
     },
     "execution_count": 91,
     "metadata": {},
     "output_type": "execute_result"
    }
   ],
   "source": [
    "# 71259 'O' vs 820620 'PER' - we need to balance the 'O' tagged samples\n",
    "len(O_labeled), len(PER_labeled)"
   ]
  },
  {
   "cell_type": "code",
   "execution_count": 92,
   "metadata": {},
   "outputs": [],
   "source": [
    "# Balancing our 'O' labeled data\n",
    "O_labeled = O_labeled * 9"
   ]
  },
  {
   "cell_type": "code",
   "execution_count": 93,
   "metadata": {},
   "outputs": [
    {
     "data": {
      "text/plain": [
       "641331"
      ]
     },
     "execution_count": 93,
     "metadata": {},
     "output_type": "execute_result"
    }
   ],
   "source": [
    "len(O_labeled)"
   ]
  },
  {
   "cell_type": "code",
   "execution_count": 94,
   "metadata": {},
   "outputs": [],
   "source": [
    "# Adding our tagged data to one list\n",
    "TRAIN_data = O_labeled + LOC_labeled + ORG_labeled + PER_labeled"
   ]
  },
  {
   "cell_type": "code",
   "execution_count": 95,
   "metadata": {},
   "outputs": [
    {
     "data": {
      "text/plain": [
       "1878093"
      ]
     },
     "execution_count": 95,
     "metadata": {},
     "output_type": "execute_result"
    }
   ],
   "source": [
    "len(TRAIN_data)"
   ]
  },
  {
   "cell_type": "code",
   "execution_count": 96,
   "metadata": {},
   "outputs": [],
   "source": [
    "# Shuffling our tagged data\n",
    "TRAIN_data = random.sample(TRAIN_data, len(TRAIN_data))"
   ]
  },
  {
   "cell_type": "code",
   "execution_count": 97,
   "metadata": {},
   "outputs": [
    {
     "data": {
      "text/plain": [
       "(['ильина', 'надежда', 'витальевна'], ['B-PER', 'I-PER', 'I-PER'])"
      ]
     },
     "execution_count": 97,
     "metadata": {},
     "output_type": "execute_result"
    }
   ],
   "source": [
    "TRAIN_data[58]"
   ]
  },
  {
   "cell_type": "code",
   "execution_count": 98,
   "metadata": {},
   "outputs": [
    {
     "data": {
      "text/plain": [
       "1878093"
      ]
     },
     "execution_count": 98,
     "metadata": {},
     "output_type": "execute_result"
    }
   ],
   "source": [
    "len_total_data = len(TRAIN_data)\n",
    "len_total_data"
   ]
  },
  {
   "cell_type": "code",
   "execution_count": 99,
   "metadata": {},
   "outputs": [
    {
     "data": {
      "text/plain": [
       "1314665"
      ]
     },
     "execution_count": 99,
     "metadata": {},
     "output_type": "execute_result"
    }
   ],
   "source": [
    "# The len of our data that will be used for train\n",
    "len_train_data = int(len_total_data/100*70) # 70 percent of total data\n",
    "len_train_data"
   ]
  },
  {
   "cell_type": "code",
   "execution_count": 80,
   "metadata": {},
   "outputs": [
    {
     "data": {
      "text/plain": [
       "187809"
      ]
     },
     "execution_count": 80,
     "metadata": {},
     "output_type": "execute_result"
    }
   ],
   "source": [
    "# The len of our data that will be used for validation\n",
    "len_validation_data = int(len_total_data/100*10) # 10 percent of total data\n",
    "len_validation_data"
   ]
  },
  {
   "cell_type": "code",
   "execution_count": 81,
   "metadata": {},
   "outputs": [],
   "source": [
    "# For validation we will use 10000 observations"
   ]
  },
  {
   "cell_type": "markdown",
   "metadata": {},
   "source": [
    "#### So now we are going to actually generate synthetic samples out of precomposed data. But first we need to learn how our original Instagram data is distributed. "
   ]
  },
  {
   "cell_type": "code",
   "execution_count": 136,
   "metadata": {},
   "outputs": [],
   "source": [
    "# Lets check for the distribution of original cleaned Instagram sentences."
   ]
  },
  {
   "cell_type": "code",
   "execution_count": 137,
   "metadata": {},
   "outputs": [],
   "source": [
    "# Splitting our list of strings into list of lists of strings \n",
    "\n",
    "instagram_prepared_for_ner_analysis = [i.split(' ') for i in instagram_prepared_for_ner]\n",
    "original_data = [len(x) for x in instagram_prepared_for_ner_analysis]"
   ]
  },
  {
   "cell_type": "code",
   "execution_count": 138,
   "metadata": {},
   "outputs": [
    {
     "data": {
      "text/plain": [
       "22.264836138175376"
      ]
     },
     "execution_count": 138,
     "metadata": {},
     "output_type": "execute_result"
    }
   ],
   "source": [
    "# Mean of all sentences\n",
    "\n",
    "mean_ = np.mean(original_data)\n",
    "mean_"
   ]
  },
  {
   "cell_type": "code",
   "execution_count": 139,
   "metadata": {},
   "outputs": [
    {
     "data": {
      "text/plain": [
       "7.566767806239375"
      ]
     },
     "execution_count": 139,
     "metadata": {},
     "output_type": "execute_result"
    }
   ],
   "source": [
    "# Standard deviation\n",
    "\n",
    "std_ = np.std(original_data)\n",
    "std_"
   ]
  },
  {
   "cell_type": "code",
   "execution_count": 140,
   "metadata": {},
   "outputs": [
    {
     "data": {
      "text/plain": [
       "222"
      ]
     },
     "execution_count": 140,
     "metadata": {},
     "output_type": "execute_result"
    }
   ],
   "source": [
    "# Max\n",
    "\n",
    "max_ = np.max(original_data)\n",
    "max_"
   ]
  },
  {
   "cell_type": "code",
   "execution_count": 141,
   "metadata": {},
   "outputs": [
    {
     "data": {
      "text/plain": [
       "2"
      ]
     },
     "execution_count": 141,
     "metadata": {},
     "output_type": "execute_result"
    }
   ],
   "source": [
    "# Min\n",
    "\n",
    "min_ = np.min(original_data)\n",
    "min_"
   ]
  },
  {
   "cell_type": "code",
   "execution_count": 397,
   "metadata": {},
   "outputs": [
    {
     "data": {
      "image/png": "[encoded data removed]",
      "text/plain": [
       "<Figure size 432x288 with 1 Axes>"
      ]
     },
     "metadata": {
      "needs_background": "light"
     },
     "output_type": "display_data"
    }
   ],
   "source": [
    "# Lets draw a distribution plot of our data\n",
    "\n",
    "sns.distplot(original_data, bins = 110, kde_kws={'label':'kde of given data'}, label = 'histogram')\n",
    "plt.axvline(mean_, color='r', linestyle='dashed', linewidth=0.6, label = 'mean')\n",
    "plt.axis([0, 50, 0, 0.15])\n",
    "plt.legend(loc = 1, prop={'size': 10})\n",
    "plt.show()"
   ]
  },
  {
   "cell_type": "markdown",
   "metadata": {},
   "source": [
    "#### Lets try to reproduce this distribution artificially.\n",
    "We can see that this is kind of a normal left-skewed distribution. Lets try to draw normal left-skewed distribution."
   ]
  },
  {
   "cell_type": "code",
   "execution_count": 396,
   "metadata": {},
   "outputs": [
    {
     "data": {
      "image/png": "[encoded data removed]",
      "text/plain": [
       "<Figure size 432x288 with 1 Axes>"
      ]
     },
     "metadata": {
      "needs_background": "light"
     },
     "output_type": "display_data"
    }
   ],
   "source": [
    "\n",
    "# Create some random data from a skewnorm. with a = -1.8 (meaning left-skewed),\n",
    "# loc = 28.2, scale = 7.88 and size = 12419 (the original size of our sample)\n",
    "\n",
    "random_data = skewnorm.rvs(a = -1.8, loc=28.2, scale=7.88, size=12419).astype(np.int)\n",
    "\n",
    "generated_data = []\n",
    "\n",
    "for random_ in random_data:\n",
    "\n",
    "    if random_ <= 2: # in case our random_ value is less than 2 (remamber we have a min of 2 in our original data)\n",
    "        random_ = abs(i) + 1 \n",
    "        generated_data.append(random_)\n",
    "    else:\n",
    "        generated_data.append(random_)\n",
    "        \n",
    "        \n",
    "mean_ = np.mean(generated_data)\n",
    "# draw a histogram and kde of the given data\n",
    "ax = sns.distplot(generated_data, bins = 35, kde_kws={'label':'kde of given data'}, label='histogram')\n",
    "plt.axvline(mean_, color='r', linestyle='dashed', linewidth=0.6, label = 'mean')\n",
    "plt.axis([0, 50, 0, 0.15])\n",
    "plt.legend(loc = 1, prop={'size': 10})\n",
    "plt.show()"
   ]
  },
  {
   "cell_type": "code",
   "execution_count": 364,
   "metadata": {},
   "outputs": [
    {
     "data": {
      "text/plain": [
       "22.281987277558578"
      ]
     },
     "execution_count": 364,
     "metadata": {},
     "output_type": "execute_result"
    }
   ],
   "source": [
    "np.mean(generated_data)"
   ]
  },
  {
   "cell_type": "code",
   "execution_count": 400,
   "metadata": {},
   "outputs": [
    {
     "data": {
      "text/plain": [
       "5.58734100202661"
      ]
     },
     "execution_count": 400,
     "metadata": {},
     "output_type": "execute_result"
    }
   ],
   "source": [
    "np.std(generated_data)"
   ]
  },
  {
   "cell_type": "code",
   "execution_count": 398,
   "metadata": {},
   "outputs": [
    {
     "data": {
      "text/plain": [
       "39"
      ]
     },
     "execution_count": 398,
     "metadata": {},
     "output_type": "execute_result"
    }
   ],
   "source": [
    "np.max(generated_data)"
   ]
  },
  {
   "cell_type": "code",
   "execution_count": 399,
   "metadata": {},
   "outputs": [
    {
     "data": {
      "text/plain": [
       "3"
      ]
     },
     "execution_count": 399,
     "metadata": {},
     "output_type": "execute_result"
    }
   ],
   "source": [
    "np.min(generated_data)"
   ]
  },
  {
   "cell_type": "markdown",
   "metadata": {},
   "source": [
    "We can see that mean of the original data (22.264) is close to the mean of the artificially generated data (22.281), the density is almost similar. The peak of density is around 0.079 in both datasets. The standard deviation is 5.587 which is quite low compared to 7.566 which we will gain by generating pecularities: in the original data there is a little hump in a roud of 5, and also there is a maximum of 222, but in our generated data we have a maximum of 39, meaning that the original data also have some long lasting right tail. We have to generate both of this observatons to fit the original data completely."
   ]
  },
  {
   "cell_type": "markdown",
   "metadata": {},
   "source": [
    "First lets add the left hump in around of 5."
   ]
  },
  {
   "cell_type": "code",
   "execution_count": 447,
   "metadata": {},
   "outputs": [
    {
     "data": {
      "image/png": "[encoded data removed]",
      "text/plain": [
       "<Figure size 432x288 with 1 Axes>"
      ]
     },
     "metadata": {
      "needs_background": "light"
     },
     "output_type": "display_data"
    }
   ],
   "source": [
    "\n",
    "\n",
    "random_data = skewnorm.rvs(a = -1.8, loc=28.2, scale=7.88, size=12419).astype(np.int) # this part stays the same\n",
    "\n",
    "generated_data = []\n",
    "\n",
    "for random_ in random_data:\n",
    "    \n",
    "    random_number = random.uniform(0,100) # introducing some random uniform number from 0 to 100\n",
    "    \n",
    "    if 99.6 > random_number > 96.3: # only in case random_number is between 99.6 and 96.3 the our little hump will rise.\n",
    "        number = int(np.random.normal(loc = 5.4, scale = 1.8)) # loc = 5.4, scale = 1.8\n",
    "        if number <= 2: # in case less than 2\n",
    "            number = abs(number) + 2\n",
    "        generated_data.append(number)\n",
    "\n",
    "    elif random_ <= 2: # in case less than 2\n",
    "        random_ = abs(i) + 1 \n",
    "        generated_data.append(random_)\n",
    "    else:\n",
    "        generated_data.append(random_)\n",
    "        \n",
    "        \n",
    "mean_ = np.mean(generated_data)\n",
    "# draw a histogram and kde of the given data\n",
    "ax = sns.distplot(generated_data, bins = 35, kde_kws={'label':'kde of given data'}, label='histogram')\n",
    "plt.axvline(mean_, color='r', linestyle='dashed', linewidth=0.6, label = 'mean')\n",
    "plt.axis([0, 50, 0, 0.15])\n",
    "plt.legend(loc = 1, prop={'size': 10})\n",
    "plt.show()"
   ]
  },
  {
   "cell_type": "markdown",
   "metadata": {},
   "source": [
    "From the graph we can see that our little 'hump' appeared in the left tail of our distribution."
   ]
  },
  {
   "cell_type": "markdown",
   "metadata": {},
   "source": [
    "Now lets try to generate long right tail. We will use chi-square distribution to achieve needed outcome."
   ]
  },
  {
   "cell_type": "markdown",
   "metadata": {},
   "source": [
    "We know that max of our artificially generated data so far is 39. Lets try to add some observations starting from 40, meaning loc in our chi2 = 40"
   ]
  },
  {
   "cell_type": "code",
   "execution_count": 451,
   "metadata": {},
   "outputs": [
    {
     "data": {
      "image/png": "[encoded data removed]",
      "text/plain": [
       "<Figure size 432x288 with 1 Axes>"
      ]
     },
     "metadata": {
      "needs_background": "light"
     },
     "output_type": "display_data"
    }
   ],
   "source": [
    "# Example\n",
    "\n",
    "data = chi2.rvs(2, loc = 40, scale = 15, size=100).astype(np.int)\n",
    "sns.distplot(data, bins = 215)\n",
    "plt.axis([0, 300, 0, 0.1])\n",
    "plt.show()"
   ]
  },
  {
   "cell_type": "code",
   "execution_count": 620,
   "metadata": {},
   "outputs": [
    {
     "data": {
      "image/png": "[encoded data removed]",
      "text/plain": [
       "<Figure size 432x288 with 1 Axes>"
      ]
     },
     "metadata": {
      "needs_background": "light"
     },
     "output_type": "display_data"
    }
   ],
   "source": [
    "\n",
    "\n",
    "random_data = skewnorm.rvs(a = -1.8, loc=28.2, scale=7.88, size=12419).astype(np.int) # this part stays the same\n",
    "\n",
    "generated_data = []\n",
    "\n",
    "for random_ in random_data:\n",
    "    \n",
    "    random_number = random.uniform(0,100) # some random uniform number from 0 to 100\n",
    "    \n",
    "    if 99.5 > random_number > 96.2:\n",
    "        number = int(np.random.normal(loc = 5.4, scale = 1.8))\n",
    "        if number <= 2:\n",
    "            number = abs(number) + 2\n",
    "        generated_data.append(number)\n",
    "        \n",
    "    elif random_number > 99.5:\n",
    "        number = chi2.rvs(2, loc = 40, scale = 15).astype(np.int) # added chi2 distribution for long right tail\n",
    "        generated_data.append(number)\n",
    "\n",
    "    elif random_ <= 2:\n",
    "        random_ = abs(i) + 1 \n",
    "        generated_data.append(random_)\n",
    "    else:\n",
    "        generated_data.append(random_)\n",
    "        \n",
    "        \n",
    "mean_ = np.mean(generated_data)\n",
    "# draw a histogram and kde of the given data\n",
    "ax = sns.distplot(generated_data, bins = 100, kde_kws={'label':'kde of given data'}, label='histogram')\n",
    "plt.axvline(mean_, color='r', linestyle='dashed', linewidth=0.6, label = 'mean')\n",
    "plt.axis([0, 50, 0, 0.15])\n",
    "plt.legend(loc = 1, prop={'size': 10})\n",
    "plt.show()"
   ]
  },
  {
   "cell_type": "markdown",
   "metadata": {},
   "source": [
    "Now we can see that mean and std are almost the same, as well as the number of observations above 40:"
   ]
  },
  {
   "cell_type": "code",
   "execution_count": 621,
   "metadata": {},
   "outputs": [
    {
     "data": {
      "text/plain": [
       "(22.264836138175376, 22.021579837346003)"
      ]
     },
     "execution_count": 621,
     "metadata": {},
     "output_type": "execute_result"
    }
   ],
   "source": [
    "np.mean(original_data), np.mean(generated_data)"
   ]
  },
  {
   "cell_type": "code",
   "execution_count": 622,
   "metadata": {},
   "outputs": [
    {
     "data": {
      "text/plain": [
       "(7.566767806239375, 7.308927531495185)"
      ]
     },
     "execution_count": 622,
     "metadata": {},
     "output_type": "execute_result"
    }
   ],
   "source": [
    "np.std(original_data), np.std(generated_data)"
   ]
  },
  {
   "cell_type": "code",
   "execution_count": 623,
   "metadata": {},
   "outputs": [
    {
     "data": {
      "text/plain": [
       "(222, 197)"
      ]
     },
     "execution_count": 623,
     "metadata": {},
     "output_type": "execute_result"
    }
   ],
   "source": [
    "np.max(original_data), np.max(generated_data)"
   ]
  },
  {
   "cell_type": "code",
   "execution_count": 624,
   "metadata": {},
   "outputs": [
    {
     "data": {
      "text/plain": [
       "(2, 2)"
      ]
     },
     "execution_count": 624,
     "metadata": {},
     "output_type": "execute_result"
    }
   ],
   "source": [
    "np.min(original_data), np.min(generated_data)"
   ]
  },
  {
   "cell_type": "code",
   "execution_count": 506,
   "metadata": {},
   "outputs": [
    {
     "data": {
      "text/plain": [
       "(62, 51)"
      ]
     },
     "execution_count": 506,
     "metadata": {},
     "output_type": "execute_result"
    }
   ],
   "source": [
    "# Number of observations above 40\n",
    "len([x for x in original_data if x>40]), len([x for x in generated_data if x>40])"
   ]
  },
  {
   "cell_type": "markdown",
   "metadata": {},
   "source": [
    "Now we can conclude that we have achieved a good approximation of the original distribution so that we can generate our synthetic dataset"
   ]
  },
  {
   "cell_type": "code",
   "execution_count": 507,
   "metadata": {},
   "outputs": [],
   "source": [
    "#test/validation data generation\n",
    "\n",
    "def random_distribution():\n",
    "        random_ = skewnorm.rvs(-1.8, loc=28.2, scale=7.88).astype(np.int)\n",
    "        random_number = random.uniform(1,100)\n",
    "        if 99.5 > random_number > 96.2:\n",
    "            random_ = int(np.random.normal(5.4, 1.8))\n",
    "            if random_ <= 2:\n",
    "                random_ = abs(random_) + 2\n",
    "        elif random_number > 99.5:\n",
    "            random_ = chi2.rvs(2, loc = 40, scale = 15).astype(np.int)\n",
    "        else:\n",
    "            if random_ <= 2:\n",
    "                random_ = abs(random_) + 1\n",
    "        return random_\n",
    "    \n",
    "def train_valid_test(start = 0, stop = 0, file_name = 'data.txt'):\n",
    "    global data_to_plot\n",
    "    data_to_plot = []\n",
    "    count = 0\n",
    "    random_ = random_distribution()\n",
    "    with open(f'{file_name}', 'w') as fo:\n",
    "        for i in TRAIN_data[start:stop]:\n",
    "                        \n",
    "            if count > random_:\n",
    "                fo.write(f'\\n')\n",
    "                count = 0\n",
    "                random_ = random_distribution()\n",
    "                data_to_plot.append(random_)\n",
    "                \n",
    "            for x,y in zip(i[0], i[1]):\n",
    "                fo.write(f'{x} {y}\\n')\n",
    "\n",
    "                count += 1"
   ]
  },
  {
   "cell_type": "code",
   "execution_count": 508,
   "metadata": {},
   "outputs": [
    {
     "data": {
      "image/png": "[encoded data removed]",
      "text/plain": [
       "<Figure size 432x288 with 1 Axes>"
      ]
     },
     "metadata": {
      "needs_background": "light"
     },
     "output_type": "display_data"
    }
   ],
   "source": [
    "# Generating train sample\n",
    "\n",
    "train_valid_test(start = 0, stop = len_train_data, file_name = 'train.txt')\n",
    "\n",
    "# draw a histogram and kde of the given data\n",
    "ax = sns.distplot(data_to_plot, bins = 225, kde_kws={'label':'kde of given data'}, label='histogram')\n",
    "plt.axis([0, 60, 0, 0.1])\n",
    "plt.show()"
   ]
  },
  {
   "cell_type": "code",
   "execution_count": 512,
   "metadata": {},
   "outputs": [
    {
     "data": {
      "image/png": "[encoded data removed]",
      "text/plain": [
       "<Figure size 432x288 with 1 Axes>"
      ]
     },
     "metadata": {
      "needs_background": "light"
     },
     "output_type": "display_data"
    }
   ],
   "source": [
    "# Generating validation sample\n",
    "\n",
    "train_valid_test(start = len_train_data, stop = len_train_data + len_validation_data, file_name = 'valid.txt')\n",
    "\n",
    "# draw a histogram and kde of the given data\n",
    "ax = sns.distplot(data_to_plot, bins = 225, kde_kws={'label':'kde of given data'}, label='histogram')\n",
    "plt.axis([0, 60, 0, 0.1])\n",
    "plt.show()"
   ]
  },
  {
   "cell_type": "code",
   "execution_count": 608,
   "metadata": {},
   "outputs": [
    {
     "data": {
      "image/png": "[encoded data removed]",
      "text/plain": [
       "<Figure size 432x288 with 1 Axes>"
      ]
     },
     "metadata": {
      "needs_background": "light"
     },
     "output_type": "display_data"
    }
   ],
   "source": [
    "# # Generating test sample == 10k\n",
    "train_valid_test(start = (len_train_data + len_validation_data), stop = (len_train_data + len_validation_data + 10000), file_name = 'test.txt')\n",
    "\n",
    "# draw a histogram and kde of the given data\n",
    "ax = sns.distplot(data_to_plot, bins = 100, kde_kws={'label':'kde of given data'}, label='histogram')\n",
    "plt.axis([0, 60, 0, 0.1])\n",
    "plt.show()"
   ]
  },
  {
   "cell_type": "code",
   "execution_count": null,
   "metadata": {},
   "outputs": [],
   "source": []
  },
  {
   "cell_type": "code",
   "execution_count": null,
   "metadata": {},
   "outputs": [],
   "source": []
  },
  {
   "cell_type": "code",
   "execution_count": null,
   "metadata": {},
   "outputs": [],
   "source": []
  },
  {
   "cell_type": "code",
   "execution_count": null,
   "metadata": {},
   "outputs": [],
   "source": []
  },
  {
   "cell_type": "code",
   "execution_count": null,
   "metadata": {},
   "outputs": [],
   "source": []
  }
 ],
 "metadata": {
  "kernelspec": {
   "display_name": "Python 3",
   "language": "python",
   "name": "python3"
  },
  "language_info": {
   "codemirror_mode": {
    "name": "ipython",
    "version": 3
   },
   "file_extension": ".py",
   "mimetype": "text/x-python",
   "name": "python",
   "nbconvert_exporter": "python",
   "pygments_lexer": "ipython3",
   "version": "3.8.5"
  }
 },
 "nbformat": 4,
 "nbformat_minor": 4
}
